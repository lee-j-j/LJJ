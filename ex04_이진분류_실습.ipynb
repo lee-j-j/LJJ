{
  "nbformat": 4,
  "nbformat_minor": 0,
  "metadata": {
    "colab": {
      "provenance": [],
      "mount_file_id": "1jf3zRPMoVNj05PNaZzBO4IYCjaKTxCL3",
      "authorship_tag": "ABX9TyO/f8NbdENQRNbAQry2oZMb",
      "include_colab_link": true
    },
    "kernelspec": {
      "name": "python3",
      "display_name": "Python 3"
    },
    "language_info": {
      "name": "python"
    }
  },
  "cells": [
    {
      "cell_type": "markdown",
      "metadata": {
        "id": "view-in-github",
        "colab_type": "text"
      },
      "source": [
        "<a href=\"https://colab.research.google.com/github/lee-j-j/LJJ/blob/main/ex04_%EC%9D%B4%EC%A7%84%EB%B6%84%EB%A5%98_%EC%8B%A4%EC%8A%B5.ipynb\" target=\"_parent\"><img src=\"https://colab.research.google.com/assets/colab-badge.svg\" alt=\"Open In Colab\"/></a>"
      ]
    },
    {
      "cell_type": "markdown",
      "source": [
        "### 목표\n",
        "- 직접 수집한 사진 데이터로 이진분류 딥러닝 모델을 만들어보자."
      ],
      "metadata": {
        "id": "RkLjBb8T0Hv3"
      }
    },
    {
      "cell_type": "code",
      "execution_count": 1,
      "metadata": {
        "colab": {
          "base_uri": "https://localhost:8080/"
        },
        "id": "cjUIL9PGw3Ik",
        "outputId": "9cd9d85d-6a0c-4439-e23b-ed7a86d15e28"
      },
      "outputs": [
        {
          "output_type": "stream",
          "name": "stdout",
          "text": [
            "/content/drive/MyDrive/Colab Notebooks/사물지능A\n"
          ]
        }
      ],
      "source": [
        "# 작업 디렉토리 변경\n",
        "%cd /content/drive/MyDrive/Colab Notebooks/사물지능A"
      ]
    },
    {
      "cell_type": "code",
      "source": [
        "# 현재 작업 디렉토리 확인\n",
        "!pwd"
      ],
      "metadata": {
        "colab": {
          "base_uri": "https://localhost:8080/"
        },
        "id": "VFUuqPTIxPsS",
        "outputId": "d9b4832a-9650-4238-de59-79617030ebcc"
      },
      "execution_count": 2,
      "outputs": [
        {
          "output_type": "stream",
          "name": "stdout",
          "text": [
            "/content/drive/MyDrive/Colab Notebooks/사물지능A\n"
          ]
        }
      ]
    },
    {
      "cell_type": "code",
      "source": [
        "# 압축풀기 (drive엔 압축파일 그대로 올리고 colab에서 압축풀기 추천!)\n",
        "# \\ + ' '(띄어쓰기) : 리눅스에서 띄어쓰기 인식 (이스케이프 시퀀스)\n",
        "!unzip ./data/img/class2-samples.zip -d ./data/img/class2"
      ],
      "metadata": {
        "colab": {
          "base_uri": "https://localhost:8080/"
        },
        "id": "IRph4aMIxPu5",
        "outputId": "e344974a-fca7-46cc-904f-da66948348a3"
      },
      "execution_count": 5,
      "outputs": [
        {
          "output_type": "stream",
          "name": "stdout",
          "text": [
            "Archive:  ./data/img/class2-samples.zip\n",
            " extracting: ./data/img/class2/0.jpg  \n",
            " extracting: ./data/img/class2/1.jpg  \n",
            " extracting: ./data/img/class2/2.jpg  \n",
            " extracting: ./data/img/class2/3.jpg  \n",
            " extracting: ./data/img/class2/4.jpg  \n",
            " extracting: ./data/img/class2/5.jpg  \n",
            " extracting: ./data/img/class2/6.jpg  \n",
            " extracting: ./data/img/class2/7.jpg  \n",
            " extracting: ./data/img/class2/8.jpg  \n",
            " extracting: ./data/img/class2/9.jpg  \n",
            " extracting: ./data/img/class2/10.jpg  \n",
            " extracting: ./data/img/class2/11.jpg  \n",
            " extracting: ./data/img/class2/12.jpg  \n",
            " extracting: ./data/img/class2/13.jpg  \n",
            " extracting: ./data/img/class2/14.jpg  \n",
            " extracting: ./data/img/class2/15.jpg  \n",
            " extracting: ./data/img/class2/16.jpg  \n",
            " extracting: ./data/img/class2/17.jpg  \n",
            " extracting: ./data/img/class2/18.jpg  \n",
            " extracting: ./data/img/class2/19.jpg  \n",
            " extracting: ./data/img/class2/20.jpg  \n",
            " extracting: ./data/img/class2/21.jpg  \n",
            " extracting: ./data/img/class2/22.jpg  \n",
            " extracting: ./data/img/class2/23.jpg  \n",
            " extracting: ./data/img/class2/24.jpg  \n",
            " extracting: ./data/img/class2/25.jpg  \n",
            " extracting: ./data/img/class2/26.jpg  \n",
            " extracting: ./data/img/class2/27.jpg  \n",
            " extracting: ./data/img/class2/28.jpg  \n",
            " extracting: ./data/img/class2/29.jpg  \n",
            " extracting: ./data/img/class2/30.jpg  \n",
            " extracting: ./data/img/class2/31.jpg  \n",
            " extracting: ./data/img/class2/32.jpg  \n",
            " extracting: ./data/img/class2/33.jpg  \n",
            " extracting: ./data/img/class2/34.jpg  \n",
            " extracting: ./data/img/class2/35.jpg  \n",
            " extracting: ./data/img/class2/36.jpg  \n",
            " extracting: ./data/img/class2/37.jpg  \n",
            " extracting: ./data/img/class2/38.jpg  \n",
            " extracting: ./data/img/class2/39.jpg  \n",
            " extracting: ./data/img/class2/40.jpg  \n",
            " extracting: ./data/img/class2/41.jpg  \n",
            " extracting: ./data/img/class2/42.jpg  \n",
            " extracting: ./data/img/class2/43.jpg  \n",
            " extracting: ./data/img/class2/44.jpg  \n",
            " extracting: ./data/img/class2/45.jpg  \n",
            " extracting: ./data/img/class2/46.jpg  \n",
            " extracting: ./data/img/class2/47.jpg  \n",
            " extracting: ./data/img/class2/48.jpg  \n",
            " extracting: ./data/img/class2/49.jpg  \n",
            " extracting: ./data/img/class2/50.jpg  \n",
            " extracting: ./data/img/class2/51.jpg  \n",
            " extracting: ./data/img/class2/52.jpg  \n",
            " extracting: ./data/img/class2/53.jpg  \n",
            " extracting: ./data/img/class2/54.jpg  \n",
            " extracting: ./data/img/class2/55.jpg  \n",
            " extracting: ./data/img/class2/56.jpg  \n",
            " extracting: ./data/img/class2/57.jpg  \n",
            " extracting: ./data/img/class2/58.jpg  \n",
            " extracting: ./data/img/class2/59.jpg  \n",
            " extracting: ./data/img/class2/60.jpg  \n",
            " extracting: ./data/img/class2/61.jpg  \n",
            " extracting: ./data/img/class2/62.jpg  \n",
            " extracting: ./data/img/class2/63.jpg  \n",
            " extracting: ./data/img/class2/64.jpg  \n",
            " extracting: ./data/img/class2/65.jpg  \n",
            " extracting: ./data/img/class2/66.jpg  \n",
            " extracting: ./data/img/class2/67.jpg  \n",
            " extracting: ./data/img/class2/68.jpg  \n",
            " extracting: ./data/img/class2/69.jpg  \n",
            " extracting: ./data/img/class2/70.jpg  \n",
            " extracting: ./data/img/class2/71.jpg  \n",
            " extracting: ./data/img/class2/72.jpg  \n",
            " extracting: ./data/img/class2/73.jpg  \n",
            " extracting: ./data/img/class2/74.jpg  \n",
            " extracting: ./data/img/class2/75.jpg  \n",
            " extracting: ./data/img/class2/76.jpg  \n",
            " extracting: ./data/img/class2/77.jpg  \n",
            " extracting: ./data/img/class2/78.jpg  \n",
            " extracting: ./data/img/class2/79.jpg  \n",
            " extracting: ./data/img/class2/80.jpg  \n",
            " extracting: ./data/img/class2/81.jpg  \n",
            " extracting: ./data/img/class2/82.jpg  \n",
            " extracting: ./data/img/class2/83.jpg  \n",
            " extracting: ./data/img/class2/84.jpg  \n",
            " extracting: ./data/img/class2/85.jpg  \n",
            " extracting: ./data/img/class2/86.jpg  \n",
            " extracting: ./data/img/class2/87.jpg  \n",
            " extracting: ./data/img/class2/88.jpg  \n",
            " extracting: ./data/img/class2/89.jpg  \n",
            " extracting: ./data/img/class2/90.jpg  \n",
            " extracting: ./data/img/class2/91.jpg  \n",
            " extracting: ./data/img/class2/92.jpg  \n",
            " extracting: ./data/img/class2/93.jpg  \n",
            " extracting: ./data/img/class2/94.jpg  \n",
            " extracting: ./data/img/class2/95.jpg  \n",
            " extracting: ./data/img/class2/96.jpg  \n",
            " extracting: ./data/img/class2/97.jpg  \n",
            " extracting: ./data/img/class2/98.jpg  \n",
            " extracting: ./data/img/class2/99.jpg  \n",
            " extracting: ./data/img/class2/100.jpg  \n",
            " extracting: ./data/img/class2/101.jpg  \n",
            " extracting: ./data/img/class2/102.jpg  \n",
            " extracting: ./data/img/class2/103.jpg  \n",
            " extracting: ./data/img/class2/104.jpg  \n",
            " extracting: ./data/img/class2/105.jpg  \n",
            " extracting: ./data/img/class2/106.jpg  \n",
            " extracting: ./data/img/class2/107.jpg  \n",
            " extracting: ./data/img/class2/108.jpg  \n",
            " extracting: ./data/img/class2/109.jpg  \n",
            " extracting: ./data/img/class2/110.jpg  \n",
            " extracting: ./data/img/class2/111.jpg  \n",
            " extracting: ./data/img/class2/112.jpg  \n",
            " extracting: ./data/img/class2/113.jpg  \n",
            " extracting: ./data/img/class2/114.jpg  \n",
            " extracting: ./data/img/class2/115.jpg  \n",
            " extracting: ./data/img/class2/116.jpg  \n",
            " extracting: ./data/img/class2/117.jpg  \n",
            " extracting: ./data/img/class2/118.jpg  \n",
            " extracting: ./data/img/class2/119.jpg  \n",
            " extracting: ./data/img/class2/120.jpg  \n",
            " extracting: ./data/img/class2/121.jpg  \n",
            " extracting: ./data/img/class2/122.jpg  \n",
            " extracting: ./data/img/class2/123.jpg  \n",
            " extracting: ./data/img/class2/124.jpg  \n",
            " extracting: ./data/img/class2/125.jpg  \n",
            " extracting: ./data/img/class2/126.jpg  \n",
            " extracting: ./data/img/class2/127.jpg  \n",
            " extracting: ./data/img/class2/128.jpg  \n",
            " extracting: ./data/img/class2/129.jpg  \n",
            " extracting: ./data/img/class2/130.jpg  \n",
            " extracting: ./data/img/class2/131.jpg  \n",
            " extracting: ./data/img/class2/132.jpg  \n",
            " extracting: ./data/img/class2/133.jpg  \n",
            " extracting: ./data/img/class2/134.jpg  \n",
            " extracting: ./data/img/class2/135.jpg  \n",
            " extracting: ./data/img/class2/136.jpg  \n",
            " extracting: ./data/img/class2/137.jpg  \n",
            " extracting: ./data/img/class2/138.jpg  \n",
            " extracting: ./data/img/class2/139.jpg  \n",
            " extracting: ./data/img/class2/140.jpg  \n",
            " extracting: ./data/img/class2/141.jpg  \n",
            " extracting: ./data/img/class2/142.jpg  \n",
            " extracting: ./data/img/class2/143.jpg  \n",
            " extracting: ./data/img/class2/144.jpg  \n",
            " extracting: ./data/img/class2/145.jpg  \n",
            " extracting: ./data/img/class2/146.jpg  \n",
            " extracting: ./data/img/class2/147.jpg  \n",
            " extracting: ./data/img/class2/148.jpg  \n",
            " extracting: ./data/img/class2/149.jpg  \n",
            " extracting: ./data/img/class2/150.jpg  \n",
            " extracting: ./data/img/class2/151.jpg  \n",
            " extracting: ./data/img/class2/152.jpg  \n",
            " extracting: ./data/img/class2/153.jpg  \n",
            " extracting: ./data/img/class2/154.jpg  \n",
            " extracting: ./data/img/class2/155.jpg  \n",
            " extracting: ./data/img/class2/156.jpg  \n",
            " extracting: ./data/img/class2/157.jpg  \n",
            " extracting: ./data/img/class2/158.jpg  \n",
            " extracting: ./data/img/class2/159.jpg  \n",
            " extracting: ./data/img/class2/160.jpg  \n",
            " extracting: ./data/img/class2/161.jpg  \n",
            " extracting: ./data/img/class2/162.jpg  \n",
            " extracting: ./data/img/class2/163.jpg  \n",
            " extracting: ./data/img/class2/164.jpg  \n",
            " extracting: ./data/img/class2/165.jpg  \n",
            " extracting: ./data/img/class2/166.jpg  \n",
            " extracting: ./data/img/class2/167.jpg  \n",
            " extracting: ./data/img/class2/168.jpg  \n",
            " extracting: ./data/img/class2/169.jpg  \n",
            " extracting: ./data/img/class2/170.jpg  \n",
            " extracting: ./data/img/class2/171.jpg  \n",
            " extracting: ./data/img/class2/172.jpg  \n",
            " extracting: ./data/img/class2/173.jpg  \n",
            " extracting: ./data/img/class2/174.jpg  \n",
            " extracting: ./data/img/class2/175.jpg  \n",
            " extracting: ./data/img/class2/176.jpg  \n",
            " extracting: ./data/img/class2/177.jpg  \n",
            " extracting: ./data/img/class2/178.jpg  \n",
            " extracting: ./data/img/class2/179.jpg  \n",
            " extracting: ./data/img/class2/180.jpg  \n",
            " extracting: ./data/img/class2/181.jpg  \n",
            " extracting: ./data/img/class2/182.jpg  \n",
            " extracting: ./data/img/class2/183.jpg  \n",
            " extracting: ./data/img/class2/184.jpg  \n",
            " extracting: ./data/img/class2/185.jpg  \n",
            " extracting: ./data/img/class2/186.jpg  \n",
            " extracting: ./data/img/class2/187.jpg  \n",
            " extracting: ./data/img/class2/188.jpg  \n",
            " extracting: ./data/img/class2/189.jpg  \n",
            " extracting: ./data/img/class2/190.jpg  \n",
            " extracting: ./data/img/class2/191.jpg  \n",
            " extracting: ./data/img/class2/192.jpg  \n",
            " extracting: ./data/img/class2/193.jpg  \n",
            " extracting: ./data/img/class2/194.jpg  \n",
            " extracting: ./data/img/class2/195.jpg  \n",
            " extracting: ./data/img/class2/196.jpg  \n",
            " extracting: ./data/img/class2/197.jpg  \n",
            " extracting: ./data/img/class2/198.jpg  \n",
            " extracting: ./data/img/class2/199.jpg  \n",
            " extracting: ./data/img/class2/200.jpg  \n",
            " extracting: ./data/img/class2/201.jpg  \n",
            " extracting: ./data/img/class2/202.jpg  \n",
            " extracting: ./data/img/class2/203.jpg  \n",
            " extracting: ./data/img/class2/204.jpg  \n",
            " extracting: ./data/img/class2/205.jpg  \n",
            " extracting: ./data/img/class2/206.jpg  \n",
            " extracting: ./data/img/class2/207.jpg  \n",
            " extracting: ./data/img/class2/208.jpg  \n",
            " extracting: ./data/img/class2/209.jpg  \n",
            " extracting: ./data/img/class2/210.jpg  \n",
            " extracting: ./data/img/class2/211.jpg  \n",
            " extracting: ./data/img/class2/212.jpg  \n",
            " extracting: ./data/img/class2/213.jpg  \n",
            " extracting: ./data/img/class2/214.jpg  \n",
            " extracting: ./data/img/class2/215.jpg  \n",
            " extracting: ./data/img/class2/216.jpg  \n",
            " extracting: ./data/img/class2/217.jpg  \n",
            " extracting: ./data/img/class2/218.jpg  \n",
            " extracting: ./data/img/class2/219.jpg  \n",
            " extracting: ./data/img/class2/220.jpg  \n",
            " extracting: ./data/img/class2/221.jpg  \n",
            " extracting: ./data/img/class2/222.jpg  \n",
            " extracting: ./data/img/class2/223.jpg  \n",
            " extracting: ./data/img/class2/224.jpg  \n",
            " extracting: ./data/img/class2/225.jpg  \n",
            " extracting: ./data/img/class2/226.jpg  \n",
            " extracting: ./data/img/class2/227.jpg  \n",
            " extracting: ./data/img/class2/228.jpg  \n",
            " extracting: ./data/img/class2/229.jpg  \n",
            " extracting: ./data/img/class2/230.jpg  \n",
            " extracting: ./data/img/class2/231.jpg  \n",
            " extracting: ./data/img/class2/232.jpg  \n",
            " extracting: ./data/img/class2/233.jpg  \n",
            " extracting: ./data/img/class2/234.jpg  \n",
            " extracting: ./data/img/class2/235.jpg  \n",
            " extracting: ./data/img/class2/236.jpg  \n",
            " extracting: ./data/img/class2/237.jpg  \n",
            " extracting: ./data/img/class2/238.jpg  \n",
            " extracting: ./data/img/class2/239.jpg  \n",
            " extracting: ./data/img/class2/240.jpg  \n",
            " extracting: ./data/img/class2/241.jpg  \n",
            " extracting: ./data/img/class2/242.jpg  \n",
            " extracting: ./data/img/class2/243.jpg  \n",
            " extracting: ./data/img/class2/244.jpg  \n",
            " extracting: ./data/img/class2/245.jpg  \n",
            " extracting: ./data/img/class2/246.jpg  \n",
            " extracting: ./data/img/class2/247.jpg  \n",
            " extracting: ./data/img/class2/248.jpg  \n",
            " extracting: ./data/img/class2/249.jpg  \n"
          ]
        }
      ]
    },
    {
      "cell_type": "code",
      "source": [
        "# 폴더이름 변경\n",
        "!mv ./data/img/class1-samples ./data/img/class1"
      ],
      "metadata": {
        "id": "zxVslzsZxPy2"
      },
      "execution_count": 4,
      "outputs": []
    },
    {
      "cell_type": "markdown",
      "source": [
        "### 데이터 로딩"
      ],
      "metadata": {
        "id": "otSfnTIg8TeD"
      }
    },
    {
      "cell_type": "code",
      "source": [
        "import cv2 # 파이썬 이미지 라이브러리 대표\n",
        "import os # 파이썬으로 시스템 정보를 확인하고 제어하는 라이브러리\n",
        "import matplotlib.pyplot as plt # 시각화 라이브러리\n",
        "import numpy as np\n",
        "from tqdm import tqdm"
      ],
      "metadata": {
        "id": "VgwPItkVxP14"
      },
      "execution_count": 23,
      "outputs": []
    },
    {
      "cell_type": "code",
      "source": [
        "# 특정 폴더 밑에 있는 파일이나 폴더명 얻어내기\n",
        "class1_file_names = os.listdir(\"./data/img/class1\") # 리눅스 명령어 !ls 와 비슷\n",
        "class1_file_names"
      ],
      "metadata": {
        "id": "ClyvXguwxP4W"
      },
      "execution_count": null,
      "outputs": []
    },
    {
      "cell_type": "code",
      "source": [
        "class2_file_names = os.listdir(\"./data/img/class2\")\n",
        "class2_file_names"
      ],
      "metadata": {
        "id": "Aws08mnr8zDH"
      },
      "execution_count": null,
      "outputs": []
    },
    {
      "cell_type": "code",
      "source": [
        "# 사진 한장 오픈\n",
        "img_path = \"./data/img/class1/\" + class1_file_names[0]\n",
        "img_path"
      ],
      "metadata": {
        "colab": {
          "base_uri": "https://localhost:8080/",
          "height": 35
        },
        "id": "xK5UHT8P8zFA",
        "outputId": "8d5aded0-2067-47cc-e79f-1a9a43756ead"
      },
      "execution_count": 14,
      "outputs": [
        {
          "output_type": "execute_result",
          "data": {
            "text/plain": [
              "'./data/img/class1/7.jpg'"
            ],
            "application/vnd.google.colaboratory.intrinsic+json": {
              "type": "string"
            }
          },
          "metadata": {},
          "execution_count": 14
        }
      ]
    },
    {
      "cell_type": "code",
      "source": [
        "img_data = cv2.imread(img_path) # 이미지를 읽어들이는 함수 (BGR 순서로 읽어들임!)\n",
        "img_data_rgb = cv2.cvtColor(img_data,cv2.COLOR_BGR2RGB)\n",
        "img_data.shape # (224, 224, 3) → 세로, 가로, 한 픽셀당 데이터 갯수(RGB)"
      ],
      "metadata": {
        "colab": {
          "base_uri": "https://localhost:8080/"
        },
        "id": "vfL2Rkwa8zHJ",
        "outputId": "8a1039cc-14a7-4c83-aaa0-bc1af36ee806"
      },
      "execution_count": 18,
      "outputs": [
        {
          "output_type": "execute_result",
          "data": {
            "text/plain": [
              "(224, 224, 3)"
            ]
          },
          "metadata": {},
          "execution_count": 18
        }
      ]
    },
    {
      "cell_type": "code",
      "source": [
        "plt.imshow(img_data_rgb) # (RGB 순서로 인식)"
      ],
      "metadata": {
        "id": "UhtjE7fV-bhR"
      },
      "execution_count": null,
      "outputs": []
    },
    {
      "cell_type": "code",
      "source": [
        "imgs_class1 = [] # 전체 이미지가 들어갈 리스트\n",
        "for fname in class1_file_names :\n",
        "  img_path = \"./data/img/class1/\" + fname\n",
        "  img_data = cv2.imread(img_path)\n",
        "  img_data_rgb = cv2.cvtColor(img_data,cv2.COLOR_BGR2RGB)\n",
        "  imgs_class1.append(img_data_rgb)\n",
        "\n",
        "# 전체 리스트를 numpy 타입으로 변경\n",
        "imgs_class1 = np.array(imgs_class1)"
      ],
      "metadata": {
        "id": "n2iRq1t2-boH"
      },
      "execution_count": 22,
      "outputs": []
    },
    {
      "cell_type": "code",
      "source": [
        "imgs_class1.shape # (250, 244, 244, 3) → 샘플 갯수, 세로 크기, 가로 크기, 컬러(RGB)"
      ],
      "metadata": {
        "colab": {
          "base_uri": "https://localhost:8080/"
        },
        "id": "OdowOiQT-bra",
        "outputId": "018a0748-ca6a-41f6-e4f0-49e2f0dd1064"
      },
      "execution_count": 24,
      "outputs": [
        {
          "output_type": "execute_result",
          "data": {
            "text/plain": [
              "(250, 224, 224, 3)"
            ]
          },
          "metadata": {},
          "execution_count": 24
        }
      ]
    },
    {
      "cell_type": "code",
      "source": [
        "imgs_class2 = [] # 전체 이미지가 들어갈 리스트\n",
        "for fname in tqdm(class2_file_names) :\n",
        "  img_path = \"./data/img/class2/\" + fname\n",
        "  img_data = cv2.imread(img_path)\n",
        "  img_data_rgb = cv2.cvtColor(img_data,cv2.COLOR_BGR2RGB)\n",
        "  imgs_class2.append(img_data_rgb)\n",
        "\n",
        "# 전체 리스트를 numpy 타입으로 변경\n",
        "imgs_class2 = np.array(imgs_class2)"
      ],
      "metadata": {
        "colab": {
          "base_uri": "https://localhost:8080/"
        },
        "id": "XgHWkw-C-btm",
        "outputId": "c1046236-c99c-4448-b2a0-0d5c0a1625ae"
      },
      "execution_count": 25,
      "outputs": [
        {
          "output_type": "stream",
          "name": "stderr",
          "text": [
            "100%|██████████| 250/250 [00:00<00:00, 258.08it/s]\n"
          ]
        }
      ]
    },
    {
      "cell_type": "code",
      "source": [
        "imgs_class2.shape"
      ],
      "metadata": {
        "colab": {
          "base_uri": "https://localhost:8080/"
        },
        "id": "UDDCFRlh-bvB",
        "outputId": "e4ba646f-eddd-4018-aab8-73d5e258e90d"
      },
      "execution_count": 26,
      "outputs": [
        {
          "output_type": "execute_result",
          "data": {
            "text/plain": [
              "(250, 224, 224, 3)"
            ]
          },
          "metadata": {},
          "execution_count": 26
        }
      ]
    },
    {
      "cell_type": "markdown",
      "source": [
        "### 모델링\n",
        "- 모델설계\n",
        "- 모델학습\n",
        "- 모델예측\n",
        "- 모델평가"
      ],
      "metadata": {
        "id": "wN3FvF8ADu1A"
      }
    },
    {
      "cell_type": "code",
      "source": [
        "from sklearn.model_selection import train_test_split"
      ],
      "metadata": {
        "id": "7YeZYBgT-bx1"
      },
      "execution_count": 28,
      "outputs": []
    },
    {
      "cell_type": "code",
      "source": [
        "# class1 과 class2를 합쳐서 문제와 답 만들기\n",
        "X = np.concatenate([imgs_class1, imgs_class2])\n",
        "X.shape"
      ],
      "metadata": {
        "colab": {
          "base_uri": "https://localhost:8080/"
        },
        "id": "8RT4zFLyEKwF",
        "outputId": "cd2705b0-f15e-4f9f-d862-235a2b196a7f"
      },
      "execution_count": 29,
      "outputs": [
        {
          "output_type": "execute_result",
          "data": {
            "text/plain": [
              "(500, 224, 224, 3)"
            ]
          },
          "metadata": {},
          "execution_count": 29
        }
      ]
    },
    {
      "cell_type": "code",
      "source": [
        "y = np.array([0]*250 + [1]*250)\n",
        "y.shape"
      ],
      "metadata": {
        "colab": {
          "base_uri": "https://localhost:8080/"
        },
        "id": "mAgAoizgEmfb",
        "outputId": "705a58a1-9fe8-4e95-c2ff-596f7951c2a3"
      },
      "execution_count": 30,
      "outputs": [
        {
          "output_type": "execute_result",
          "data": {
            "text/plain": [
              "(500,)"
            ]
          },
          "metadata": {},
          "execution_count": 30
        }
      ]
    },
    {
      "cell_type": "code",
      "source": [
        "X_train, X_test, y_train, y_test = train_test_split(X, y, random_state = 904, test_size = 0.2)"
      ],
      "metadata": {
        "id": "rSilzZ57DQVC"
      },
      "execution_count": 32,
      "outputs": []
    },
    {
      "cell_type": "code",
      "source": [
        "from tensorflow.keras.models import Sequential # 신경망의 뼈대\n",
        "from tensorflow.keras.layers import Dense, InputLayer, Flatten # Flatten : 들어오는 레이어를 1차원으로 평평하게 만들어 줌"
      ],
      "metadata": {
        "id": "Mzhxr-6T-b53"
      },
      "execution_count": 34,
      "outputs": []
    },
    {
      "cell_type": "code",
      "source": [
        "# 모델 설계\n",
        "model = Sequential() # 뼈대 생성\n",
        "\n",
        "# 입력층\n",
        "model.add(InputLayer(input_shape=(224,224,3))) # 'InputLayer' 생략하고 input_dim을 추가해도 됨\n",
        "model.add(Flatten())\n",
        "\n",
        "# 중간층(은닉층)\n",
        "model.add(Dense(units=68, activation = \"sigmoid\"))\n",
        "model.add(Dense(units=128, activation = \"sigmoid\"))\n",
        "model.add(Dense(units=68, activation = \"sigmoid\"))\n",
        "\n",
        "# 출력층\n",
        "model.add(Dense(1, activation = \"sigmoid\")) # 'units = ' 생략 가능"
      ],
      "metadata": {
        "id": "WiDvL4HmF61z"
      },
      "execution_count": 41,
      "outputs": []
    },
    {
      "cell_type": "code",
      "source": [
        "# 모델 학습\n",
        "model.compile(loss = \"binary_crossentropy\", optimizer = \"adam\", metrics = ['accuracy'])\n",
        "my_history = model.fit(X_train, y_train, validation_split = 0.2, epochs = 100) # validation_split : 훈련 데이터의 일부를 검증용 데이터로 분할\n",
        "# batch_size의 디폴트값 = 32"
      ],
      "metadata": {
        "colab": {
          "base_uri": "https://localhost:8080/"
        },
        "id": "D3YjRt0EF64r",
        "outputId": "5e882bbf-db04-4abb-ab28-ea397dab9b38"
      },
      "execution_count": 42,
      "outputs": [
        {
          "output_type": "stream",
          "name": "stdout",
          "text": [
            "Epoch 1/100\n",
            "10/10 [==============================] - 5s 388ms/step - loss: 0.6987 - accuracy: 0.5031 - val_loss: 0.7077 - val_accuracy: 0.4625\n",
            "Epoch 2/100\n",
            "10/10 [==============================] - 2s 206ms/step - loss: 0.6943 - accuracy: 0.5281 - val_loss: 0.6970 - val_accuracy: 0.4625\n",
            "Epoch 3/100\n",
            "10/10 [==============================] - 2s 242ms/step - loss: 0.6951 - accuracy: 0.4844 - val_loss: 0.6971 - val_accuracy: 0.4625\n",
            "Epoch 4/100\n",
            "10/10 [==============================] - 2s 230ms/step - loss: 0.6947 - accuracy: 0.5281 - val_loss: 0.6997 - val_accuracy: 0.4625\n",
            "Epoch 5/100\n",
            "10/10 [==============================] - 3s 253ms/step - loss: 0.6932 - accuracy: 0.5281 - val_loss: 0.7058 - val_accuracy: 0.4625\n",
            "Epoch 6/100\n",
            "10/10 [==============================] - 3s 333ms/step - loss: 0.6937 - accuracy: 0.5281 - val_loss: 0.7009 - val_accuracy: 0.4625\n",
            "Epoch 7/100\n",
            "10/10 [==============================] - 3s 297ms/step - loss: 0.6924 - accuracy: 0.5281 - val_loss: 0.6967 - val_accuracy: 0.4625\n",
            "Epoch 8/100\n",
            "10/10 [==============================] - 2s 247ms/step - loss: 0.6951 - accuracy: 0.5281 - val_loss: 0.7030 - val_accuracy: 0.4625\n",
            "Epoch 9/100\n",
            "10/10 [==============================] - 2s 230ms/step - loss: 0.6935 - accuracy: 0.5281 - val_loss: 0.6972 - val_accuracy: 0.4625\n",
            "Epoch 10/100\n",
            "10/10 [==============================] - 2s 213ms/step - loss: 0.6928 - accuracy: 0.5281 - val_loss: 0.7001 - val_accuracy: 0.4625\n",
            "Epoch 11/100\n",
            "10/10 [==============================] - 2s 207ms/step - loss: 0.6926 - accuracy: 0.5281 - val_loss: 0.6990 - val_accuracy: 0.4625\n",
            "Epoch 12/100\n",
            "10/10 [==============================] - 3s 351ms/step - loss: 0.6942 - accuracy: 0.5281 - val_loss: 0.7009 - val_accuracy: 0.4625\n",
            "Epoch 13/100\n",
            "10/10 [==============================] - 2s 222ms/step - loss: 0.6939 - accuracy: 0.4906 - val_loss: 0.6937 - val_accuracy: 0.4625\n",
            "Epoch 14/100\n",
            "10/10 [==============================] - 2s 248ms/step - loss: 0.7002 - accuracy: 0.5281 - val_loss: 0.7119 - val_accuracy: 0.4625\n",
            "Epoch 15/100\n",
            "10/10 [==============================] - 2s 237ms/step - loss: 0.6926 - accuracy: 0.5219 - val_loss: 0.6924 - val_accuracy: 0.5375\n",
            "Epoch 16/100\n",
            "10/10 [==============================] - 2s 235ms/step - loss: 0.6947 - accuracy: 0.4906 - val_loss: 0.7013 - val_accuracy: 0.4625\n",
            "Epoch 17/100\n",
            "10/10 [==============================] - 3s 286ms/step - loss: 0.7028 - accuracy: 0.5281 - val_loss: 0.7034 - val_accuracy: 0.4625\n",
            "Epoch 18/100\n",
            "10/10 [==============================] - 3s 345ms/step - loss: 0.6915 - accuracy: 0.5281 - val_loss: 0.6942 - val_accuracy: 0.4625\n",
            "Epoch 19/100\n",
            "10/10 [==============================] - 2s 249ms/step - loss: 0.6932 - accuracy: 0.5031 - val_loss: 0.6949 - val_accuracy: 0.4625\n",
            "Epoch 20/100\n",
            "10/10 [==============================] - 3s 253ms/step - loss: 0.6935 - accuracy: 0.5281 - val_loss: 0.7074 - val_accuracy: 0.4625\n",
            "Epoch 21/100\n",
            "10/10 [==============================] - 3s 256ms/step - loss: 0.6960 - accuracy: 0.5219 - val_loss: 0.6942 - val_accuracy: 0.4625\n",
            "Epoch 22/100\n",
            "10/10 [==============================] - 2s 233ms/step - loss: 0.6936 - accuracy: 0.5281 - val_loss: 0.7066 - val_accuracy: 0.4625\n",
            "Epoch 23/100\n",
            "10/10 [==============================] - 3s 346ms/step - loss: 0.6932 - accuracy: 0.5281 - val_loss: 0.6964 - val_accuracy: 0.4625\n",
            "Epoch 24/100\n",
            "10/10 [==============================] - 2s 214ms/step - loss: 0.6926 - accuracy: 0.5156 - val_loss: 0.6947 - val_accuracy: 0.4625\n",
            "Epoch 25/100\n",
            "10/10 [==============================] - 2s 210ms/step - loss: 0.6934 - accuracy: 0.5281 - val_loss: 0.6969 - val_accuracy: 0.4625\n",
            "Epoch 26/100\n",
            "10/10 [==============================] - 3s 261ms/step - loss: 0.6929 - accuracy: 0.5281 - val_loss: 0.7027 - val_accuracy: 0.4625\n",
            "Epoch 27/100\n",
            "10/10 [==============================] - 2s 236ms/step - loss: 0.6961 - accuracy: 0.4469 - val_loss: 0.6938 - val_accuracy: 0.4625\n",
            "Epoch 28/100\n",
            "10/10 [==============================] - 3s 300ms/step - loss: 0.6945 - accuracy: 0.5281 - val_loss: 0.7048 - val_accuracy: 0.4625\n",
            "Epoch 29/100\n",
            "10/10 [==============================] - 3s 345ms/step - loss: 0.6945 - accuracy: 0.5281 - val_loss: 0.6958 - val_accuracy: 0.4625\n",
            "Epoch 30/100\n",
            "10/10 [==============================] - 2s 239ms/step - loss: 0.6921 - accuracy: 0.5281 - val_loss: 0.7026 - val_accuracy: 0.4625\n",
            "Epoch 31/100\n",
            "10/10 [==============================] - 2s 249ms/step - loss: 0.6940 - accuracy: 0.5281 - val_loss: 0.6963 - val_accuracy: 0.4625\n",
            "Epoch 32/100\n",
            "10/10 [==============================] - 2s 198ms/step - loss: 0.6925 - accuracy: 0.5281 - val_loss: 0.6968 - val_accuracy: 0.4625\n",
            "Epoch 33/100\n",
            "10/10 [==============================] - 2s 207ms/step - loss: 0.6918 - accuracy: 0.5281 - val_loss: 0.7023 - val_accuracy: 0.4625\n",
            "Epoch 34/100\n",
            "10/10 [==============================] - 3s 311ms/step - loss: 0.6947 - accuracy: 0.5281 - val_loss: 0.6953 - val_accuracy: 0.4625\n",
            "Epoch 35/100\n",
            "10/10 [==============================] - 3s 323ms/step - loss: 0.6976 - accuracy: 0.5281 - val_loss: 0.7114 - val_accuracy: 0.4625\n",
            "Epoch 36/100\n",
            "10/10 [==============================] - 3s 260ms/step - loss: 0.6902 - accuracy: 0.5281 - val_loss: 0.6935 - val_accuracy: 0.4625\n",
            "Epoch 37/100\n",
            "10/10 [==============================] - 2s 235ms/step - loss: 0.6976 - accuracy: 0.4469 - val_loss: 0.6921 - val_accuracy: 0.5375\n",
            "Epoch 38/100\n",
            "10/10 [==============================] - 2s 221ms/step - loss: 0.6935 - accuracy: 0.5281 - val_loss: 0.7164 - val_accuracy: 0.4625\n",
            "Epoch 39/100\n",
            "10/10 [==============================] - 3s 279ms/step - loss: 0.6934 - accuracy: 0.5281 - val_loss: 0.7000 - val_accuracy: 0.4625\n",
            "Epoch 40/100\n",
            "10/10 [==============================] - 4s 365ms/step - loss: 0.6927 - accuracy: 0.5281 - val_loss: 0.6944 - val_accuracy: 0.4625\n",
            "Epoch 41/100\n",
            "10/10 [==============================] - 2s 239ms/step - loss: 0.6923 - accuracy: 0.5281 - val_loss: 0.7001 - val_accuracy: 0.4625\n",
            "Epoch 42/100\n",
            "10/10 [==============================] - 2s 207ms/step - loss: 0.6948 - accuracy: 0.5281 - val_loss: 0.7052 - val_accuracy: 0.4625\n",
            "Epoch 43/100\n",
            "10/10 [==============================] - 2s 235ms/step - loss: 0.6959 - accuracy: 0.4719 - val_loss: 0.6930 - val_accuracy: 0.5375\n",
            "Epoch 44/100\n",
            "10/10 [==============================] - 2s 206ms/step - loss: 0.6917 - accuracy: 0.5156 - val_loss: 0.7022 - val_accuracy: 0.4625\n",
            "Epoch 45/100\n",
            "10/10 [==============================] - 3s 306ms/step - loss: 0.6955 - accuracy: 0.5281 - val_loss: 0.7066 - val_accuracy: 0.4625\n",
            "Epoch 46/100\n",
            "10/10 [==============================] - 3s 335ms/step - loss: 0.6970 - accuracy: 0.4656 - val_loss: 0.6935 - val_accuracy: 0.4625\n",
            "Epoch 47/100\n",
            "10/10 [==============================] - 3s 262ms/step - loss: 0.6926 - accuracy: 0.5281 - val_loss: 0.7011 - val_accuracy: 0.4625\n",
            "Epoch 48/100\n",
            "10/10 [==============================] - 2s 227ms/step - loss: 0.6996 - accuracy: 0.5281 - val_loss: 0.7061 - val_accuracy: 0.4625\n",
            "Epoch 49/100\n",
            "10/10 [==============================] - 3s 260ms/step - loss: 0.6938 - accuracy: 0.4906 - val_loss: 0.6920 - val_accuracy: 0.5375\n",
            "Epoch 50/100\n",
            "10/10 [==============================] - 3s 296ms/step - loss: 0.6930 - accuracy: 0.5094 - val_loss: 0.7001 - val_accuracy: 0.4625\n",
            "Epoch 51/100\n",
            "10/10 [==============================] - 4s 355ms/step - loss: 0.6923 - accuracy: 0.5281 - val_loss: 0.7044 - val_accuracy: 0.4625\n",
            "Epoch 52/100\n",
            "10/10 [==============================] - 2s 198ms/step - loss: 0.6931 - accuracy: 0.5281 - val_loss: 0.6952 - val_accuracy: 0.4625\n",
            "Epoch 53/100\n",
            "10/10 [==============================] - 2s 199ms/step - loss: 0.6930 - accuracy: 0.5281 - val_loss: 0.7010 - val_accuracy: 0.4625\n",
            "Epoch 54/100\n",
            "10/10 [==============================] - 2s 230ms/step - loss: 0.6922 - accuracy: 0.5281 - val_loss: 0.7014 - val_accuracy: 0.4625\n",
            "Epoch 55/100\n",
            "10/10 [==============================] - 2s 249ms/step - loss: 0.6943 - accuracy: 0.5281 - val_loss: 0.7015 - val_accuracy: 0.4625\n",
            "Epoch 56/100\n",
            "10/10 [==============================] - 3s 310ms/step - loss: 0.6933 - accuracy: 0.5281 - val_loss: 0.6968 - val_accuracy: 0.4625\n",
            "Epoch 57/100\n",
            "10/10 [==============================] - 3s 304ms/step - loss: 0.6923 - accuracy: 0.5281 - val_loss: 0.7003 - val_accuracy: 0.4625\n",
            "Epoch 58/100\n",
            "10/10 [==============================] - 2s 207ms/step - loss: 0.6927 - accuracy: 0.5281 - val_loss: 0.6971 - val_accuracy: 0.4625\n",
            "Epoch 59/100\n",
            "10/10 [==============================] - 2s 210ms/step - loss: 0.6930 - accuracy: 0.5281 - val_loss: 0.7014 - val_accuracy: 0.4625\n",
            "Epoch 60/100\n",
            "10/10 [==============================] - 2s 248ms/step - loss: 0.6924 - accuracy: 0.5281 - val_loss: 0.6972 - val_accuracy: 0.4625\n",
            "Epoch 61/100\n",
            "10/10 [==============================] - 2s 226ms/step - loss: 0.6934 - accuracy: 0.5281 - val_loss: 0.6974 - val_accuracy: 0.4625\n",
            "Epoch 62/100\n",
            "10/10 [==============================] - 3s 315ms/step - loss: 0.6920 - accuracy: 0.5281 - val_loss: 0.7014 - val_accuracy: 0.4625\n",
            "Epoch 63/100\n",
            "10/10 [==============================] - 3s 294ms/step - loss: 0.6939 - accuracy: 0.5281 - val_loss: 0.7000 - val_accuracy: 0.4625\n",
            "Epoch 64/100\n",
            "10/10 [==============================] - 2s 231ms/step - loss: 0.6927 - accuracy: 0.5281 - val_loss: 0.6964 - val_accuracy: 0.4625\n",
            "Epoch 65/100\n",
            "10/10 [==============================] - 3s 258ms/step - loss: 0.6964 - accuracy: 0.5281 - val_loss: 0.7077 - val_accuracy: 0.4625\n",
            "Epoch 66/100\n",
            "10/10 [==============================] - 2s 228ms/step - loss: 0.6951 - accuracy: 0.4781 - val_loss: 0.6939 - val_accuracy: 0.4625\n",
            "Epoch 67/100\n",
            "10/10 [==============================] - 2s 233ms/step - loss: 0.6965 - accuracy: 0.5281 - val_loss: 0.7064 - val_accuracy: 0.4625\n",
            "Epoch 68/100\n",
            "10/10 [==============================] - 4s 382ms/step - loss: 0.6951 - accuracy: 0.5281 - val_loss: 0.6956 - val_accuracy: 0.4625\n",
            "Epoch 69/100\n",
            "10/10 [==============================] - 3s 255ms/step - loss: 0.6919 - accuracy: 0.5281 - val_loss: 0.7015 - val_accuracy: 0.4625\n",
            "Epoch 70/100\n",
            "10/10 [==============================] - 3s 261ms/step - loss: 0.6927 - accuracy: 0.5281 - val_loss: 0.7020 - val_accuracy: 0.4625\n",
            "Epoch 71/100\n",
            "10/10 [==============================] - 2s 230ms/step - loss: 0.6918 - accuracy: 0.5281 - val_loss: 0.6998 - val_accuracy: 0.4625\n",
            "Epoch 72/100\n",
            "10/10 [==============================] - 3s 253ms/step - loss: 0.6946 - accuracy: 0.5281 - val_loss: 0.7022 - val_accuracy: 0.4625\n",
            "Epoch 73/100\n",
            "10/10 [==============================] - 3s 343ms/step - loss: 0.6940 - accuracy: 0.4656 - val_loss: 0.6926 - val_accuracy: 0.5375\n",
            "Epoch 74/100\n",
            "10/10 [==============================] - 3s 260ms/step - loss: 0.6930 - accuracy: 0.4906 - val_loss: 0.7001 - val_accuracy: 0.4625\n",
            "Epoch 75/100\n",
            "10/10 [==============================] - 2s 210ms/step - loss: 0.6927 - accuracy: 0.5281 - val_loss: 0.7038 - val_accuracy: 0.4625\n",
            "Epoch 76/100\n",
            "10/10 [==============================] - 2s 217ms/step - loss: 0.6922 - accuracy: 0.5281 - val_loss: 0.7006 - val_accuracy: 0.4625\n",
            "Epoch 77/100\n",
            "10/10 [==============================] - 2s 222ms/step - loss: 0.6924 - accuracy: 0.5281 - val_loss: 0.6995 - val_accuracy: 0.4625\n",
            "Epoch 78/100\n",
            "10/10 [==============================] - 3s 252ms/step - loss: 0.6917 - accuracy: 0.5281 - val_loss: 0.6949 - val_accuracy: 0.4625\n",
            "Epoch 79/100\n",
            "10/10 [==============================] - 3s 328ms/step - loss: 0.6926 - accuracy: 0.5281 - val_loss: 0.6989 - val_accuracy: 0.4625\n",
            "Epoch 80/100\n",
            "10/10 [==============================] - 3s 248ms/step - loss: 0.6921 - accuracy: 0.5281 - val_loss: 0.7005 - val_accuracy: 0.4625\n",
            "Epoch 81/100\n",
            "10/10 [==============================] - 2s 233ms/step - loss: 0.6959 - accuracy: 0.4844 - val_loss: 0.6950 - val_accuracy: 0.4625\n",
            "Epoch 82/100\n",
            "10/10 [==============================] - 3s 252ms/step - loss: 0.6919 - accuracy: 0.5281 - val_loss: 0.7030 - val_accuracy: 0.4625\n",
            "Epoch 83/100\n",
            "10/10 [==============================] - 2s 234ms/step - loss: 0.6937 - accuracy: 0.5281 - val_loss: 0.6998 - val_accuracy: 0.4625\n",
            "Epoch 84/100\n",
            "10/10 [==============================] - 3s 295ms/step - loss: 0.6926 - accuracy: 0.5281 - val_loss: 0.6993 - val_accuracy: 0.4625\n",
            "Epoch 85/100\n",
            "10/10 [==============================] - 3s 326ms/step - loss: 0.6919 - accuracy: 0.5281 - val_loss: 0.6972 - val_accuracy: 0.4625\n",
            "Epoch 86/100\n",
            "10/10 [==============================] - 2s 227ms/step - loss: 0.6924 - accuracy: 0.5281 - val_loss: 0.7001 - val_accuracy: 0.4625\n",
            "Epoch 87/100\n",
            "10/10 [==============================] - 2s 246ms/step - loss: 0.6936 - accuracy: 0.5281 - val_loss: 0.6956 - val_accuracy: 0.4625\n",
            "Epoch 88/100\n",
            "10/10 [==============================] - 3s 265ms/step - loss: 0.6918 - accuracy: 0.5281 - val_loss: 0.6987 - val_accuracy: 0.4625\n",
            "Epoch 89/100\n",
            "10/10 [==============================] - 3s 255ms/step - loss: 0.6920 - accuracy: 0.5281 - val_loss: 0.7057 - val_accuracy: 0.4625\n",
            "Epoch 90/100\n",
            "10/10 [==============================] - 3s 352ms/step - loss: 0.6968 - accuracy: 0.5281 - val_loss: 0.6973 - val_accuracy: 0.4625\n",
            "Epoch 91/100\n",
            "10/10 [==============================] - 3s 246ms/step - loss: 0.6914 - accuracy: 0.5281 - val_loss: 0.7016 - val_accuracy: 0.4625\n",
            "Epoch 92/100\n",
            "10/10 [==============================] - 2s 211ms/step - loss: 0.6930 - accuracy: 0.5281 - val_loss: 0.7025 - val_accuracy: 0.4625\n",
            "Epoch 93/100\n",
            "10/10 [==============================] - 2s 208ms/step - loss: 0.6926 - accuracy: 0.5281 - val_loss: 0.6999 - val_accuracy: 0.4625\n",
            "Epoch 94/100\n",
            "10/10 [==============================] - 2s 222ms/step - loss: 0.6929 - accuracy: 0.5281 - val_loss: 0.6979 - val_accuracy: 0.4625\n",
            "Epoch 95/100\n",
            "10/10 [==============================] - 2s 198ms/step - loss: 0.6945 - accuracy: 0.4844 - val_loss: 0.6946 - val_accuracy: 0.4625\n",
            "Epoch 96/100\n",
            "10/10 [==============================] - 4s 384ms/step - loss: 0.6930 - accuracy: 0.5281 - val_loss: 0.7055 - val_accuracy: 0.4625\n",
            "Epoch 97/100\n",
            "10/10 [==============================] - 3s 290ms/step - loss: 0.6924 - accuracy: 0.5281 - val_loss: 0.7010 - val_accuracy: 0.4625\n",
            "Epoch 98/100\n",
            "10/10 [==============================] - 3s 260ms/step - loss: 0.6913 - accuracy: 0.5281 - val_loss: 0.6947 - val_accuracy: 0.4625\n",
            "Epoch 99/100\n",
            "10/10 [==============================] - 3s 258ms/step - loss: 0.6925 - accuracy: 0.5281 - val_loss: 0.6965 - val_accuracy: 0.4625\n",
            "Epoch 100/100\n",
            "10/10 [==============================] - 2s 235ms/step - loss: 0.6939 - accuracy: 0.5281 - val_loss: 0.7030 - val_accuracy: 0.4625\n"
          ]
        }
      ]
    },
    {
      "cell_type": "code",
      "source": [
        "# 학습결과 시각화\n",
        "plt.figure(figsize = (10,5))\n",
        "plt.plot(my_history.history['loss'], label = \"train_loss\")\n",
        "plt.plot(my_history.history['val_loss'], label = \"validation_loss\")\n",
        "plt.legend()\n",
        "plt.show()"
      ],
      "metadata": {
        "colab": {
          "base_uri": "https://localhost:8080/",
          "height": 445
        },
        "id": "bf8BelIzF67R",
        "outputId": "70b2eb26-490f-458f-ab84-4a35fdef62d5"
      },
      "execution_count": 43,
      "outputs": [
        {
          "output_type": "display_data",
          "data": {
            "text/plain": [
              "<Figure size 1000x500 with 1 Axes>"
            ],
            "image/png": "[encoded data removed]"
          },
          "metadata": {}
        }
      ]
    },
    {
      "cell_type": "code",
      "source": [
        "plt.figure(figsize = (10,5))\n",
        "plt.plot(my_history.history['accuracy'], label = \"train_accuracy\")\n",
        "plt.plot(my_history.history['val_accuracy'], label = \"validation_accuracy\")\n",
        "plt.legend()\n",
        "plt.show()"
      ],
      "metadata": {
        "colab": {
          "base_uri": "https://localhost:8080/",
          "height": 445
        },
        "id": "oAdlCrb7F69s",
        "outputId": "da8424c7-8a09-4dfd-fcb5-82b9ae2e10c2"
      },
      "execution_count": 44,
      "outputs": [
        {
          "output_type": "display_data",
          "data": {
            "text/plain": [
              "<Figure size 1000x500 with 1 Axes>"
            ],
            "image/png": "[encoded data removed]"
          },
          "metadata": {}
        }
      ]
    },
    {
      "cell_type": "code",
      "source": [
        "# 학습이 잘 되지 않을때\n",
        "# 1) 최적화 도구 점검\n",
        "# 2) 은닉층 재조정\n",
        "# 3) 데이터 점검"
      ],
      "metadata": {
        "id": "vZSzBpvpF7AL"
      },
      "execution_count": null,
      "outputs": []
    },
    {
      "cell_type": "code",
      "source": [
        "# 모델 평가\n",
        "model.evaluate(X_test, y_test)"
      ],
      "metadata": {
        "colab": {
          "base_uri": "https://localhost:8080/"
        },
        "id": "MpkD6QsMF7Co",
        "outputId": "130e993a-3425-4545-c6ed-1e341de517d7"
      },
      "execution_count": 45,
      "outputs": [
        {
          "output_type": "stream",
          "name": "stdout",
          "text": [
            "4/4 [==============================] - 0s 37ms/step - loss: 0.7068 - accuracy: 0.4400\n"
          ]
        },
        {
          "output_type": "execute_result",
          "data": {
            "text/plain": [
              "[0.7067503333091736, 0.4399999976158142]"
            ]
          },
          "metadata": {},
          "execution_count": 45
        }
      ]
    },
    {
      "cell_type": "code",
      "source": [
        "# 모델 활용\n",
        "img_path = \"./data/img/class2/\" + class1_file_names[100]\n",
        "img_data = cv2.imread(img_path)\n",
        "img_data_rgb = cv2.cvtColor(img_data,cv2.COLOR_BGR2RGB)\n",
        "model.predict(img_data_rgb.reshape(-1, 224, 224, 3))"
      ],
      "metadata": {
        "colab": {
          "base_uri": "https://localhost:8080/"
        },
        "id": "8Ju5GsiPF7E7",
        "outputId": "c3d2387c-eb47-41e4-fd94-a49c6bdc60a5"
      },
      "execution_count": 46,
      "outputs": [
        {
          "output_type": "stream",
          "name": "stdout",
          "text": [
            "1/1 [==============================] - 0s 109ms/step\n"
          ]
        },
        {
          "output_type": "execute_result",
          "data": {
            "text/plain": [
              "array([[0.5419]], dtype=float32)"
            ]
          },
          "metadata": {},
          "execution_count": 46
        }
      ]
    }
  ]
}