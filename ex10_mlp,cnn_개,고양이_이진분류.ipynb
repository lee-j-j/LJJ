{
  "nbformat": 4,
  "nbformat_minor": 0,
  "metadata": {
    "colab": {
      "provenance": [],
      "gpuType": "T4",
      "mount_file_id": "13nqMBdb7Ah3_k2Lr9zZ5_P-ez1b7ZFIT",
      "authorship_tag": "ABX9TyN5ZhWYFCAdtqOuADiM+lJ8",
      "include_colab_link": true
    },
    "kernelspec": {
      "name": "python3",
      "display_name": "Python 3"
    },
    "language_info": {
      "name": "python"
    },
    "accelerator": "GPU"
  },
  "cells": [
    {
      "cell_type": "markdown",
      "metadata": {
        "id": "view-in-github",
        "colab_type": "text"
      },
      "source": [
        "<a href=\"https://colab.research.google.com/github/lee-j-j/LJJ/blob/main/ex10_mlp%2Ccnn_%EA%B0%9C%2C%EA%B3%A0%EC%96%91%EC%9D%B4_%EC%9D%B4%EC%A7%84%EB%B6%84%EB%A5%98.ipynb\" target=\"_parent\"><img src=\"https://colab.research.google.com/assets/colab-badge.svg\" alt=\"Open In Colab\"/></a>"
      ]
    },
    {
      "cell_type": "markdown",
      "source": [
        "### 목표\n",
        "- 개, 고양이 데이터 이미지를 배열로 변환 작업을 진행해보자 (이미지 데이터 전처리)\n",
        "  - 이미지 자체를 저장소 업로드하는 것보다 배열로 변환했을 때 용량 소모가 적음\n",
        "- mlp 이미지 데이터 이진 분류\n",
        "- cnn 이미지 데이터 이진 분류\n",
        "- 성능을 높이기 위한 노력을 진행해보자\n",
        "  - 이미지 증식\n",
        "  - 전이학습"
      ],
      "metadata": {
        "id": "n-aGQurp1W4y"
      }
    },
    {
      "cell_type": "code",
      "source": [
        "# 개, 고양이 배열 데이터 불러오기\n",
        "import numpy as np\n",
        "import pandas as pd\n",
        "import matplotlib.pyplot as plt"
      ],
      "metadata": {
        "id": "3QGeyXFuIOdk"
      },
      "execution_count": 3,
      "outputs": []
    },
    {
      "cell_type": "code",
      "source": [
        "data = np.load('./data/np_cat_vs_dog.npz')\n",
        "data"
      ],
      "metadata": {
        "colab": {
          "base_uri": "https://localhost:8080/"
        },
        "id": "9bVXn5-1IOgw",
        "outputId": "587f09c8-19fb-4c77-dc31-ffd76f966566"
      },
      "execution_count": 4,
      "outputs": [
        {
          "output_type": "execute_result",
          "data": {
            "text/plain": [
              "<numpy.lib.npyio.NpzFile at 0x7a6a853290f0>"
            ]
          },
          "metadata": {},
          "execution_count": 4
        }
      ]
    },
    {
      "cell_type": "code",
      "source": [
        "len(data)\n",
        "# 각각의 변수에 데이터 분리해서 담아주기\n",
        "X_train = data['X_train']\n",
        "X_test = data['X_test']\n",
        "y_train = data['y_train']\n",
        "y_test = data['y_test']\n",
        "\n",
        "# 크기확인\n",
        "print('훈련셋 : ', X_train.shape, y_train.shape)\n",
        "print('테스트셋 : ', X_test.shape, y_test.shape)"
      ],
      "metadata": {
        "colab": {
          "base_uri": "https://localhost:8080/"
        },
        "id": "GKuJJgXHIOjk",
        "outputId": "0a73cde0-4966-44c3-d0eb-8275e3edad01"
      },
      "execution_count": 5,
      "outputs": [
        {
          "output_type": "stream",
          "name": "stdout",
          "text": [
            "훈련셋 :  (2000, 224, 224, 3) (2000,)\n",
            "테스트셋 :  (1000, 224, 224, 3) (1000,)\n"
          ]
        }
      ]
    },
    {
      "cell_type": "markdown",
      "source": [
        "#### mlp 모델 생성"
      ],
      "metadata": {
        "id": "Zslb6yN0M6Lo"
      }
    },
    {
      "cell_type": "code",
      "source": [
        "from tensorflow.keras.models import Sequential\n",
        "from tensorflow.keras.layers import Dense, Flatten # 1차원 펴주는 도구\n",
        "from tensorflow.keras.callbacks import EarlyStopping # 조기 학습 중단 도구"
      ],
      "metadata": {
        "id": "_7oVy3pRJu1G"
      },
      "execution_count": 6,
      "outputs": []
    },
    {
      "cell_type": "code",
      "source": [
        "# 1. 모델 설계\n",
        "# 뼈대 구축\n",
        "mlp_model = Sequential()\n",
        "\n",
        "# 입력(3차원 → 1차원)\n",
        "mlp_model.add(Flatten(input_shape = (224,224,3))) # 행,열,채널수(컬러) → 1차원 데이터 연결\n",
        "\n",
        "# 중간층\n",
        "mlp_model.add(Dense(units = 256, activation = 'relu'))\n",
        "mlp_model.add(Dense(units = 128, activation = 'relu'))\n",
        "mlp_model.add(Dense(units = 64, activation = 'relu'))\n",
        "\n",
        "# 출력층 (이진분류 : units = 1, acti_f = sigmoid)\n",
        "mlp_model.add(Dense(units = 1, activation = 'sigmoid'))\n",
        "mlp_model.summary()"
      ],
      "metadata": {
        "colab": {
          "base_uri": "https://localhost:8080/"
        },
        "id": "wOXxFmrrJu3h",
        "outputId": "2d6b1e32-179f-4821-c12c-291a6ec74e26"
      },
      "execution_count": 7,
      "outputs": [
        {
          "output_type": "stream",
          "name": "stdout",
          "text": [
            "Model: \"sequential\"\n",
            "_________________________________________________________________\n",
            " Layer (type)                Output Shape              Param #   \n",
            "=================================================================\n",
            " flatten (Flatten)           (None, 150528)            0         \n",
            "                                                                 \n",
            " dense (Dense)               (None, 256)               38535424  \n",
            "                                                                 \n",
            " dense_1 (Dense)             (None, 128)               32896     \n",
            "                                                                 \n",
            " dense_2 (Dense)             (None, 64)                8256      \n",
            "                                                                 \n",
            " dense_3 (Dense)             (None, 1)                 65        \n",
            "                                                                 \n",
            "=================================================================\n",
            "Total params: 38576641 (147.16 MB)\n",
            "Trainable params: 38576641 (147.16 MB)\n",
            "Non-trainable params: 0 (0.00 Byte)\n",
            "_________________________________________________________________\n"
          ]
        }
      ]
    },
    {
      "cell_type": "code",
      "source": [
        "# 번역 : compile\n",
        "# pc가 이해하도록 번역하는 작업\n",
        "# loss, optimizer, metrics\n",
        "mlp_model.compile(loss = 'binary_crossentropy', optimizer = 'adam' , metrics = ['accuracy'])"
      ],
      "metadata": {
        "id": "yA0niPfxJu5v"
      },
      "execution_count": 8,
      "outputs": []
    },
    {
      "cell_type": "code",
      "source": [
        "# 조기학습중단 설정\n",
        "# 검증 정확도 기준, 5번 기다림\n",
        "f_ea = EarlyStopping(monitor = \"val_accuracy\", patience=5)\n",
        "\n",
        "# 학습, 검증데이터 분리 30%, batchsize 64, 반복횟수 50, 조기학습중단 연결\n",
        "mlp_his = mlp_model.fit(X_train, y_train, validation_split=0.3, epochs = 50, batch_size = 64, callbacks = [f_ea])\n",
        "# validation_split 대신 validation_data를 쓸 때 : X_val, y_val 데이터를 따로 만들어 두어야 함!\n"
      ],
      "metadata": {
        "colab": {
          "base_uri": "https://localhost:8080/"
        },
        "id": "byZQFfrEJu7t",
        "outputId": "d505f2ee-37c3-43f2-96de-068abbe47b83"
      },
      "execution_count": 9,
      "outputs": [
        {
          "output_type": "stream",
          "name": "stdout",
          "text": [
            "Epoch 1/50\n",
            "22/22 [==============================] - 7s 37ms/step - loss: 2243.8792 - accuracy: 0.5943 - val_loss: 0.0000e+00 - val_accuracy: 1.0000\n",
            "Epoch 2/50\n",
            "22/22 [==============================] - 0s 21ms/step - loss: 1876.1394 - accuracy: 0.5921 - val_loss: 545.2458 - val_accuracy: 0.3450\n",
            "Epoch 3/50\n",
            "22/22 [==============================] - 0s 18ms/step - loss: 1570.7332 - accuracy: 0.5936 - val_loss: 1260.9152 - val_accuracy: 0.0883\n",
            "Epoch 4/50\n",
            "22/22 [==============================] - 0s 19ms/step - loss: 868.1638 - accuracy: 0.6107 - val_loss: 82.3196 - val_accuracy: 0.8117\n",
            "Epoch 5/50\n",
            "22/22 [==============================] - 0s 18ms/step - loss: 434.3546 - accuracy: 0.6250 - val_loss: 1305.0403 - val_accuracy: 0.0117\n",
            "Epoch 6/50\n",
            "22/22 [==============================] - 0s 22ms/step - loss: 266.9550 - accuracy: 0.6371 - val_loss: 230.3646 - val_accuracy: 0.3733\n"
          ]
        }
      ]
    },
    {
      "cell_type": "code",
      "source": [
        "# test 데이터 활용해서 평가하기\n",
        "# 모델.score(문제, 답) → 머신러닝 모델 평가하는 함수 (sklearn) * sk? science kit!\n",
        "# 모델.evaluate(문제, 답) → 딥러닝 모델 평가하는 함수 (tensorflow.keras)\n",
        "mlp_model.evaluate(X_test, y_test)"
      ],
      "metadata": {
        "colab": {
          "base_uri": "https://localhost:8080/"
        },
        "id": "MShn3n3wR_Ua",
        "outputId": "d828762c-e82a-4750-f41d-ee79e65e741f"
      },
      "execution_count": 10,
      "outputs": [
        {
          "output_type": "stream",
          "name": "stdout",
          "text": [
            "32/32 [==============================] - 0s 5ms/step - loss: 144.3289 - accuracy: 0.5630\n"
          ]
        },
        {
          "output_type": "execute_result",
          "data": {
            "text/plain": [
              "[144.32887268066406, 0.5630000233650208]"
            ]
          },
          "metadata": {},
          "execution_count": 10
        }
      ]
    },
    {
      "cell_type": "markdown",
      "source": [
        "#### cnn 모델 생성\n",
        "- 1. 모델 설계 (cnn층)\n",
        "- 2. 모델 학습 및 평가 방법 설정\n",
        "- 3. 모델 학습 및 시각화\n",
        "- 4. 모델 평가 및 예측"
      ],
      "metadata": {
        "id": "AqBm_1-bTTqW"
      }
    },
    {
      "cell_type": "code",
      "source": [
        "from tensorflow.keras.models import Sequential\n",
        "from tensorflow.keras.layers import Dense, Flatten, Conv2D, MaxPooling2D, Dropout # Conv2D : 대상에 집중하게 만들어주는 역할"
      ],
      "metadata": {
        "id": "RBUpBZkER_Xs"
      },
      "execution_count": 11,
      "outputs": []
    },
    {
      "cell_type": "code",
      "source": [
        "# cnn 신경망 구조를 설계\n",
        "# 뼈대 생성\n",
        "cnn_model = Sequential()\n",
        "\n",
        "# 대상에 집중! → 중요한 특성에 집중! → 특성 추출\n",
        "# 특성 추출부(층) - conv(합성곱)\n",
        "# (224,224,3) : 224행, 224열, 3개의 채널(컬러 이미지)\n",
        "cnn_model.add(Conv2D(filters = 32, kernel_size = (3,3), padding='same', input_shape=(224,224,3), activation='relu'))\n",
        "cnn_model.add(MaxPooling2D(pool_size = 2)) # padding 기본값 =  vaild라서 여기서는 조금 줄어들음\n",
        "\n",
        "cnn_model.add(Conv2D(64, (3,3), padding='same', activation='relu'))\n",
        "cnn_model.add(MaxPooling2D(pool_size = 2))\n",
        "\n",
        "cnn_model.add(Conv2D(128, (3,3), padding='same', activation='relu'))\n",
        "cnn_model.add(MaxPooling2D(pool_size = 2))\n",
        "\n",
        "# 개, 고양이 분류부(전결합층) - mlp(입력(1차원으로 펴주는 기능 필요), 중간, 출력층(이진분류))\n",
        "cnn_model.add(Flatten()) # 특성 추출부를 거친 후의 input_shape가 자동으로 전달 됨 - 생략\n",
        "cnn_model.add(Dense(512, activation = 'relu')) # 중간층\n",
        "cnn_model.add(Dense(1, activation = 'sigmoid')) # 출력층\n",
        "\n",
        "# 모델 정보 확인\n",
        "cnn_model.summary()\n"
      ],
      "metadata": {
        "colab": {
          "base_uri": "https://localhost:8080/"
        },
        "id": "xzGUl6jGTkzu",
        "outputId": "070615b7-c024-4cbd-8587-997e8782409a"
      },
      "execution_count": 12,
      "outputs": [
        {
          "output_type": "stream",
          "name": "stdout",
          "text": [
            "Model: \"sequential_1\"\n",
            "_________________________________________________________________\n",
            " Layer (type)                Output Shape              Param #   \n",
            "=================================================================\n",
            " conv2d (Conv2D)             (None, 224, 224, 32)      896       \n",
            "                                                                 \n",
            " max_pooling2d (MaxPooling2  (None, 112, 112, 32)      0         \n",
            " D)                                                              \n",
            "                                                                 \n",
            " conv2d_1 (Conv2D)           (None, 112, 112, 64)      18496     \n",
            "                                                                 \n",
            " max_pooling2d_1 (MaxPoolin  (None, 56, 56, 64)        0         \n",
            " g2D)                                                            \n",
            "                                                                 \n",
            " conv2d_2 (Conv2D)           (None, 56, 56, 128)       73856     \n",
            "                                                                 \n",
            " max_pooling2d_2 (MaxPoolin  (None, 28, 28, 128)       0         \n",
            " g2D)                                                            \n",
            "                                                                 \n",
            " flatten_1 (Flatten)         (None, 100352)            0         \n",
            "                                                                 \n",
            " dense_4 (Dense)             (None, 512)               51380736  \n",
            "                                                                 \n",
            " dense_5 (Dense)             (None, 1)                 513       \n",
            "                                                                 \n",
            "=================================================================\n",
            "Total params: 51474497 (196.36 MB)\n",
            "Trainable params: 51474497 (196.36 MB)\n",
            "Non-trainable params: 0 (0.00 Byte)\n",
            "_________________________________________________________________\n"
          ]
        }
      ]
    },
    {
      "cell_type": "code",
      "source": [
        "# compile\n",
        "cnn_model.compile(loss='binary_crossentropy', optimizer='adam', metrics=['accuracy'])\n",
        "\n",
        "# fit\n",
        "cnn_his = cnn_model.fit(X_train, y_train, validation_split=0.3, epochs=50, batch_size=64, callbacks=[f_ea])"
      ],
      "metadata": {
        "colab": {
          "base_uri": "https://localhost:8080/"
        },
        "id": "9cMBV-RbTk2p",
        "outputId": "03ed20c4-470b-4be9-f4d6-a791cc37c074"
      },
      "execution_count": 13,
      "outputs": [
        {
          "output_type": "stream",
          "name": "stdout",
          "text": [
            "Epoch 1/50\n",
            "22/22 [==============================] - 13s 197ms/step - loss: 246.2308 - accuracy: 0.5814 - val_loss: 0.9226 - val_accuracy: 0.0100\n",
            "Epoch 2/50\n",
            "22/22 [==============================] - 2s 102ms/step - loss: 0.6217 - accuracy: 0.7129 - val_loss: 1.3282 - val_accuracy: 0.0000e+00\n",
            "Epoch 3/50\n",
            "22/22 [==============================] - 2s 105ms/step - loss: 0.5728 - accuracy: 0.7200 - val_loss: 0.9511 - val_accuracy: 0.0917\n",
            "Epoch 4/50\n",
            "22/22 [==============================] - 2s 105ms/step - loss: 0.5107 - accuracy: 0.7650 - val_loss: 1.3873 - val_accuracy: 0.2233\n",
            "Epoch 5/50\n",
            "22/22 [==============================] - 2s 104ms/step - loss: 0.4352 - accuracy: 0.8150 - val_loss: 1.2672 - val_accuracy: 0.2750\n",
            "Epoch 6/50\n",
            "22/22 [==============================] - 2s 98ms/step - loss: 0.3873 - accuracy: 0.8293 - val_loss: 2.2947 - val_accuracy: 0.1700\n",
            "Epoch 7/50\n",
            "22/22 [==============================] - 2s 102ms/step - loss: 0.2852 - accuracy: 0.8793 - val_loss: 2.0182 - val_accuracy: 0.2967\n",
            "Epoch 8/50\n",
            "22/22 [==============================] - 2s 98ms/step - loss: 0.1915 - accuracy: 0.9214 - val_loss: 2.8343 - val_accuracy: 0.3233\n",
            "Epoch 9/50\n",
            "22/22 [==============================] - 2s 105ms/step - loss: 0.1243 - accuracy: 0.9543 - val_loss: 4.1327 - val_accuracy: 0.3300\n",
            "Epoch 10/50\n",
            "22/22 [==============================] - 2s 101ms/step - loss: 0.0835 - accuracy: 0.9764 - val_loss: 3.8350 - val_accuracy: 0.4533\n",
            "Epoch 11/50\n",
            "22/22 [==============================] - 2s 103ms/step - loss: 0.0541 - accuracy: 0.9821 - val_loss: 4.4672 - val_accuracy: 0.4683\n",
            "Epoch 12/50\n",
            "22/22 [==============================] - 2s 99ms/step - loss: 0.0391 - accuracy: 0.9879 - val_loss: 6.2002 - val_accuracy: 0.3833\n",
            "Epoch 13/50\n",
            "22/22 [==============================] - 2s 103ms/step - loss: 0.0373 - accuracy: 0.9893 - val_loss: 8.9352 - val_accuracy: 0.2050\n",
            "Epoch 14/50\n",
            "22/22 [==============================] - 2s 103ms/step - loss: 0.0514 - accuracy: 0.9864 - val_loss: 6.7918 - val_accuracy: 0.3367\n",
            "Epoch 15/50\n",
            "22/22 [==============================] - 2s 104ms/step - loss: 0.0321 - accuracy: 0.9936 - val_loss: 6.2370 - val_accuracy: 0.3883\n",
            "Epoch 16/50\n",
            "22/22 [==============================] - 2s 107ms/step - loss: 0.0168 - accuracy: 0.9957 - val_loss: 6.8221 - val_accuracy: 0.4200\n"
          ]
        }
      ]
    },
    {
      "cell_type": "code",
      "source": [
        "# 과대적합 보여짐 (accuracy - 높음, val_accuracy - 높지 않음)\n",
        "# 왜 이렇게 학습했을까?\n",
        "# cnn 특성에 집중 → val 예측 성능은 떨어지는 상태\n",
        "# 데이터는 복잡한 데이터일 수 있음\n",
        "# 반대로 모델은 너무 단순할 수 있음\n",
        "\n",
        "# 과대적합 피하는 방법\n",
        "# 학습조기중단\n",
        "# 드롭아웃\n",
        "# 데이터확장(증식) - 이미지 회전, 확대, 반전, 이동 등"
      ],
      "metadata": {
        "id": "l91utLMkATzv"
      },
      "execution_count": null,
      "outputs": []
    },
    {
      "cell_type": "code",
      "source": [
        "# 평가\n",
        "# cnn_model.evaluate(X_test, y_test)[1] : 정확도만 확인\n",
        "cnn_model.evaluate(X_test, y_test) # accuracy = 58%"
      ],
      "metadata": {
        "colab": {
          "base_uri": "https://localhost:8080/"
        },
        "id": "MGJp2unIR_aP",
        "outputId": "abfddff8-b4b3-4d87-a9e3-31a78357c3c5"
      },
      "execution_count": 14,
      "outputs": [
        {
          "output_type": "stream",
          "name": "stdout",
          "text": [
            "32/32 [==============================] - 1s 21ms/step - loss: 3.2182 - accuracy: 0.6130\n"
          ]
        },
        {
          "output_type": "execute_result",
          "data": {
            "text/plain": [
              "[3.218212604522705, 0.6129999756813049]"
            ]
          },
          "metadata": {},
          "execution_count": 14
        }
      ]
    },
    {
      "cell_type": "markdown",
      "source": [
        "#### 데이터 확장하여 cnn 모델 학습 진행하기"
      ],
      "metadata": {
        "id": "jsBj2OPCJz85"
      }
    },
    {
      "cell_type": "code",
      "source": [
        "from tensorflow.keras.preprocessing.image import ImageDataGenerator # 이미지 증식"
      ],
      "metadata": {
        "id": "8H-W8dMGFcI1"
      },
      "execution_count": 15,
      "outputs": []
    },
    {
      "cell_type": "code",
      "source": [
        "# 증식할 데이터 경로 설정\n",
        "train_dir = \"./data/dog_vs_cat/cats_and_dogs_filtered/train\"\n",
        "test_dir = \"./data/dog_vs_cat/cats_and_dogs_filtered/test\"\n",
        "\n",
        "# 변형 형식 설정\n",
        "# 0~255 범위의 수치값을 0~1 사이로 변환\n",
        "train_gen = ImageDataGenerator(rescale = 1./255,\n",
        "                               zoom_range = 0.2, # 축소, 확대 범위 0.8 ~ 1.2배\n",
        "                               horizontal_flip=True) # 수평 뒤집기\n",
        "\n",
        "# 모델을 일반화 시키는 데이터는 학습용 데이터! (train에 증식 적용)\n",
        "test_gen = ImageDataGenerator(rescale = 1./255) # rescale은 적용해야함 (train의 영향으로 인해 예측도 0~1로 나오기 때문)"
      ],
      "metadata": {
        "id": "r2Y30HpkFcQ5"
      },
      "execution_count": 17,
      "outputs": []
    },
    {
      "cell_type": "code",
      "source": [
        "# 증식하기 위한 설정 필요\n",
        "train_generator = train_gen.flow_from_directory(train_dir, # 폴더 경로 연결\n",
        "                                                target_size = (224,224), # 변환할 이미지 크기\n",
        "                                                batch_size = 10, # 한번에 변환할 이미지 수\n",
        "                                                class_mode = 'binary') # 라벨번호는 0번부터 시작, 폴더는 알파벳 순서로 읽어들임.\n",
        "\n",
        "test_generator = test_gen.flow_from_directory(test_dir,\n",
        "                                              target_size = (224,224),\n",
        "                                              batch_size = 10,\n",
        "                                              class_mode = 'binary')"
      ],
      "metadata": {
        "colab": {
          "base_uri": "https://localhost:8080/"
        },
        "id": "p1ZB9InxKF9n",
        "outputId": "0bfbae94-b9b2-454a-d4a6-d70983558d73"
      },
      "execution_count": 18,
      "outputs": [
        {
          "output_type": "stream",
          "name": "stdout",
          "text": [
            "Found 2000 images belonging to 2 classes.\n",
            "Found 1000 images belonging to 2 classes.\n"
          ]
        }
      ]
    },
    {
      "cell_type": "code",
      "source": [
        "# cnn 신경망 구조를 설계\n",
        "# 뼈대 생성\n",
        "cnn_model2 = Sequential() # Ctrl + Shift + L : colab에서 같은 변수 모두 선택(변수 이름 한꺼번에 변경 가능)\n",
        "\n",
        "# 대상에 집중! → 중요한 특성에 집중! → 특성 추출\n",
        "# 특성 추출부(층) - conv(합성곱)\n",
        "# (224,224,3) : 224행, 224열, 3개의 채널(컬러 이미지)\n",
        "cnn_model2.add(Conv2D(filters = 32, kernel_size = (3,3), padding='same', input_shape=(224,224,3), activation='relu'))\n",
        "cnn_model2.add(MaxPooling2D(pool_size = 2)) # padding 기본값 =  vaild라서 여기서는 조금 줄어들음\n",
        "\n",
        "cnn_model2.add(Conv2D(64, (3,3), padding='same', activation='relu'))\n",
        "cnn_model2.add(MaxPooling2D(pool_size = 2))\n",
        "cnn_model2.add(Dropout(0.2)) # 20% 특성은 제외하고 학습 (일정 비율만큼 랜덤하게 중간층의 뉴런을 비활성화)\n",
        "\n",
        "cnn_model2.add(Conv2D(128, (3,3), padding='same', activation='relu'))\n",
        "cnn_model2.add(MaxPooling2D(pool_size = 2))\n",
        "\n",
        "# 개, 고양이 분류부(전결합층) - mlp(입력(1차원으로 펴주는 기능 필요), 중간, 출력층(이진분류))\n",
        "cnn_model2.add(Flatten()) # 특성 추출부를 거친 후의 input_shape가 자동으로 전달 됨 - 생략\n",
        "cnn_model2.add(Dense(512, activation = 'relu')) # 중간층\n",
        "cnn_model2.add(Dropout(0.2)) # 20% 특성은 제외하고 학습 - 특성의 복잡도를 줄임\n",
        "cnn_model2.add(Dense(1, activation = 'sigmoid')) # 출력층\n",
        "\n",
        "# 모델 정보 확인\n",
        "cnn_model2.summary()\n"
      ],
      "metadata": {
        "colab": {
          "base_uri": "https://localhost:8080/"
        },
        "id": "hi0y6sgRFcRf",
        "outputId": "d2f2a869-83e5-4b27-aebe-478e408f9eb9"
      },
      "execution_count": 19,
      "outputs": [
        {
          "output_type": "stream",
          "name": "stdout",
          "text": [
            "Model: \"sequential_2\"\n",
            "_________________________________________________________________\n",
            " Layer (type)                Output Shape              Param #   \n",
            "=================================================================\n",
            " conv2d_3 (Conv2D)           (None, 224, 224, 32)      896       \n",
            "                                                                 \n",
            " max_pooling2d_3 (MaxPoolin  (None, 112, 112, 32)      0         \n",
            " g2D)                                                            \n",
            "                                                                 \n",
            " conv2d_4 (Conv2D)           (None, 112, 112, 64)      18496     \n",
            "                                                                 \n",
            " max_pooling2d_4 (MaxPoolin  (None, 56, 56, 64)        0         \n",
            " g2D)                                                            \n",
            "                                                                 \n",
            " dropout (Dropout)           (None, 56, 56, 64)        0         \n",
            "                                                                 \n",
            " conv2d_5 (Conv2D)           (None, 56, 56, 128)       73856     \n",
            "                                                                 \n",
            " max_pooling2d_5 (MaxPoolin  (None, 28, 28, 128)       0         \n",
            " g2D)                                                            \n",
            "                                                                 \n",
            " flatten_2 (Flatten)         (None, 100352)            0         \n",
            "                                                                 \n",
            " dense_6 (Dense)             (None, 512)               51380736  \n",
            "                                                                 \n",
            " dropout_1 (Dropout)         (None, 512)               0         \n",
            "                                                                 \n",
            " dense_7 (Dense)             (None, 1)                 513       \n",
            "                                                                 \n",
            "=================================================================\n",
            "Total params: 51474497 (196.36 MB)\n",
            "Trainable params: 51474497 (196.36 MB)\n",
            "Non-trainable params: 0 (0.00 Byte)\n",
            "_________________________________________________________________\n"
          ]
        }
      ]
    },
    {
      "cell_type": "code",
      "source": [
        "# 컴파일\n",
        "cnn_model2.compile(loss='binary_crossentropy', optimizer='adam', metrics=['accuracy'])"
      ],
      "metadata": {
        "id": "WRc_R_6mFcSM"
      },
      "execution_count": 20,
      "outputs": []
    },
    {
      "cell_type": "code",
      "source": [
        "# 학습 - 이미지 증식 설정 연결\n",
        "# 이미지 증식을 하고 학습할 경우, 학습 진행이 들쭉날쭉하는 경향이 있을 수 있음\n",
        "# 그래서 조기학습중단(EarlyStopping)을 연결x 경우 많음\n",
        "# 반복횟수도 크게 설정하는 경우가 있음\n",
        "cnn_his2 = cnn_model2.fit_generator(generator = train_generator,\n",
        "                                    validation_data = test_generator,\n",
        "                                    epochs = 20)"
      ],
      "metadata": {
        "colab": {
          "base_uri": "https://localhost:8080/"
        },
        "id": "QsqcIQqBFcSw",
        "outputId": "817ac39d-4a81-4141-c809-1078b3b78b76"
      },
      "execution_count": 21,
      "outputs": [
        {
          "output_type": "stream",
          "name": "stderr",
          "text": [
            "<ipython-input-21-83f0e684f83d>:5: UserWarning: `Model.fit_generator` is deprecated and will be removed in a future version. Please use `Model.fit`, which supports generators.\n",
            "  cnn_his2 = cnn_model2.fit_generator(generator = train_generator,\n"
          ]
        },
        {
          "output_type": "stream",
          "name": "stdout",
          "text": [
            "Epoch 1/20\n",
            "200/200 [==============================] - 800s 4s/step - loss: 0.8557 - accuracy: 0.5270 - val_loss: 0.6921 - val_accuracy: 0.5000\n",
            "Epoch 2/20\n",
            "200/200 [==============================] - 35s 176ms/step - loss: 0.6891 - accuracy: 0.5275 - val_loss: 0.6875 - val_accuracy: 0.5400\n",
            "Epoch 3/20\n",
            "200/200 [==============================] - 35s 174ms/step - loss: 0.6862 - accuracy: 0.5565 - val_loss: 0.7498 - val_accuracy: 0.5000\n",
            "Epoch 4/20\n",
            "200/200 [==============================] - 36s 181ms/step - loss: 0.6773 - accuracy: 0.5790 - val_loss: 0.6634 - val_accuracy: 0.6410\n",
            "Epoch 5/20\n",
            "200/200 [==============================] - 34s 172ms/step - loss: 0.6653 - accuracy: 0.6115 - val_loss: 0.6370 - val_accuracy: 0.6480\n",
            "Epoch 6/20\n",
            "200/200 [==============================] - 36s 179ms/step - loss: 0.6373 - accuracy: 0.6455 - val_loss: 0.6829 - val_accuracy: 0.5620\n",
            "Epoch 7/20\n",
            "200/200 [==============================] - 34s 171ms/step - loss: 0.6202 - accuracy: 0.6700 - val_loss: 0.6059 - val_accuracy: 0.6790\n",
            "Epoch 8/20\n",
            "200/200 [==============================] - 36s 178ms/step - loss: 0.5864 - accuracy: 0.6895 - val_loss: 0.5844 - val_accuracy: 0.7000\n",
            "Epoch 9/20\n",
            "200/200 [==============================] - 34s 171ms/step - loss: 0.5512 - accuracy: 0.7110 - val_loss: 0.5826 - val_accuracy: 0.6980\n",
            "Epoch 10/20\n",
            "200/200 [==============================] - 36s 179ms/step - loss: 0.5290 - accuracy: 0.7265 - val_loss: 0.5710 - val_accuracy: 0.7080\n",
            "Epoch 11/20\n",
            "200/200 [==============================] - 35s 174ms/step - loss: 0.5251 - accuracy: 0.7480 - val_loss: 0.5542 - val_accuracy: 0.7250\n",
            "Epoch 12/20\n",
            "200/200 [==============================] - 36s 179ms/step - loss: 0.4909 - accuracy: 0.7575 - val_loss: 0.5893 - val_accuracy: 0.7070\n",
            "Epoch 13/20\n",
            "200/200 [==============================] - 35s 173ms/step - loss: 0.4534 - accuracy: 0.7875 - val_loss: 0.5555 - val_accuracy: 0.7250\n",
            "Epoch 14/20\n",
            "200/200 [==============================] - 36s 179ms/step - loss: 0.4658 - accuracy: 0.7795 - val_loss: 0.5617 - val_accuracy: 0.7230\n",
            "Epoch 15/20\n",
            "200/200 [==============================] - 35s 175ms/step - loss: 0.4307 - accuracy: 0.7935 - val_loss: 0.5869 - val_accuracy: 0.7270\n",
            "Epoch 16/20\n",
            "200/200 [==============================] - 34s 172ms/step - loss: 0.4008 - accuracy: 0.8210 - val_loss: 0.5676 - val_accuracy: 0.7380\n",
            "Epoch 17/20\n",
            "200/200 [==============================] - 35s 173ms/step - loss: 0.3790 - accuracy: 0.8265 - val_loss: 0.5770 - val_accuracy: 0.7300\n",
            "Epoch 18/20\n",
            "200/200 [==============================] - 34s 170ms/step - loss: 0.3499 - accuracy: 0.8480 - val_loss: 0.6366 - val_accuracy: 0.7360\n",
            "Epoch 19/20\n",
            "200/200 [==============================] - 35s 173ms/step - loss: 0.3301 - accuracy: 0.8625 - val_loss: 0.6161 - val_accuracy: 0.7360\n",
            "Epoch 20/20\n",
            "200/200 [==============================] - 35s 174ms/step - loss: 0.3173 - accuracy: 0.8635 - val_loss: 0.6994 - val_accuracy: 0.7320\n"
          ]
        }
      ]
    },
    {
      "cell_type": "code",
      "source": [
        "# cnn_model → cnn_his\n",
        "# 이미지 증식 학습 cnn_model2 → cnn_his2\n",
        "# 선 그래프로 시각화하여 비교해보기\n",
        "# 범례표시\n",
        "# 도화지 2장에 2개의 선 그래프 그려보기\n",
        "\n",
        "\n",
        "plt.plot(range(1,len(cnn_his.history['accuracy'])+1), cnn_his.history['accuracy'], label = 'cnn_model_acc')\n",
        "plt.plot(range(1,len(cnn_his.history['val_accuracy'])+1), cnn_his.history['val_accuracy'], label = 'cnn_model_val_acc')\n",
        "\n",
        "plt.legend()\n",
        "plt.show()\n",
        "\n",
        "plt.plot(range(1,len(cnn_his2.history['accuracy'])+1), cnn_his2.history['accuracy'], label = 'cnn_model2_acc')\n",
        "plt.plot(range(1,len(cnn_his2.history['val_accuracy'])+1), cnn_his2.history['val_accuracy'], label = 'cnn_model2_val_acc')\n",
        "\n",
        "plt.legend()\n",
        "plt.show()\n",
        "\n",
        "# 이미지 증식을 통해 과대적합을 해소한 것을 확인할 수 있음\n",
        "# 이미지 증식으로 모델의 성능 향상시킴\n",
        "# 이미지 증식의 단점으로 학습하는 시간이 오래 걸림"
      ],
      "metadata": {
        "colab": {
          "base_uri": "https://localhost:8080/",
          "height": 843
        },
        "id": "oIKBI6QfFcTb",
        "outputId": "d3bf34cd-03d9-4f0f-d5fd-216a4e3ccbfe"
      },
      "execution_count": 28,
      "outputs": [
        {
          "output_type": "display_data",
          "data": {
            "text/plain": [
              "<Figure size 640x480 with 1 Axes>"
            ],
            "image/png": "[encoded data removed]"
          },
          "metadata": {}
        },
        {
          "output_type": "display_data",
          "data": {
            "text/plain": [
              "<Figure size 640x480 with 1 Axes>"
            ],
            "image/png": "[encoded data removed]"
          },
          "metadata": {}
        }
      ]
    },
    {
      "cell_type": "markdown",
      "source": [
        "#### 전이학습\n",
        "  - 다른 사람이 만들어놓은 모델을 사용해보자! → 학습이 되어있음 (시간 단축)\n",
        "  - 완전히 똑같은 데이터로 학습한 것은 아님 (레이블이 다를 수 있음)\n",
        "  - 현재 우리 목표 : 개 vs 고양이\n",
        "  - 전이학습 모델 : 사자 vs 호랑이 vs 코끼리\n",
        "  - 분류하려는 대상은 다르지만 판단한다는 기준은 비슷할 수 있으니 가져와서 활용해보자"
      ],
      "metadata": {
        "id": "ViaiJxDXa7gX"
      }
    },
    {
      "cell_type": "code",
      "source": [
        "from tensorflow.keras.applications import VGG16\n",
        "# VGG16 : 사전 학습된 모델 (pretrained model)\n",
        "vgg16 = VGG16(include_top = False, # include_top : 분류부 (전결합층) → 분류부는 다르게 쓸거라서 False(안 가져옴)\n",
        "              weights = 'imagenet', # weights = 'imagenet' : imagenet 경진대회 데이터 셋을 보며 학습한 모델의 가중치\n",
        "                                    # imagenet 클래스 : 1000개의 사물, 100만장 사진 → 성능이 뛰어날 확률 높음\n",
        "              input_shape = (224,224,3))\n",
        "\n",
        "vgg16.summary() # 분류부 추가 후 우리 데이터를 추가로 학습"
      ],
      "metadata": {
        "colab": {
          "base_uri": "https://localhost:8080/"
        },
        "id": "8y5cZfarXYKE",
        "outputId": "12ba5ee5-4f87-4467-f448-54e254233a16"
      },
      "execution_count": 30,
      "outputs": [
        {
          "output_type": "stream",
          "name": "stdout",
          "text": [
            "Downloading data from https://storage.googleapis.com/tensorflow/keras-applications/vgg16/vgg16_weights_tf_dim_ordering_tf_kernels_notop.h5\n",
            "58889256/58889256 [==============================] - 0s 0us/step\n",
            "Model: \"vgg16\"\n",
            "_________________________________________________________________\n",
            " Layer (type)                Output Shape              Param #   \n",
            "=================================================================\n",
            " input_1 (InputLayer)        [(None, 224, 224, 3)]     0         \n",
            "                                                                 \n",
            " block1_conv1 (Conv2D)       (None, 224, 224, 64)      1792      \n",
            "                                                                 \n",
            " block1_conv2 (Conv2D)       (None, 224, 224, 64)      36928     \n",
            "                                                                 \n",
            " block1_pool (MaxPooling2D)  (None, 112, 112, 64)      0         \n",
            "                                                                 \n",
            " block2_conv1 (Conv2D)       (None, 112, 112, 128)     73856     \n",
            "                                                                 \n",
            " block2_conv2 (Conv2D)       (None, 112, 112, 128)     147584    \n",
            "                                                                 \n",
            " block2_pool (MaxPooling2D)  (None, 56, 56, 128)       0         \n",
            "                                                                 \n",
            " block3_conv1 (Conv2D)       (None, 56, 56, 256)       295168    \n",
            "                                                                 \n",
            " block3_conv2 (Conv2D)       (None, 56, 56, 256)       590080    \n",
            "                                                                 \n",
            " block3_conv3 (Conv2D)       (None, 56, 56, 256)       590080    \n",
            "                                                                 \n",
            " block3_pool (MaxPooling2D)  (None, 28, 28, 256)       0         \n",
            "                                                                 \n",
            " block4_conv1 (Conv2D)       (None, 28, 28, 512)       1180160   \n",
            "                                                                 \n",
            " block4_conv2 (Conv2D)       (None, 28, 28, 512)       2359808   \n",
            "                                                                 \n",
            " block4_conv3 (Conv2D)       (None, 28, 28, 512)       2359808   \n",
            "                                                                 \n",
            " block4_pool (MaxPooling2D)  (None, 14, 14, 512)       0         \n",
            "                                                                 \n",
            " block5_conv1 (Conv2D)       (None, 14, 14, 512)       2359808   \n",
            "                                                                 \n",
            " block5_conv2 (Conv2D)       (None, 14, 14, 512)       2359808   \n",
            "                                                                 \n",
            " block5_conv3 (Conv2D)       (None, 14, 14, 512)       2359808   \n",
            "                                                                 \n",
            " block5_pool (MaxPooling2D)  (None, 7, 7, 512)         0         \n",
            "                                                                 \n",
            "=================================================================\n",
            "Total params: 14714688 (56.13 MB)\n",
            "Trainable params: 14714688 (56.13 MB)\n",
            "Non-trainable params: 0 (0.00 Byte)\n",
            "_________________________________________________________________\n"
          ]
        }
      ]
    },
    {
      "cell_type": "code",
      "source": [
        "# conv 미세하게 조정\n",
        "# 동결 (가중치 갱신을 막음) → 학습 불가능하게 설정\n",
        "# vgg16은 100만장의 사진으로 학습이 되어 있음 = 성능이 좋음\n",
        "# 학습시 가중치가 갱신이 되어버리면 기존에 학습된 내용이 훼손이 됨 → 성능이 떨어질 수 있음\n",
        "vgg16.trainable = False"
      ],
      "metadata": {
        "id": "1umxTaGWXYMq"
      },
      "execution_count": 31,
      "outputs": []
    },
    {
      "cell_type": "code",
      "source": [
        "# 분류부 연결하기\n",
        "transfer_model = Sequential()\n",
        "transfer_model.add(vgg16) # 특성 추출부 연결, 끝\n",
        "\n",
        "# 분류부 설계\n",
        "transfer_model.add(Flatten()) # mlp에 넣기 위해 일차원으로 펴기\n",
        "transfer_model.add(Dense(64, activation = 'relu'))\n",
        "transfer_model.add(Dense(1, activation = 'sigmoid')) # 개, 고양이 분류 (이진분류)\n",
        "\n",
        "transfer_model.summary()"
      ],
      "metadata": {
        "colab": {
          "base_uri": "https://localhost:8080/"
        },
        "id": "AY-yjzetXYPC",
        "outputId": "805b0f18-9eac-4fd4-e88d-1c3ae3d06246"
      },
      "execution_count": 32,
      "outputs": [
        {
          "output_type": "stream",
          "name": "stdout",
          "text": [
            "Model: \"sequential_3\"\n",
            "_________________________________________________________________\n",
            " Layer (type)                Output Shape              Param #   \n",
            "=================================================================\n",
            " vgg16 (Functional)          (None, 7, 7, 512)         14714688  \n",
            "                                                                 \n",
            " flatten_3 (Flatten)         (None, 25088)             0         \n",
            "                                                                 \n",
            " dense_8 (Dense)             (None, 64)                1605696   \n",
            "                                                                 \n",
            " dense_9 (Dense)             (None, 1)                 65        \n",
            "                                                                 \n",
            "=================================================================\n",
            "Total params: 16320449 (62.26 MB)\n",
            "Trainable params: 1605761 (6.13 MB)\n",
            "Non-trainable params: 14714688 (56.13 MB)\n",
            "_________________________________________________________________\n"
          ]
        }
      ]
    },
    {
      "cell_type": "code",
      "source": [
        "# 컴파일\n",
        "\n",
        "transfer_model.compile(loss='binary_crossentropy', optimizer= 'adam', metrics=['accuracy'])"
      ],
      "metadata": {
        "id": "juOFBAlSFcUr"
      },
      "execution_count": 33,
      "outputs": []
    },
    {
      "cell_type": "code",
      "source": [
        "# 마지막 conv 층을 (우리 데이터로)학습 가능하도록 동결 시킨 것 풀어주기\n",
        "# 해당 층의 이름 확인\n",
        "for layer in vgg16.layers:\n",
        "  # print(layer.name) # 마지막 conv 층 이름 : block5_conv3\n",
        "  if layer.name == 'block5_conv3' :\n",
        "    layer.trainable = True\n",
        "  else :\n",
        "    layer.trainable = False"
      ],
      "metadata": {
        "id": "TOAoN0uZgarN"
      },
      "execution_count": 35,
      "outputs": []
    },
    {
      "cell_type": "code",
      "source": [
        "# fit\n",
        "transfer_his = transfer_model.fit(X_train, y_train, validation_split=0.3, epochs = 10)"
      ],
      "metadata": {
        "colab": {
          "base_uri": "https://localhost:8080/"
        },
        "id": "9oxvP_4NgatW",
        "outputId": "e3d677d3-f342-4997-ec46-43fa50bb1b9f"
      },
      "execution_count": 36,
      "outputs": [
        {
          "output_type": "stream",
          "name": "stdout",
          "text": [
            "Epoch 1/10\n",
            "44/44 [==============================] - 18s 275ms/step - loss: 2.4151 - accuracy: 0.9264 - val_loss: 2.4040 - val_accuracy: 0.8917\n",
            "Epoch 2/10\n",
            "44/44 [==============================] - 8s 186ms/step - loss: 0.2662 - accuracy: 0.9821 - val_loss: 2.3373 - val_accuracy: 0.9250\n",
            "Epoch 3/10\n",
            "44/44 [==============================] - 8s 186ms/step - loss: 0.2298 - accuracy: 0.9914 - val_loss: 3.0266 - val_accuracy: 0.9017\n",
            "Epoch 4/10\n",
            "44/44 [==============================] - 8s 190ms/step - loss: 0.0494 - accuracy: 0.9964 - val_loss: 5.1033 - val_accuracy: 0.8733\n",
            "Epoch 5/10\n",
            "44/44 [==============================] - 8s 186ms/step - loss: 0.0011 - accuracy: 0.9993 - val_loss: 3.9146 - val_accuracy: 0.9067\n",
            "Epoch 6/10\n",
            "44/44 [==============================] - 8s 185ms/step - loss: 5.1521e-04 - accuracy: 0.9993 - val_loss: 1.9882 - val_accuracy: 0.9283\n",
            "Epoch 7/10\n",
            "44/44 [==============================] - 8s 184ms/step - loss: 0.0045 - accuracy: 0.9986 - val_loss: 2.2510 - val_accuracy: 0.9283\n",
            "Epoch 8/10\n",
            "44/44 [==============================] - 8s 180ms/step - loss: 0.0847 - accuracy: 0.9950 - val_loss: 4.4031 - val_accuracy: 0.8983\n",
            "Epoch 9/10\n",
            "44/44 [==============================] - 8s 183ms/step - loss: 0.0921 - accuracy: 0.9936 - val_loss: 4.0879 - val_accuracy: 0.9250\n",
            "Epoch 10/10\n",
            "44/44 [==============================] - 8s 183ms/step - loss: 0.1826 - accuracy: 0.9943 - val_loss: 3.0170 - val_accuracy: 0.9233\n"
          ]
        }
      ]
    },
    {
      "cell_type": "code",
      "source": [
        "plt.plot(range(1,len(transfer_his.history['accuracy'])+1), transfer_his.history['accuracy'], label = 'transfer_model_acc')\n",
        "plt.plot(range(1,len(transfer_his.history['val_accuracy'])+1), transfer_his.history['val_accuracy'], label = 'transfer_model_val_acc')\n",
        "\n",
        "plt.legend()\n",
        "plt.show()"
      ],
      "metadata": {
        "colab": {
          "base_uri": "https://localhost:8080/",
          "height": 430
        },
        "id": "0aP1pOuFgavt",
        "outputId": "c0585cdc-c1a0-429e-c334-0a515ed58162"
      },
      "execution_count": 38,
      "outputs": [
        {
          "output_type": "display_data",
          "data": {
            "text/plain": [
              "<Figure size 640x480 with 1 Axes>"
            ],
            "image/png": "[encoded data removed]"
          },
          "metadata": {}
        }
      ]
    },
    {
      "cell_type": "code",
      "source": [],
      "metadata": {
        "id": "E4v7_3j1gayS"
      },
      "execution_count": null,
      "outputs": []
    },
    {
      "cell_type": "code",
      "source": [],
      "metadata": {
        "id": "-p3JDjPDga0h"
      },
      "execution_count": null,
      "outputs": []
    }
  ]
}