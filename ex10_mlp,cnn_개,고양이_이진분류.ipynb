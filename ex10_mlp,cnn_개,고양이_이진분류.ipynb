{
  "nbformat": 4,
  "nbformat_minor": 0,
  "metadata": {
    "colab": {
      "provenance": [],
      "gpuType": "T4",
      "mount_file_id": "13nqMBdb7Ah3_k2Lr9zZ5_P-ez1b7ZFIT",
      "authorship_tag": "ABX9TyMDAwUzxd6yRghrvynoTjjA",
      "include_colab_link": true
    },
    "kernelspec": {
      "name": "python3",
      "display_name": "Python 3"
    },
    "language_info": {
      "name": "python"
    },
    "accelerator": "GPU"
  },
  "cells": [
    {
      "cell_type": "markdown",
      "metadata": {
        "id": "view-in-github",
        "colab_type": "text"
      },
      "source": [
        "<a href=\"https://colab.research.google.com/github/lee-j-j/LJJ/blob/main/ex10_mlp%2Ccnn_%EA%B0%9C%2C%EA%B3%A0%EC%96%91%EC%9D%B4_%EC%9D%B4%EC%A7%84%EB%B6%84%EB%A5%98.ipynb\" target=\"_parent\"><img src=\"https://colab.research.google.com/assets/colab-badge.svg\" alt=\"Open In Colab\"/></a>"
      ]
    },
    {
      "cell_type": "markdown",
      "source": [
        "### 목표\n",
        "- 개, 고양이 데이터 이미지를 배열로 변환 작업을 진행해보자 (이미지 데이터 전처리)\n",
        "  - 이미지 자체를 저장소 업로드하는 것보다 배열로 변환했을 때 용량 소모가 적음\n",
        "- mlp 이미지 데이터 이진 분류\n",
        "- cnn 이미지 데이터 이진 분류\n",
        "- 성능을 높이기 위한 노력을 진행해보자\n",
        "  - 이미지 증식\n",
        "  - 전이학습"
      ],
      "metadata": {
        "id": "n-aGQurp1W4y"
      }
    },
    {
      "cell_type": "code",
      "source": [
        "# 개, 고양이 배열 데이터 불러오기\n",
        "import numpy as np\n",
        "import pandas as pd\n",
        "import matplotlib.pyplot as plt"
      ],
      "metadata": {
        "id": "3QGeyXFuIOdk"
      },
      "execution_count": 4,
      "outputs": []
    },
    {
      "cell_type": "code",
      "source": [
        "data = np.load('./data/np_cat_vs_dog.npz')\n",
        "data"
      ],
      "metadata": {
        "colab": {
          "base_uri": "https://localhost:8080/"
        },
        "id": "9bVXn5-1IOgw",
        "outputId": "1b4316ce-ad5c-41a2-bb2c-1964ec6ae52e"
      },
      "execution_count": 5,
      "outputs": [
        {
          "output_type": "execute_result",
          "data": {
            "text/plain": [
              "<numpy.lib.npyio.NpzFile at 0x7a14b5586890>"
            ]
          },
          "metadata": {},
          "execution_count": 5
        }
      ]
    },
    {
      "cell_type": "code",
      "source": [
        "len(data)\n",
        "# 각각의 변수에 데이터 분리해서 담아주기\n",
        "X_train = data['X_train']\n",
        "X_test = data['X_test']\n",
        "y_train = data['y_train']\n",
        "y_test = data['y_test']\n",
        "\n",
        "# 크기확인\n",
        "print('훈련셋 : ', X_train.shape, y_train.shape)\n",
        "print('테스트셋 : ', X_test.shape, y_test.shape)"
      ],
      "metadata": {
        "colab": {
          "base_uri": "https://localhost:8080/"
        },
        "id": "GKuJJgXHIOjk",
        "outputId": "5ad82d0a-978f-4c34-fb3d-1b1ff0a3bde6"
      },
      "execution_count": 7,
      "outputs": [
        {
          "output_type": "stream",
          "name": "stdout",
          "text": [
            "훈련셋 :  (2000, 224, 224, 3) (2000,)\n",
            "테스트셋 :  (1000, 224, 224, 3) (1000,)\n"
          ]
        }
      ]
    },
    {
      "cell_type": "markdown",
      "source": [
        "#### mlp 모델 생성"
      ],
      "metadata": {
        "id": "Zslb6yN0M6Lo"
      }
    },
    {
      "cell_type": "code",
      "source": [
        "from tensorflow.keras.models import Sequential\n",
        "from tensorflow.keras.layers import Dense, Flatten # 1차원 펴주는 도구\n",
        "from tensorflow.keras.callbacks import EarlyStopping # 조기 학습 중단 도구"
      ],
      "metadata": {
        "id": "_7oVy3pRJu1G"
      },
      "execution_count": 11,
      "outputs": []
    },
    {
      "cell_type": "code",
      "source": [
        "# 1. 모델 설계\n",
        "# 뼈대 구축\n",
        "mlp_model = Sequential()\n",
        "\n",
        "# 입력(3차원 → 1차원)\n",
        "mlp_model.add(Flatten(input_shape = (224,224,3))) # 행,열,채널수(컬러) → 1차원 데이터 연결\n",
        "\n",
        "# 중간층\n",
        "mlp_model.add(Dense(units = 256, activation = 'relu'))\n",
        "mlp_model.add(Dense(units = 128, activation = 'relu'))\n",
        "mlp_model.add(Dense(units = 64, activation = 'relu'))\n",
        "\n",
        "# 출력층 (이진분류 : units = 1, acti_f = sigmoid)\n",
        "mlp_model.add(Dense(units = 1, activation = 'sigmoid'))\n",
        "mlp_model.summary()"
      ],
      "metadata": {
        "colab": {
          "base_uri": "https://localhost:8080/"
        },
        "id": "wOXxFmrrJu3h",
        "outputId": "b3dd6068-f597-49dc-a371-f8e3a28abc08"
      },
      "execution_count": 12,
      "outputs": [
        {
          "output_type": "stream",
          "name": "stdout",
          "text": [
            "Model: \"sequential\"\n",
            "_________________________________________________________________\n",
            " Layer (type)                Output Shape              Param #   \n",
            "=================================================================\n",
            " flatten (Flatten)           (None, 150528)            0         \n",
            "                                                                 \n",
            " dense (Dense)               (None, 256)               38535424  \n",
            "                                                                 \n",
            " dense_1 (Dense)             (None, 128)               32896     \n",
            "                                                                 \n",
            " dense_2 (Dense)             (None, 64)                8256      \n",
            "                                                                 \n",
            " dense_3 (Dense)             (None, 1)                 65        \n",
            "                                                                 \n",
            "=================================================================\n",
            "Total params: 38576641 (147.16 MB)\n",
            "Trainable params: 38576641 (147.16 MB)\n",
            "Non-trainable params: 0 (0.00 Byte)\n",
            "_________________________________________________________________\n"
          ]
        }
      ]
    },
    {
      "cell_type": "code",
      "source": [
        "# 번역 : compile\n",
        "# pc가 이해하도록 번역하는 작업\n",
        "# loss, optimizer, metrics\n",
        "mlp_model.compile(loss = 'binary_crossentropy', optimizer = 'adam' , metrics = ['accuracy'])"
      ],
      "metadata": {
        "id": "yA0niPfxJu5v"
      },
      "execution_count": 13,
      "outputs": []
    },
    {
      "cell_type": "code",
      "source": [
        "# 조기학습중단 설정\n",
        "# 검증 정확도 기준, 5번 기다림\n",
        "f_ea = EarlyStopping(monitor = \"val_accuracy\", patience=5)\n",
        "\n",
        "# 학습, 검증데이터 분리 30%, batchsize 64, 반복횟수 50, 조기학습중단 연결\n",
        "mlp_his = mlp_model.fit(X_train, y_train, validation_split=0.3, epochs = 50, batch_size = 64, callbacks = [f_ea])\n",
        "# validation_split 대신 validation_data를 쓸 때 : X_val, y_val 데이터를 따로 만들어 두어야 함!\n"
      ],
      "metadata": {
        "colab": {
          "base_uri": "https://localhost:8080/"
        },
        "id": "byZQFfrEJu7t",
        "outputId": "64853d40-0ae3-48d9-bc74-22d34bd48f10"
      },
      "execution_count": 15,
      "outputs": [
        {
          "output_type": "stream",
          "name": "stdout",
          "text": [
            "Epoch 1/50\n",
            "22/22 [==============================] - 1s 40ms/step - loss: 144.4199 - accuracy: 0.6414 - val_loss: 1260.6475 - val_accuracy: 0.0000e+00\n",
            "Epoch 2/50\n",
            "22/22 [==============================] - 1s 29ms/step - loss: 217.3420 - accuracy: 0.6436 - val_loss: 1199.0305 - val_accuracy: 0.0000e+00\n",
            "Epoch 3/50\n",
            "22/22 [==============================] - 1s 27ms/step - loss: 123.3529 - accuracy: 0.6800 - val_loss: 316.1369 - val_accuracy: 0.1500\n",
            "Epoch 4/50\n",
            "22/22 [==============================] - 1s 23ms/step - loss: 177.4574 - accuracy: 0.6429 - val_loss: 1332.3702 - val_accuracy: 0.0000e+00\n",
            "Epoch 5/50\n",
            "22/22 [==============================] - 0s 20ms/step - loss: 264.2211 - accuracy: 0.6286 - val_loss: 4.1427 - val_accuracy: 0.9567\n",
            "Epoch 6/50\n",
            "22/22 [==============================] - 0s 19ms/step - loss: 411.4988 - accuracy: 0.5957 - val_loss: 1161.0770 - val_accuracy: 0.0000e+00\n",
            "Epoch 7/50\n",
            "22/22 [==============================] - 0s 18ms/step - loss: 206.4472 - accuracy: 0.6350 - val_loss: 851.1266 - val_accuracy: 0.0000e+00\n",
            "Epoch 8/50\n",
            "22/22 [==============================] - 0s 19ms/step - loss: 106.4995 - accuracy: 0.6986 - val_loss: 44.0163 - val_accuracy: 0.5983\n",
            "Epoch 9/50\n",
            "22/22 [==============================] - 0s 19ms/step - loss: 53.6792 - accuracy: 0.6971 - val_loss: 29.0538 - val_accuracy: 0.7400\n",
            "Epoch 10/50\n",
            "22/22 [==============================] - 0s 23ms/step - loss: 49.6964 - accuracy: 0.7014 - val_loss: 115.2833 - val_accuracy: 0.3600\n"
          ]
        }
      ]
    },
    {
      "cell_type": "code",
      "source": [
        "# test 데이터 활용해서 평가하기\n",
        "# 모델.score(문제, 답) → 머신러닝 모델 평가하는 함수 (sklearn) * sk? science kit!\n",
        "# 모델.evaluate(문제, 답) → 딥러닝 모델 평가하는 함수 (tensorflow.keras)\n",
        "mlp_model.evaluate(X_test, y_test)"
      ],
      "metadata": {
        "colab": {
          "base_uri": "https://localhost:8080/"
        },
        "id": "MShn3n3wR_Ua",
        "outputId": "65c02615-2b44-4d0a-974a-d36dd0c281f9"
      },
      "execution_count": 16,
      "outputs": [
        {
          "output_type": "stream",
          "name": "stdout",
          "text": [
            "32/32 [==============================] - 0s 7ms/step - loss: 65.2584 - accuracy: 0.5720\n"
          ]
        },
        {
          "output_type": "execute_result",
          "data": {
            "text/plain": [
              "[65.25836944580078, 0.5720000267028809]"
            ]
          },
          "metadata": {},
          "execution_count": 16
        }
      ]
    },
    {
      "cell_type": "markdown",
      "source": [
        "#### cnn 모델 생성\n",
        "- 1. 모델 설계 (cnn층)\n",
        "- 2. 모델 학습 및 평가 방법 설정\n",
        "- 3. 모델 학습 및 시각화\n",
        "- 4. 모델 평가 및 예측"
      ],
      "metadata": {
        "id": "AqBm_1-bTTqW"
      }
    },
    {
      "cell_type": "code",
      "source": [
        "from tensorflow.keras.models import Sequential\n",
        "from tensorflow.keras.layers import Dense, Flatten, Conv2D, MaxPooling2D, Dropout # Conv2D : 대상에 집중하게 만들어주는 역할"
      ],
      "metadata": {
        "id": "RBUpBZkER_Xs"
      },
      "execution_count": 18,
      "outputs": []
    },
    {
      "cell_type": "code",
      "source": [
        "# cnn 신경망 구조를 설계\n",
        "# 뼈대 생성\n",
        "cnn_model = Sequential()\n",
        "\n",
        "# 대상에 집중! → 중요한 특성에 집중! → 특성 추출\n",
        "# 특성 추출부(층) - conv(합성곱)\n",
        "cnn_model.add(Conv2D(32, (3,3), padding='same', input_shape=(224,224,3), activation='relu'))\n",
        "cnn_model.add(MaxPooling2D(pool_size = 2))\n",
        "\n",
        "cnn_model.add(Conv2D(64, (3,3), padding='same', activation='relu'))\n",
        "cnn_model.add(MaxPooling2D(pool_size = 2))\n",
        "\n",
        "cnn_model.add(Conv2D(128, (3,3), padding='same', activation='relu'))\n",
        "cnn_model.add(MaxPooling2D(pool_size = 2))\n",
        "\n",
        "# 개, 고양이 분류부(층) - mlp(입력(1차원으로 펴주는 기능 필요), 중간, 출력층(이진분류))\n",
        "cnn_model.add(Flatten()) # 특성 추출부를 거친 후의 input_shape가 자동으로 전달 됨 - 생략\n",
        "cnn_model.add(Dense(512, activation = 'relu')) # 중간층\n",
        "cnn_model.add(Dense(1, activation = 'sigmoid')) # 출력층\n",
        "\n",
        "# 모델 정보 확인\n",
        "cnn_model.summary()\n"
      ],
      "metadata": {
        "colab": {
          "base_uri": "https://localhost:8080/"
        },
        "id": "xzGUl6jGTkzu",
        "outputId": "665e0470-24cb-4e37-cb2f-4d7c21226c3a"
      },
      "execution_count": 21,
      "outputs": [
        {
          "output_type": "stream",
          "name": "stdout",
          "text": [
            "Model: \"sequential_2\"\n",
            "_________________________________________________________________\n",
            " Layer (type)                Output Shape              Param #   \n",
            "=================================================================\n",
            " conv2d_3 (Conv2D)           (None, 224, 224, 32)      896       \n",
            "                                                                 \n",
            " max_pooling2d_3 (MaxPoolin  (None, 112, 112, 32)      0         \n",
            " g2D)                                                            \n",
            "                                                                 \n",
            " conv2d_4 (Conv2D)           (None, 112, 112, 64)      18496     \n",
            "                                                                 \n",
            " max_pooling2d_4 (MaxPoolin  (None, 56, 56, 64)        0         \n",
            " g2D)                                                            \n",
            "                                                                 \n",
            " conv2d_5 (Conv2D)           (None, 56, 56, 128)       73856     \n",
            "                                                                 \n",
            " max_pooling2d_5 (MaxPoolin  (None, 28, 28, 128)       0         \n",
            " g2D)                                                            \n",
            "                                                                 \n",
            " flatten_2 (Flatten)         (None, 100352)            0         \n",
            "                                                                 \n",
            " dense_6 (Dense)             (None, 512)               51380736  \n",
            "                                                                 \n",
            " dense_7 (Dense)             (None, 1)                 513       \n",
            "                                                                 \n",
            "=================================================================\n",
            "Total params: 51474497 (196.36 MB)\n",
            "Trainable params: 51474497 (196.36 MB)\n",
            "Non-trainable params: 0 (0.00 Byte)\n",
            "_________________________________________________________________\n"
          ]
        }
      ]
    },
    {
      "cell_type": "code",
      "source": [
        "# compile\n",
        "cnn_model.compile(loss='binary_crossentropy', optimizer='adam', metrics=['accuracy'])\n",
        "\n",
        "# fit\n",
        "cnn_his = cnn_model.fit(X_train, y_train, validation_split=0.3, epochs=50, batch_size=64, callbacks=[f_ea])"
      ],
      "metadata": {
        "colab": {
          "base_uri": "https://localhost:8080/"
        },
        "id": "9cMBV-RbTk2p",
        "outputId": "fbbe2c97-7750-488f-ef9f-4ee5971854bd"
      },
      "execution_count": 22,
      "outputs": [
        {
          "output_type": "stream",
          "name": "stdout",
          "text": [
            "Epoch 1/50\n",
            "22/22 [==============================] - 13s 207ms/step - loss: 301.5003 - accuracy: 0.5821 - val_loss: 0.9881 - val_accuracy: 0.0000e+00\n",
            "Epoch 2/50\n",
            "22/22 [==============================] - 2s 104ms/step - loss: 0.6347 - accuracy: 0.7143 - val_loss: 1.3514 - val_accuracy: 0.0000e+00\n",
            "Epoch 3/50\n",
            "22/22 [==============================] - 2s 99ms/step - loss: 0.5413 - accuracy: 0.7386 - val_loss: 1.3583 - val_accuracy: 0.0100\n",
            "Epoch 4/50\n",
            "22/22 [==============================] - 2s 100ms/step - loss: 0.4785 - accuracy: 0.7736 - val_loss: 1.8339 - val_accuracy: 0.0567\n",
            "Epoch 5/50\n",
            "22/22 [==============================] - 2s 111ms/step - loss: 0.3955 - accuracy: 0.8243 - val_loss: 1.6509 - val_accuracy: 0.2183\n",
            "Epoch 6/50\n",
            "22/22 [==============================] - 2s 111ms/step - loss: 0.2883 - accuracy: 0.8814 - val_loss: 2.5635 - val_accuracy: 0.2533\n",
            "Epoch 7/50\n",
            "22/22 [==============================] - 2s 112ms/step - loss: 0.2265 - accuracy: 0.9064 - val_loss: 2.3943 - val_accuracy: 0.3433\n",
            "Epoch 8/50\n",
            "22/22 [==============================] - 2s 106ms/step - loss: 0.1465 - accuracy: 0.9364 - val_loss: 3.5600 - val_accuracy: 0.3483\n",
            "Epoch 9/50\n",
            "22/22 [==============================] - 2s 104ms/step - loss: 0.1108 - accuracy: 0.9636 - val_loss: 4.1608 - val_accuracy: 0.2200\n",
            "Epoch 10/50\n",
            "22/22 [==============================] - 2s 102ms/step - loss: 0.0995 - accuracy: 0.9686 - val_loss: 4.3616 - val_accuracy: 0.3600\n",
            "Epoch 11/50\n",
            "22/22 [==============================] - 2s 102ms/step - loss: 0.0565 - accuracy: 0.9857 - val_loss: 6.1123 - val_accuracy: 0.3500\n",
            "Epoch 12/50\n",
            "22/22 [==============================] - 2s 104ms/step - loss: 0.0315 - accuracy: 0.9907 - val_loss: 7.0719 - val_accuracy: 0.2700\n",
            "Epoch 13/50\n",
            "22/22 [==============================] - 2s 104ms/step - loss: 0.0147 - accuracy: 0.9979 - val_loss: 6.7441 - val_accuracy: 0.2800\n",
            "Epoch 14/50\n",
            "22/22 [==============================] - 2s 106ms/step - loss: 0.0095 - accuracy: 0.9971 - val_loss: 8.8105 - val_accuracy: 0.2717\n",
            "Epoch 15/50\n",
            "22/22 [==============================] - 2s 101ms/step - loss: 0.0058 - accuracy: 0.9986 - val_loss: 5.3368 - val_accuracy: 0.4033\n",
            "Epoch 16/50\n",
            "22/22 [==============================] - 2s 105ms/step - loss: 0.0125 - accuracy: 0.9971 - val_loss: 6.9854 - val_accuracy: 0.2800\n",
            "Epoch 17/50\n",
            "22/22 [==============================] - 2s 101ms/step - loss: 0.0047 - accuracy: 0.9986 - val_loss: 8.3287 - val_accuracy: 0.2833\n",
            "Epoch 18/50\n",
            "22/22 [==============================] - 2s 107ms/step - loss: 0.0021 - accuracy: 1.0000 - val_loss: 9.5547 - val_accuracy: 0.3150\n",
            "Epoch 19/50\n",
            "22/22 [==============================] - 2s 104ms/step - loss: 9.9881e-04 - accuracy: 1.0000 - val_loss: 9.8402 - val_accuracy: 0.2983\n",
            "Epoch 20/50\n",
            "22/22 [==============================] - 2s 105ms/step - loss: 6.2358e-04 - accuracy: 1.0000 - val_loss: 10.5871 - val_accuracy: 0.2767\n"
          ]
        }
      ]
    },
    {
      "cell_type": "code",
      "source": [
        "# 과대적합 보여짐\n",
        "# 왜 이렇게 학습했을까?\n",
        "# cnn 특성에 집중 → val 예측 성능은 떨어지는 상태\n",
        "# 데이터는 복잡한 데이터일 수 있음\n",
        "# 반대로 모델은 너무 단순할 수 있음"
      ],
      "metadata": {
        "id": "l91utLMkATzv"
      },
      "execution_count": null,
      "outputs": []
    },
    {
      "cell_type": "code",
      "source": [
        "# 평가\n",
        "# cnn_model.evaluate(X_test, y_test)[1] : 정확도만 확인\n",
        "cnn_model.evaluate(X_test, y_test) # accuracy = 58%"
      ],
      "metadata": {
        "colab": {
          "base_uri": "https://localhost:8080/"
        },
        "id": "MGJp2unIR_aP",
        "outputId": "cfe34810-8361-4a78-dccd-8420d32fb848"
      },
      "execution_count": 23,
      "outputs": [
        {
          "output_type": "stream",
          "name": "stdout",
          "text": [
            "32/32 [==============================] - 1s 20ms/step - loss: 4.8492 - accuracy: 0.5800\n"
          ]
        },
        {
          "output_type": "execute_result",
          "data": {
            "text/plain": [
              "[4.84920597076416, 0.5799999833106995]"
            ]
          },
          "metadata": {},
          "execution_count": 23
        }
      ]
    }
  ]
}