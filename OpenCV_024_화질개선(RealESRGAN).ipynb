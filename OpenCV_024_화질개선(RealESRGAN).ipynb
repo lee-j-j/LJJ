{
  "cells": [
    {
      "cell_type": "markdown",
      "metadata": {
        "id": "view-in-github",
        "colab_type": "text"
      },
      "source": [
        "<a href=\"https://colab.research.google.com/github/lee-j-j/LJJ/blob/main/OpenCV_024_%ED%99%94%EC%A7%88%EA%B0%9C%EC%84%A0(RealESRGAN).ipynb\" target=\"_parent\"><img src=\"https://colab.research.google.com/assets/colab-badge.svg\" alt=\"Open In Colab\"/></a>"
      ]
    },
    {
      "cell_type": "markdown",
      "id": "7d298b85",
      "metadata": {
        "id": "7d298b85"
      },
      "source": [
        "<center><img src=\"https://arome1004.cafe24.com/images/opencv/lecture_image/00_title.png\"></center>"
      ]
    },
    {
      "cell_type": "markdown",
      "id": "f39239d5",
      "metadata": {
        "id": "f39239d5"
      },
      "source": [
        "<table border=1 width=100%>\n",
        "    <tr><td style=\"border: 1px solid black; width:600px; height:30px; text-align: center;\"><font size=4 color=blue><b>[24차시] 학습목표</b></font></td></tr>       \n",
        "    <tr><td style=\"border: 1px solid black; text-align: left;\"><font size=2>○ - <br><br>\n",
        "○ - <br><br>\n",
        "○ - </font></td></tr>   \n",
        "</table>"
      ]
    },
    {
      "cell_type": "markdown",
      "id": "dd4d8b07",
      "metadata": {
        "id": "dd4d8b07"
      },
      "source": [
        "# 영상복원 (이미지 화질 개선) (Real ESRGAN)\n",
        "\n",
        "- 소스코드 : https://github.com/xinntao/Real-ESRGAN\n",
        "- 릴리스 버전 : https://github.com/xinntao/Real-ESRGAN/releases\n",
        "- 논문 : https://arxiv.org/abs/2107.10833\n",
        "- 논문분석 : https://velog.io/@heaseo/Real-ESRGAN-Training-Real-World-Blind-Super-Resolution-with-Pure-Synthetic-Data-해석\n",
        "\n",
        "- Real-ESRGAN 사례\n",
        "<center><img src=\"https://arome1004.cafe24.com/images/opencv/lecture_image/24_esrgan.png\" width=80%></center>"
      ]
    },
    {
      "cell_type": "markdown",
      "id": "4c3e318e",
      "metadata": {
        "id": "4c3e318e"
      },
      "source": [
        "## 준비하기"
      ]
    },
    {
      "cell_type": "code",
      "execution_count": null,
      "id": "93ab8cf3",
      "metadata": {
        "id": "93ab8cf3"
      },
      "outputs": [],
      "source": [
        "# Real-ESRGAN를 git 주소에서 clone하기\n",
        "!git clone https://github.com/xinntao/Real-ESRGAN.git\n",
        "%cd Real-ESRGAN\n",
        "\n",
        "# 라이브러리 다운로드\n",
        "!pip install basicsr\n",
        "!pip install facexlib\n",
        "!pip install gfpgan\n",
        "!pip install -r requirements.txt\n",
        "\n",
        "!python setup.py develop"
      ]
    },
    {
      "cell_type": "markdown",
      "id": "f2c43758",
      "metadata": {
        "id": "f2c43758"
      },
      "source": [
        "## 사전 훈련된 모델 다운로드\n",
        "- https://github.com/xinntao/Real-ESRGAN/releases/download/v0.1.0/RealESRGAN_x4plus.pth\n",
        "- 다운받은 파일을  \\Real-ESRGAN\\Real-ESRGAN\\experiments\\pretrained_models로 이동"
      ]
    },
    {
      "cell_type": "markdown",
      "id": "149d6b1c",
      "metadata": {
        "id": "149d6b1c"
      },
      "source": [
        "## 이미지 업로드\n",
        "- upload 폴더로 흐린 원본 이미지 (input 폴더에 샘플이미지 및 동영상 포함) 복사"
      ]
    },
    {
      "cell_type": "code",
      "execution_count": 2,
      "id": "4354b3db",
      "metadata": {
        "id": "4354b3db"
      },
      "outputs": [],
      "source": [
        "import os\n",
        "import shutil\n",
        "\n",
        "upload_folder = 'upload'\n",
        "result_folder = 'results'\n",
        "\n",
        "base_foloder = \"/content/Real-ESRGAN\"\n",
        "upload_folder = base_foloder + '/upload/'\n",
        "result_folder = base_foloder + '/results/'\n",
        "\n",
        "if not os.path.exists(upload_folder) :\n",
        "    os.mkdir(upload_folder)\n",
        "\n",
        "# 폴더와 파일 삭제\n",
        "# 만약 폴더에 파일이나 다른 폴더가 있다면\n",
        "if os.path.isdir(result_folder):\n",
        "    # 파일과 폴더를 다 삭제\n",
        "    shutil.rmtree(result_folder)\n",
        "\n",
        "# 결과 폴더를 새로 생성\n",
        "os.mkdir(result_folder)"
      ]
    },
    {
      "cell_type": "markdown",
      "id": "c712334b",
      "metadata": {
        "id": "c712334b"
      },
      "source": [
        "## 실행하기\n",
        "- upload 폴더의 이미지를 개선하여 results 폴더에 저장"
      ]
    },
    {
      "cell_type": "code",
      "execution_count": 3,
      "id": "1b280271",
      "metadata": {
        "scrolled": true,
        "id": "1b280271",
        "outputId": "f6b872fb-22ff-432e-a595-75be22ffc25e",
        "colab": {
          "base_uri": "https://localhost:8080/"
        }
      },
      "outputs": [
        {
          "output_type": "stream",
          "name": "stdout",
          "text": [
            "/usr/local/lib/python3.10/dist-packages/torchvision/transforms/functional_tensor.py:5: UserWarning: The torchvision.transforms.functional_tensor module is deprecated in 0.15 and will be **removed in 0.17**. Please don't rely on it. You probably just need to use APIs in torchvision.transforms.functional or in torchvision.transforms.v2.functional.\n",
            "  warnings.warn(\n",
            "Downloading: \"https://github.com/xinntao/Real-ESRGAN/releases/download/v0.1.0/RealESRGAN_x4plus.pth\" to /content/Real-ESRGAN/weights/RealESRGAN_x4plus.pth\n",
            "\n",
            "100% 63.9M/63.9M [00:00<00:00, 242MB/s]\n",
            "/usr/local/lib/python3.10/dist-packages/torchvision/models/_utils.py:208: UserWarning: The parameter 'pretrained' is deprecated since 0.13 and may be removed in the future, please use 'weights' instead.\n",
            "  warnings.warn(\n",
            "/usr/local/lib/python3.10/dist-packages/torchvision/models/_utils.py:223: UserWarning: Arguments other than a weight enum or `None` for 'weights' are deprecated since 0.13 and may be removed in the future. The current behavior is equivalent to passing `weights=None`.\n",
            "  warnings.warn(msg)\n",
            "Downloading: \"https://github.com/xinntao/facexlib/releases/download/v0.1.0/detection_Resnet50_Final.pth\" to /content/Real-ESRGAN/gfpgan/weights/detection_Resnet50_Final.pth\n",
            "\n",
            "100% 104M/104M [00:00<00:00, 268MB/s]\n",
            "Downloading: \"https://github.com/xinntao/facexlib/releases/download/v0.2.2/parsing_parsenet.pth\" to /content/Real-ESRGAN/gfpgan/weights/parsing_parsenet.pth\n",
            "\n",
            "100% 81.4M/81.4M [00:00<00:00, 249MB/s]\n",
            "Downloading: \"https://github.com/TencentARC/GFPGAN/releases/download/v1.3.0/GFPGANv1.3.pth\" to /usr/local/lib/python3.10/dist-packages/gfpgan/weights/GFPGANv1.3.pth\n",
            "\n",
            "100% 332M/332M [00:02<00:00, 120MB/s]\n",
            "Testing 0 00003\n",
            "Error \"slow_conv2d_cpu\" not implemented for 'Half'\n",
            "If you encounter CUDA out of memory, try to set --tile with a smaller number.\n",
            "Testing 1 0014\n",
            "Error \"slow_conv2d_cpu\" not implemented for 'Half'\n",
            "If you encounter CUDA out of memory, try to set --tile with a smaller number.\n",
            "Testing 2 0030\n",
            "Error \"slow_conv2d_cpu\" not implemented for 'Half'\n",
            "If you encounter CUDA out of memory, try to set --tile with a smaller number.\n"
          ]
        }
      ],
      "source": [
        "# -n 모델명\n",
        "# -i 이미지폴더명\n",
        "# --outscale 출력스케일값\n",
        "# --face_enhance : GFPGAN를 사용한 이미지 개선\n",
        "!python inference_realesrgan.py -n RealESRGAN_x4plus -i upload --outscale 3.5 --face_enhance"
      ]
    },
    {
      "cell_type": "markdown",
      "id": "a612fbad",
      "metadata": {
        "id": "a612fbad"
      },
      "source": [
        "## 결과 출력\n",
        "- results 폴더의 개선된 이미지 출력"
      ]
    },
    {
      "cell_type": "code",
      "execution_count": null,
      "id": "d14c314d",
      "metadata": {
        "id": "d14c314d"
      },
      "outputs": [],
      "source": [
        "import cv2\n",
        "import matplotlib.pyplot as plt\n",
        "import os.path\n",
        "\n",
        "in_files = os.listdir(upload_folder)\n",
        "out_files = os.listdir(result_folder)\n",
        "\n",
        "for in_file, out_file in zip(in_files, out_files):\n",
        "    in_img = cv2.imread(upload_folder + in_file)\n",
        "    out_img = cv2.imread(result_folder + out_file)\n",
        "\n",
        "    in_img = cv2.cvtColor(in_img, cv2.COLOR_BGR2RGB)\n",
        "    out_img = cv2.cvtColor(out_img, cv2.COLOR_BGR2RGB)\n",
        "\n",
        "    plt.figure(figsize=(10,5))\n",
        "    plt.subplot(1, 2, 1)\n",
        "    plt.xticks([]); plt.yticks([])\n",
        "    plt.title(\"Input image\")\n",
        "    plt.imshow(in_img)\n",
        "\n",
        "    plt.subplot(1, 2, 2)\n",
        "    plt.xticks([]); plt.yticks([])\n",
        "    plt.title(\"Real-ESRGAN output\")\n",
        "    plt.imshow(out_img)"
      ]
    },
    {
      "cell_type": "code",
      "execution_count": null,
      "id": "48e27fa4",
      "metadata": {
        "id": "48e27fa4"
      },
      "outputs": [],
      "source": []
    },
    {
      "cell_type": "markdown",
      "id": "461cb9e5",
      "metadata": {
        "id": "461cb9e5"
      },
      "source": [
        "<table border=1 width=100%>\n",
        "    <tr><td style=\"border: 1px solid black; width:600px; height:40px; text-align: center;\"><font size=4 color=blue><b>[24차시] 정리하기</b></font></td></tr>       \n",
        "    <tr><td style=\"border: 1px solid black; text-align: left;\"><font size=3>○            \n",
        "        </font></td></tr>   \n",
        "</table>"
      ]
    }
  ],
  "metadata": {
    "hide_input": false,
    "kernelspec": {
      "display_name": "Python 3 (ipykernel)",
      "language": "python",
      "name": "python3"
    },
    "language_info": {
      "codemirror_mode": {
        "name": "ipython",
        "version": 3
      },
      "file_extension": ".py",
      "mimetype": "text/x-python",
      "name": "python",
      "nbconvert_exporter": "python",
      "pygments_lexer": "ipython3",
      "version": "3.7.13"
    },
    "toc": {
      "base_numbering": 1,
      "nav_menu": {},
      "number_sections": true,
      "sideBar": true,
      "skip_h1_title": false,
      "title_cell": "Table of Contents",
      "title_sidebar": "Contents",
      "toc_cell": false,
      "toc_position": {},
      "toc_section_display": true,
      "toc_window_display": false
    },
    "colab": {
      "provenance": [],
      "include_colab_link": true
    }
  },
  "nbformat": 4,
  "nbformat_minor": 5
}