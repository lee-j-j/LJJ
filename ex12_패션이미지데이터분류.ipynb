{
  "nbformat": 4,
  "nbformat_minor": 0,
  "metadata": {
    "colab": {
      "provenance": [],
      "gpuType": "T4",
      "mount_file_id": "1XHkDfvhBegnWGDoXos5EtzZdSWQR_bgF",
      "authorship_tag": "ABX9TyNx4imFMwXEerx7GJ5xtxx5",
      "include_colab_link": true
    },
    "kernelspec": {
      "name": "python3",
      "display_name": "Python 3"
    },
    "language_info": {
      "name": "python"
    },
    "accelerator": "GPU"
  },
  "cells": [
    {
      "cell_type": "markdown",
      "metadata": {
        "id": "view-in-github",
        "colab_type": "text"
      },
      "source": [
        "<a href=\"https://colab.research.google.com/github/lee-j-j/LJJ/blob/main/ex12_%ED%8C%A8%EC%85%98%EC%9D%B4%EB%AF%B8%EC%A7%80%EB%8D%B0%EC%9D%B4%ED%84%B0%EB%B6%84%EB%A5%98.ipynb\" target=\"_parent\"><img src=\"https://colab.research.google.com/assets/colab-badge.svg\" alt=\"Open In Colab\"/></a>"
      ]
    },
    {
      "cell_type": "code",
      "source": [
        "%cd /content/drive/MyDrive/Colab Notebooks/사물지능A"
      ],
      "metadata": {
        "colab": {
          "base_uri": "https://localhost:8080/"
        },
        "id": "tr-HQqnHnvgR",
        "outputId": "3829c2e9-429f-44c0-9c06-15a9ef6c08c5"
      },
      "execution_count": 1,
      "outputs": [
        {
          "output_type": "stream",
          "name": "stdout",
          "text": [
            "[Errno 2] No such file or directory: '/content/drive/MyDrive/Colab Notebooks/사물지능A'\n",
            "/content\n"
          ]
        }
      ]
    },
    {
      "cell_type": "markdown",
      "source": [
        "# 데이터 개요\n",
        "- 10가지 패션 데이터로 구성\n",
        "- 이미지 : 28x28, 흑백이미지\n",
        "- 훈련데이터 : 60000개, 테스트데이터 : 10000개"
      ],
      "metadata": {
        "id": "2HCsmfhkm-a2"
      }
    },
    {
      "cell_type": "markdown",
      "source": [
        "- 이미지 가져오기"
      ],
      "metadata": {
        "id": "hfN8x0A5nakE"
      }
    },
    {
      "cell_type": "code",
      "execution_count": 16,
      "metadata": {
        "id": "SdlWAOxcmoRw"
      },
      "outputs": [],
      "source": [
        "from tensorflow.keras.datasets import fashion_mnist\n",
        "\n",
        "(X_train, y_train), (X_test, y_test) = fashion_mnist.load_data()"
      ]
    },
    {
      "cell_type": "code",
      "source": [
        "X_train.shape, y_train.shape, X_test.shape, y_test.shape"
      ],
      "metadata": {
        "colab": {
          "base_uri": "https://localhost:8080/"
        },
        "id": "QnNORZlhn8XF",
        "outputId": "713ca44e-08f9-48ca-83ba-2c0f2bfdc278"
      },
      "execution_count": 17,
      "outputs": [
        {
          "output_type": "execute_result",
          "data": {
            "text/plain": [
              "((60000, 28, 28), (60000,), (10000, 28, 28), (10000,))"
            ]
          },
          "metadata": {},
          "execution_count": 17
        }
      ]
    },
    {
      "cell_type": "markdown",
      "source": [
        "- 데이터 샘플링\n",
        "  - 훈련데이터 1000개, 테스트데이터 300개"
      ],
      "metadata": {
        "id": "-_R_Tyz4oiDf"
      }
    },
    {
      "cell_type": "code",
      "source": [
        "X_train = X_train[:1000, :]\n",
        "y_train = y_train[:1000]\n",
        "X_test = X_test[:300, :]\n",
        "y_test = y_test[:300]\n",
        "\n",
        "X_train.shape, y_train.shape, X_test.shape, y_test.shape"
      ],
      "metadata": {
        "colab": {
          "base_uri": "https://localhost:8080/"
        },
        "id": "Kf6VnFBtn8Zm",
        "outputId": "abcb7b1f-c656-4b05-e8ed-e04209c9b4ef"
      },
      "execution_count": 18,
      "outputs": [
        {
          "output_type": "execute_result",
          "data": {
            "text/plain": [
              "((1000, 28, 28), (1000,), (300, 28, 28), (300,))"
            ]
          },
          "metadata": {},
          "execution_count": 18
        }
      ]
    },
    {
      "cell_type": "markdown",
      "source": [
        "- 라벨 데이터 확인"
      ],
      "metadata": {
        "id": "QDGnr-RLpi7C"
      }
    },
    {
      "cell_type": "code",
      "source": [
        "import pandas as pd\n",
        "\n",
        "display(pd.Series(y_train).unique())\n",
        "display(pd.Series(y_test).unique())"
      ],
      "metadata": {
        "colab": {
          "base_uri": "https://localhost:8080/",
          "height": 53
        },
        "id": "JudgGir5n8cX",
        "outputId": "896d7a50-48e2-4664-c421-42b89c214b4d"
      },
      "execution_count": 19,
      "outputs": [
        {
          "output_type": "display_data",
          "data": {
            "text/plain": [
              "array([9, 0, 3, 2, 7, 5, 1, 6, 4, 8], dtype=uint8)"
            ]
          },
          "metadata": {}
        },
        {
          "output_type": "display_data",
          "data": {
            "text/plain": [
              "array([9, 2, 1, 6, 4, 5, 7, 3, 8, 0], dtype=uint8)"
            ]
          },
          "metadata": {}
        }
      ]
    },
    {
      "cell_type": "markdown",
      "source": [
        "- 이미지 확인"
      ],
      "metadata": {
        "id": "5bCS_OGmqF8L"
      }
    },
    {
      "cell_type": "code",
      "source": [
        "import matplotlib.pyplot as plt\n",
        "\n",
        "plt.figure(figsize=(2,2))\n",
        "plt.imshow(X_train[204], cmap=\"gray\")\n",
        "plt.show()"
      ],
      "metadata": {
        "colab": {
          "base_uri": "https://localhost:8080/",
          "height": 217
        },
        "id": "pg93i16an8e2",
        "outputId": "4e2e7622-490a-4e63-b117-c535b9ba7416"
      },
      "execution_count": 20,
      "outputs": [
        {
          "output_type": "display_data",
          "data": {
            "text/plain": [
              "<Figure size 200x200 with 1 Axes>"
            ],
            "image/png": "[encoded data removed]"
          },
          "metadata": {}
        }
      ]
    },
    {
      "cell_type": "markdown",
      "source": [
        "- y를 원핫 인코딩"
      ],
      "metadata": {
        "id": "X8dTN3oCrQpG"
      }
    },
    {
      "cell_type": "code",
      "source": [
        "# 라벨값이 숫자인 경우에만 사용\n",
        "from tensorflow.keras.utils import to_categorical\n",
        "\n",
        "y_train = to_categorical(y_train)\n",
        "y_test = to_categorical(y_test)\n",
        "\n",
        "y_train.shape, y_test.shape"
      ],
      "metadata": {
        "colab": {
          "base_uri": "https://localhost:8080/"
        },
        "id": "9ajNZgX7n8hf",
        "outputId": "e3fcea45-d170-4b0e-c609-e24ccf775b2e"
      },
      "execution_count": 21,
      "outputs": [
        {
          "output_type": "execute_result",
          "data": {
            "text/plain": [
              "((1000, 10), (300, 10))"
            ]
          },
          "metadata": {},
          "execution_count": 21
        }
      ]
    },
    {
      "cell_type": "markdown",
      "source": [
        "- Xception 모델을 전이학습하기 위해 특성데이터를 변환\n",
        "  - 흑백(1)을 칼라 채널(3)로 변환 → 흑백이미지를 복사해서 3개의 채널로 변환\n",
        "  - 28x28 크기를 244x244 크기로 변환"
      ],
      "metadata": {
        "id": "6Ax_sSHqsWQo"
      }
    },
    {
      "cell_type": "code",
      "source": [
        "from PIL import Image\n",
        "import numpy as np\n",
        "\n",
        "X_train_list = []\n",
        "X_test_list = []\n",
        "\n",
        "for i in range(len(X_train)) :\n",
        "  # 배열을 이미지로 변환해서 크기를 변경\n",
        "  X_train_resize = Image.fromarray(X_train[i]).resize((244, 244))\n",
        "  # 변경된 이미지를 배열로 변환해서 리스트에 저장\n",
        "  X_train_list.append(np.array(X_train_resize))\n",
        "\n",
        "for i in range(len(X_test)) :\n",
        "  X_test_resize = Image.fromarray(X_test[i]).resize((244, 244))\n",
        "  X_test_list.append(np.array(X_test_resize))\n",
        ""
      ],
      "metadata": {
        "id": "GcaDE5lmn8jy"
      },
      "execution_count": 22,
      "outputs": []
    },
    {
      "cell_type": "code",
      "source": [
        "# 학습데이터로 만들기 위해 배열로 변환\n",
        "\n",
        "X_train2 = np.array(X_train_list)\n",
        "X_test2 = np.array(X_test_list)\n",
        "\n",
        "X_train2.shape, X_test2.shape"
      ],
      "metadata": {
        "colab": {
          "base_uri": "https://localhost:8080/"
        },
        "id": "nxq3tfi-s1Fo",
        "outputId": "2561b79f-af0e-4298-8868-2621ed3bca5a"
      },
      "execution_count": 23,
      "outputs": [
        {
          "output_type": "execute_result",
          "data": {
            "text/plain": [
              "((1000, 244, 244), (300, 244, 244))"
            ]
          },
          "metadata": {},
          "execution_count": 23
        }
      ]
    },
    {
      "cell_type": "markdown",
      "source": [
        "- 색상 차원 추가"
      ],
      "metadata": {
        "id": "DWN2Xrlvv3c7"
      }
    },
    {
      "cell_type": "code",
      "source": [
        "X_train2 = X_train2.reshape(X_train2.shape[0], 244, 244, 1)\n",
        "X_test2 = X_test2.reshape(X_test2.shape[0], 244, 244, 1)\n",
        "\n",
        "X_train2.shape, X_test2.shape"
      ],
      "metadata": {
        "colab": {
          "base_uri": "https://localhost:8080/"
        },
        "id": "ckEEDoKls1NX",
        "outputId": "f3dd162c-c29b-4e04-b850-ff095c19e549"
      },
      "execution_count": 24,
      "outputs": [
        {
          "output_type": "execute_result",
          "data": {
            "text/plain": [
              "((1000, 244, 244, 1), (300, 244, 244, 1))"
            ]
          },
          "metadata": {},
          "execution_count": 24
        }
      ]
    },
    {
      "cell_type": "markdown",
      "source": [
        "- 칼라 차원으로 변환 (색상 차원을 3으로 변경)"
      ],
      "metadata": {
        "id": "xo3PXwgBJBsU"
      }
    },
    {
      "cell_type": "code",
      "source": [
        "# X_train2를 3번 반복 (복사), z축 방향으로 추가\n",
        "X_train3 = np.repeat(X_train2, 3, axis=3)\n",
        "X_test3 = np.repeat(X_test2, 3, axis=3)\n",
        "\n",
        "X_train3.shape, X_test3.shape"
      ],
      "metadata": {
        "colab": {
          "base_uri": "https://localhost:8080/"
        },
        "id": "f8xNd0GYs1QR",
        "outputId": "b7b4f4a9-976a-46d0-be66-b4a02f981991"
      },
      "execution_count": 25,
      "outputs": [
        {
          "output_type": "execute_result",
          "data": {
            "text/plain": [
              "((1000, 244, 244, 3), (300, 244, 244, 3))"
            ]
          },
          "metadata": {},
          "execution_count": 25
        }
      ]
    },
    {
      "cell_type": "markdown",
      "source": [
        "- 신경망 설계\n",
        "  - Sequential() : 신경망을 생성 (초기화)\n",
        "  - Conv2D() : 특성 추출기\n",
        "    - 입력 이미지에 필터를(3x3) 씌워서 컨볼루션을 사용하여 특성을 추출\n",
        "    - 입력 특성의 수와 출력 수(퍼셉트론의 수)를 결정, 활성화 함수(relu)\n",
        "  - MaxPooling2D() : 크기 줄이는 기능\n",
        "    - 정해진 행과 열의 크기의 배열에서 대표값을 뽑는 기능\n",
        "    - 대표값으로 가장 큰 값을 사용\n",
        "  - Flatten() : Conv2는 다차원 데이터인데 Dense는 1차원 데이터이므로 데이터를 차원 변환 (N → 1)\n",
        "  - Dense() : 분류기 (학습)\n",
        "    - 신경망층을 정의 (출력수 (퍼셉트론의 수), 활성화함수)"
      ],
      "metadata": {
        "id": "vw9N5snFJjdA"
      }
    },
    {
      "cell_type": "code",
      "source": [
        "from operator import add\n",
        "from tensorflow.keras.models import Sequential\n",
        "from tensorflow.keras.layers import Conv2D, MaxPooling2D, Flatten, Dense\n",
        "\n",
        "model1 = Sequential()\n",
        "\n",
        "# 특성 추출기\n",
        "# add() : 신경망에 층을 추가\n",
        "# filters : 현재 층의 퍼셉트론의 수 (출력의 개수) - 맘대로 설정\n",
        "# kernel_size : 필터의 크기 (3x3, 5x5)\n",
        "# input_shape : 입력의 데이터의 크기 (가로, 세로, 색상), 첫 번째 층에만 표기\n",
        "# activation : 활성화 함수(relu)\n",
        "model1.add(Conv2D(filters=32, kernel_size=(3, 3), input_shape=(244, 244, 3), activation=\"relu\"))\n",
        "# pool_size : (2, 2) → 4배로 축소\n",
        "model1.add(MaxPooling2D(pool_size=(2,2)))\n",
        "model1.add(Conv2D(128, (3,3), activation=\"relu\"))\n",
        "model1.add(MaxPooling2D((2,2)))\n",
        "model1.add(Conv2D(256, (3,3), activation=\"relu\"))\n",
        "model1.add(MaxPooling2D((2,2)))\n",
        "model1.add(Conv2D(512, (3,3), activation=\"relu\"))\n",
        "model1.add(MaxPooling2D((2,2)))\n",
        "\n",
        "model1.add(Flatten())\n",
        "\n",
        "# 분류기 (Full Connected Layer : FCL)\n",
        "# 은닉층 (특성 추출 & 선택)\n",
        "# units : 퍼셉트론의 수 (출력수) - 맘대로 설정\n",
        "model1.add(Dense(units=512, activation=\"relu\"))\n",
        "\n",
        "# 출력층\n",
        "# units : 라벨데이터의 갯수\n",
        "# activation :\n",
        "#    - 회귀분석 : linear or 생략\n",
        "#    - 이진분류 : sigmoid (단, 원핫인코딩을 했다면 softmax)\n",
        "#    - 다진분류 : softmax\n",
        "model1.add(Dense(units=10, activation=\"softmax\"))\n",
        "\n",
        "model1.summary()"
      ],
      "metadata": {
        "colab": {
          "base_uri": "https://localhost:8080/"
        },
        "id": "1L5RopuRJlkc",
        "outputId": "7b089e67-11dd-4c02-eab1-1c86b0c38250"
      },
      "execution_count": 27,
      "outputs": [
        {
          "output_type": "stream",
          "name": "stdout",
          "text": [
            "Model: \"sequential_2\"\n",
            "_________________________________________________________________\n",
            " Layer (type)                Output Shape              Param #   \n",
            "=================================================================\n",
            " conv2d_4 (Conv2D)           (None, 242, 242, 32)      896       \n",
            "                                                                 \n",
            " max_pooling2d_4 (MaxPoolin  (None, 121, 121, 32)      0         \n",
            " g2D)                                                            \n",
            "                                                                 \n",
            " conv2d_5 (Conv2D)           (None, 119, 119, 128)     36992     \n",
            "                                                                 \n",
            " max_pooling2d_5 (MaxPoolin  (None, 59, 59, 128)       0         \n",
            " g2D)                                                            \n",
            "                                                                 \n",
            " conv2d_6 (Conv2D)           (None, 57, 57, 256)       295168    \n",
            "                                                                 \n",
            " max_pooling2d_6 (MaxPoolin  (None, 28, 28, 256)       0         \n",
            " g2D)                                                            \n",
            "                                                                 \n",
            " conv2d_7 (Conv2D)           (None, 26, 26, 512)       1180160   \n",
            "                                                                 \n",
            " max_pooling2d_7 (MaxPoolin  (None, 13, 13, 512)       0         \n",
            " g2D)                                                            \n",
            "                                                                 \n",
            " flatten_1 (Flatten)         (None, 86528)             0         \n",
            "                                                                 \n",
            " dense_2 (Dense)             (None, 512)               44302848  \n",
            "                                                                 \n",
            " dense_3 (Dense)             (None, 10)                5130      \n",
            "                                                                 \n",
            "=================================================================\n",
            "Total params: 45821194 (174.79 MB)\n",
            "Trainable params: 45821194 (174.79 MB)\n",
            "Non-trainable params: 0 (0.00 Byte)\n",
            "_________________________________________________________________\n"
          ]
        }
      ]
    },
    {
      "cell_type": "code",
      "source": [
        "model1.compile(loss=\"categorical_crossentropy\", optimizer=\"adam\", metrics=[\"accuracy\"])"
      ],
      "metadata": {
        "id": "MZi_3hySxCux"
      },
      "execution_count": 33,
      "outputs": []
    },
    {
      "cell_type": "code",
      "source": [
        "h1 = model1.fit(X_train3, y_train, epochs=20, batch_size=20, validation_data=(X_test3, y_test))"
      ],
      "metadata": {
        "colab": {
          "base_uri": "https://localhost:8080/"
        },
        "id": "MK3IbTbiSX4a",
        "outputId": "576dd071-ce10-4018-9854-7492c2ea1950"
      },
      "execution_count": 34,
      "outputs": [
        {
          "output_type": "stream",
          "name": "stdout",
          "text": [
            "Epoch 1/20\n",
            "50/50 [==============================] - 6s 91ms/step - loss: 24.0650 - accuracy: 0.6010 - val_loss: 1.1945 - val_accuracy: 0.5767\n",
            "Epoch 2/20\n",
            "50/50 [==============================] - 4s 87ms/step - loss: 0.5152 - accuracy: 0.8160 - val_loss: 0.7052 - val_accuracy: 0.7467\n",
            "Epoch 3/20\n",
            "50/50 [==============================] - 4s 81ms/step - loss: 0.3580 - accuracy: 0.8640 - val_loss: 0.6863 - val_accuracy: 0.8067\n",
            "Epoch 4/20\n",
            "50/50 [==============================] - 5s 92ms/step - loss: 0.2614 - accuracy: 0.9030 - val_loss: 0.6724 - val_accuracy: 0.8267\n",
            "Epoch 5/20\n",
            "50/50 [==============================] - 4s 88ms/step - loss: 0.2958 - accuracy: 0.9100 - val_loss: 0.6723 - val_accuracy: 0.8000\n",
            "Epoch 6/20\n",
            "50/50 [==============================] - 5s 92ms/step - loss: 0.1631 - accuracy: 0.9460 - val_loss: 0.7818 - val_accuracy: 0.8067\n",
            "Epoch 7/20\n",
            "50/50 [==============================] - 4s 88ms/step - loss: 0.1570 - accuracy: 0.9410 - val_loss: 0.9684 - val_accuracy: 0.7333\n",
            "Epoch 8/20\n",
            "50/50 [==============================] - 4s 85ms/step - loss: 0.1558 - accuracy: 0.9360 - val_loss: 0.8511 - val_accuracy: 0.7933\n",
            "Epoch 9/20\n",
            "50/50 [==============================] - 4s 83ms/step - loss: 0.1245 - accuracy: 0.9550 - val_loss: 0.7904 - val_accuracy: 0.8267\n",
            "Epoch 10/20\n",
            "50/50 [==============================] - 4s 84ms/step - loss: 0.0909 - accuracy: 0.9700 - val_loss: 1.1299 - val_accuracy: 0.7667\n",
            "Epoch 11/20\n",
            "50/50 [==============================] - 4s 84ms/step - loss: 0.0857 - accuracy: 0.9750 - val_loss: 1.0835 - val_accuracy: 0.7733\n",
            "Epoch 12/20\n",
            "50/50 [==============================] - 4s 89ms/step - loss: 0.0767 - accuracy: 0.9770 - val_loss: 1.1127 - val_accuracy: 0.8200\n",
            "Epoch 13/20\n",
            "50/50 [==============================] - 4s 84ms/step - loss: 0.0602 - accuracy: 0.9820 - val_loss: 0.9600 - val_accuracy: 0.8233\n",
            "Epoch 14/20\n",
            "50/50 [==============================] - 4s 86ms/step - loss: 0.0427 - accuracy: 0.9860 - val_loss: 1.0709 - val_accuracy: 0.8200\n",
            "Epoch 15/20\n",
            "50/50 [==============================] - 4s 85ms/step - loss: 0.0537 - accuracy: 0.9820 - val_loss: 1.0759 - val_accuracy: 0.7967\n",
            "Epoch 16/20\n",
            "50/50 [==============================] - 4s 88ms/step - loss: 0.0755 - accuracy: 0.9740 - val_loss: 1.1040 - val_accuracy: 0.8000\n",
            "Epoch 17/20\n",
            "50/50 [==============================] - 5s 96ms/step - loss: 0.0678 - accuracy: 0.9890 - val_loss: 1.3161 - val_accuracy: 0.8033\n",
            "Epoch 18/20\n",
            "50/50 [==============================] - 4s 88ms/step - loss: 0.0924 - accuracy: 0.9710 - val_loss: 1.1451 - val_accuracy: 0.8200\n",
            "Epoch 19/20\n",
            "50/50 [==============================] - 5s 92ms/step - loss: 0.0661 - accuracy: 0.9780 - val_loss: 1.1050 - val_accuracy: 0.7933\n",
            "Epoch 20/20\n",
            "50/50 [==============================] - 5s 94ms/step - loss: 0.0453 - accuracy: 0.9860 - val_loss: 1.0199 - val_accuracy: 0.8467\n"
          ]
        }
      ]
    },
    {
      "cell_type": "code",
      "source": [
        "import matplotlib.pyplot as plt\n",
        "\n",
        "acc = h1.history[\"accuracy\"]\n",
        "val_acc = h1.history[\"val_accuracy\"]\n",
        "\n",
        "ec = range(1, len(h1.history[\"accuracy\"])+1)\n",
        "\n",
        "plt.plot(ec, acc, color=\"red\", label=\"Train\")\n",
        "plt.plot(ec, val_acc, color=\"blue\", label=\"Test\")\n",
        "plt.legend()\n",
        "plt.show()"
      ],
      "metadata": {
        "colab": {
          "base_uri": "https://localhost:8080/",
          "height": 430
        },
        "id": "6OdP7H0cSX6X",
        "outputId": "1a018770-35df-479e-d36a-d3f923d6d127"
      },
      "execution_count": 35,
      "outputs": [
        {
          "output_type": "display_data",
          "data": {
            "text/plain": [
              "<Figure size 640x480 with 1 Axes>"
            ],
            "image/png": "[encoded data removed]"
          },
          "metadata": {}
        }
      ]
    },
    {
      "cell_type": "code",
      "source": [
        "# 예측\n",
        "pred = model1.predict(X_test3)\n",
        "\n",
        "print(pred[100])\n",
        "print(y_test[100])"
      ],
      "metadata": {
        "colab": {
          "base_uri": "https://localhost:8080/"
        },
        "id": "n4csZevbJiul",
        "outputId": "7e83175b-a857-4646-a1a1-b0c1d274b102"
      },
      "execution_count": 36,
      "outputs": [
        {
          "output_type": "stream",
          "name": "stdout",
          "text": [
            "10/10 [==============================] - 0s 33ms/step\n",
            "[3.46645803e-23 5.77974880e-15 2.32926512e-18 1.00000000e+00\n",
            " 9.33253808e-19 3.07827965e-22 5.66173908e-21 1.13664794e-20\n",
            " 1.93492098e-19 2.91137321e-18]\n",
            "[0. 0. 0. 1. 0. 0. 0. 0. 0. 0.]\n"
          ]
        }
      ]
    },
    {
      "cell_type": "markdown",
      "source": [
        "- Dropout()을 이용한 과적합 방지\n",
        "  - 해당 층의 퍼셉트론을 설정한 비율만큼 사용하지 않게 하는 것\n",
        "  - 반복시마다 사용하지 않는 퍼셉트론은 랜덤으로 바뀜\n",
        "  - 사용위치는 이전 파라미터의 수와 다음 파라미터의 수가 차이가 나는 곳에 배치"
      ],
      "metadata": {
        "id": "SztJ_-qGkAkS"
      }
    },
    {
      "cell_type": "code",
      "source": [
        "from tensorflow.keras.layers import Dropout\n",
        "\n",
        "model2 = Sequential()\n",
        "\n",
        "model2.add(Conv2D(filters=32, kernel_size=(3, 3), input_shape=(244, 244, 3), activation=\"relu\"))\n",
        "\n",
        "model2.add(MaxPooling2D(pool_size=(2,2)))\n",
        "model2.add(Conv2D(128, (3,3), activation=\"relu\"))\n",
        "model2.add(MaxPooling2D((2,2)))\n",
        "model2.add(Conv2D(256, (3,3), activation=\"relu\"))\n",
        "model2.add(MaxPooling2D((2,2)))\n",
        "model2.add(Conv2D(512, (3,3), activation=\"relu\"))\n",
        "model2.add(MaxPooling2D((2,2)))\n",
        "\n",
        "model2.add(Flatten())\n",
        "\n",
        "model2.add(Dropout(0.5))\n",
        "model2.add(Dense(units=512, activation=\"relu\"))\n",
        "model2.add(Dropout(0.5))\n",
        "model2.add(Dense(units=10, activation=\"softmax\"))\n",
        "\n",
        "model2.summary()"
      ],
      "metadata": {
        "colab": {
          "base_uri": "https://localhost:8080/"
        },
        "id": "FvkM6_fZs1Tl",
        "outputId": "78822cae-1e36-4a1f-eb65-5c02385cbf18"
      },
      "execution_count": 40,
      "outputs": [
        {
          "output_type": "stream",
          "name": "stdout",
          "text": [
            "Model: \"sequential_4\"\n",
            "_________________________________________________________________\n",
            " Layer (type)                Output Shape              Param #   \n",
            "=================================================================\n",
            " conv2d_12 (Conv2D)          (None, 242, 242, 32)      896       \n",
            "                                                                 \n",
            " max_pooling2d_12 (MaxPooli  (None, 121, 121, 32)      0         \n",
            " ng2D)                                                           \n",
            "                                                                 \n",
            " conv2d_13 (Conv2D)          (None, 119, 119, 128)     36992     \n",
            "                                                                 \n",
            " max_pooling2d_13 (MaxPooli  (None, 59, 59, 128)       0         \n",
            " ng2D)                                                           \n",
            "                                                                 \n",
            " conv2d_14 (Conv2D)          (None, 57, 57, 256)       295168    \n",
            "                                                                 \n",
            " max_pooling2d_14 (MaxPooli  (None, 28, 28, 256)       0         \n",
            " ng2D)                                                           \n",
            "                                                                 \n",
            " conv2d_15 (Conv2D)          (None, 26, 26, 512)       1180160   \n",
            "                                                                 \n",
            " max_pooling2d_15 (MaxPooli  (None, 13, 13, 512)       0         \n",
            " ng2D)                                                           \n",
            "                                                                 \n",
            " flatten_3 (Flatten)         (None, 86528)             0         \n",
            "                                                                 \n",
            " dropout_1 (Dropout)         (None, 86528)             0         \n",
            "                                                                 \n",
            " dense_6 (Dense)             (None, 512)               44302848  \n",
            "                                                                 \n",
            " dropout_2 (Dropout)         (None, 512)               0         \n",
            "                                                                 \n",
            " dense_7 (Dense)             (None, 10)                5130      \n",
            "                                                                 \n",
            "=================================================================\n",
            "Total params: 45821194 (174.79 MB)\n",
            "Trainable params: 45821194 (174.79 MB)\n",
            "Non-trainable params: 0 (0.00 Byte)\n",
            "_________________________________________________________________\n"
          ]
        }
      ]
    },
    {
      "cell_type": "code",
      "source": [
        "model2.compile(loss=\"categorical_crossentropy\", optimizer=\"adam\", metrics=[\"accuracy\"])"
      ],
      "metadata": {
        "id": "ShBB1gRjkwRB"
      },
      "execution_count": 41,
      "outputs": []
    },
    {
      "cell_type": "code",
      "source": [
        "h2 = model2.fit(X_train3, y_train, epochs=20, batch_size=20, validation_data=(X_test3, y_test))"
      ],
      "metadata": {
        "colab": {
          "base_uri": "https://localhost:8080/"
        },
        "id": "5gu6mF9xkwUS",
        "outputId": "4a9a67c0-af41-48a9-bc24-4bbd56db1660"
      },
      "execution_count": 42,
      "outputs": [
        {
          "output_type": "stream",
          "name": "stdout",
          "text": [
            "Epoch 1/20\n",
            "50/50 [==============================] - 7s 103ms/step - loss: 16.1867 - accuracy: 0.5940 - val_loss: 0.7472 - val_accuracy: 0.7667\n",
            "Epoch 2/20\n",
            "50/50 [==============================] - 4s 85ms/step - loss: 0.7006 - accuracy: 0.7470 - val_loss: 0.6282 - val_accuracy: 0.7667\n",
            "Epoch 3/20\n",
            "50/50 [==============================] - 4s 85ms/step - loss: 0.5880 - accuracy: 0.8050 - val_loss: 0.6343 - val_accuracy: 0.7867\n",
            "Epoch 4/20\n",
            "50/50 [==============================] - 4s 86ms/step - loss: 0.4310 - accuracy: 0.8430 - val_loss: 0.6542 - val_accuracy: 0.7667\n",
            "Epoch 5/20\n",
            "50/50 [==============================] - 4s 85ms/step - loss: 0.4114 - accuracy: 0.8530 - val_loss: 0.5711 - val_accuracy: 0.8000\n",
            "Epoch 6/20\n",
            "50/50 [==============================] - 4s 85ms/step - loss: 0.3412 - accuracy: 0.8790 - val_loss: 0.5133 - val_accuracy: 0.8300\n",
            "Epoch 7/20\n",
            "50/50 [==============================] - 4s 87ms/step - loss: 0.2931 - accuracy: 0.9030 - val_loss: 0.5604 - val_accuracy: 0.8233\n",
            "Epoch 8/20\n",
            "50/50 [==============================] - 4s 86ms/step - loss: 0.2648 - accuracy: 0.9000 - val_loss: 0.5703 - val_accuracy: 0.8133\n",
            "Epoch 9/20\n",
            "50/50 [==============================] - 4s 86ms/step - loss: 0.2431 - accuracy: 0.9110 - val_loss: 0.6620 - val_accuracy: 0.8200\n",
            "Epoch 10/20\n",
            "50/50 [==============================] - 5s 92ms/step - loss: 0.2751 - accuracy: 0.9090 - val_loss: 0.8487 - val_accuracy: 0.8000\n",
            "Epoch 11/20\n",
            "50/50 [==============================] - 4s 86ms/step - loss: 0.2767 - accuracy: 0.9150 - val_loss: 0.6632 - val_accuracy: 0.7967\n",
            "Epoch 12/20\n",
            "50/50 [==============================] - 4s 85ms/step - loss: 0.1959 - accuracy: 0.9330 - val_loss: 0.7892 - val_accuracy: 0.8167\n",
            "Epoch 13/20\n",
            "50/50 [==============================] - 4s 86ms/step - loss: 0.1941 - accuracy: 0.9380 - val_loss: 0.6016 - val_accuracy: 0.7933\n",
            "Epoch 14/20\n",
            "50/50 [==============================] - 5s 94ms/step - loss: 0.1660 - accuracy: 0.9460 - val_loss: 0.6788 - val_accuracy: 0.8167\n",
            "Epoch 15/20\n",
            "50/50 [==============================] - 5s 90ms/step - loss: 0.1562 - accuracy: 0.9450 - val_loss: 0.6999 - val_accuracy: 0.8233\n",
            "Epoch 16/20\n",
            "50/50 [==============================] - 4s 86ms/step - loss: 0.1341 - accuracy: 0.9420 - val_loss: 0.6712 - val_accuracy: 0.8433\n",
            "Epoch 17/20\n",
            "50/50 [==============================] - 4s 86ms/step - loss: 0.1221 - accuracy: 0.9590 - val_loss: 0.7182 - val_accuracy: 0.8367\n",
            "Epoch 18/20\n",
            "50/50 [==============================] - 4s 85ms/step - loss: 0.1339 - accuracy: 0.9530 - val_loss: 0.6962 - val_accuracy: 0.8067\n",
            "Epoch 19/20\n",
            "50/50 [==============================] - 4s 85ms/step - loss: 0.1124 - accuracy: 0.9690 - val_loss: 0.8090 - val_accuracy: 0.8033\n",
            "Epoch 20/20\n",
            "50/50 [==============================] - 5s 91ms/step - loss: 0.1200 - accuracy: 0.9570 - val_loss: 0.7324 - val_accuracy: 0.8233\n"
          ]
        }
      ]
    },
    {
      "cell_type": "code",
      "source": [
        "import matplotlib.pyplot as plt\n",
        "\n",
        "acc = h1.history[\"accuracy\"]\n",
        "val_acc = h1.history[\"val_accuracy\"]\n",
        "\n",
        "ec = range(1, len(h1.history[\"accuracy\"])+1)\n",
        "\n",
        "plt.plot(ec, acc, color=\"red\", label=\"Train\")\n",
        "plt.plot(ec, val_acc, color=\"blue\", label=\"Test\")\n",
        "plt.legend()\n",
        "plt.show()\n",
        "\n",
        "acc2 = h2.history[\"accuracy\"]\n",
        "val_acc2 = h2.history[\"val_accuracy\"]\n",
        "\n",
        "ec2 = range(1, len(h2.history[\"accuracy\"])+1)\n",
        "\n",
        "plt.plot(ec2, acc2, color=\"green\", label=\"Train2\")\n",
        "plt.plot(ec2, val_acc2, color=\"black\", label=\"Test2\")\n",
        "plt.legend()\n",
        "plt.show()"
      ],
      "metadata": {
        "colab": {
          "base_uri": "https://localhost:8080/",
          "height": 843
        },
        "id": "l-GwD7W9kwXz",
        "outputId": "98b46445-def7-4e7f-a48b-2c49ee43b14f"
      },
      "execution_count": 43,
      "outputs": [
        {
          "output_type": "display_data",
          "data": {
            "text/plain": [
              "<Figure size 640x480 with 1 Axes>"
            ],
            "image/png": "[encoded data removed]"
          },
          "metadata": {}
        },
        {
          "output_type": "display_data",
          "data": {
            "text/plain": [
              "<Figure size 640x480 with 1 Axes>"
            ],
            "image/png": "[encoded data removed]"
          },
          "metadata": {}
        }
      ]
    }
  ]
}