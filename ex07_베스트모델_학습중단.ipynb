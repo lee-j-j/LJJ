{
  "nbformat": 4,
  "nbformat_minor": 0,
  "metadata": {
    "colab": {
      "provenance": [],
      "mount_file_id": "1tioMftRCixVb-XivyZenOBGhA1p-F9Nj",
      "authorship_tag": "ABX9TyOvguCs/xsa/lZUdFpwAQDX",
      "include_colab_link": true
    },
    "kernelspec": {
      "name": "python3",
      "display_name": "Python 3"
    },
    "language_info": {
      "name": "python"
    }
  },
  "cells": [
    {
      "cell_type": "markdown",
      "metadata": {
        "id": "view-in-github",
        "colab_type": "text"
      },
      "source": [
        "<a href=\"https://colab.research.google.com/github/lee-j-j/LJJ/blob/main/ex07_%EB%B2%A0%EC%8A%A4%ED%8A%B8%EB%AA%A8%EB%8D%B8_%ED%95%99%EC%8A%B5%EC%A4%91%EB%8B%A8.ipynb\" target=\"_parent\"><img src=\"https://colab.research.google.com/assets/colab-badge.svg\" alt=\"Open In Colab\"/></a>"
      ]
    },
    {
      "cell_type": "markdown",
      "source": [
        "### 손글씨 데이터셋을 이용한 다진 분류"
      ],
      "metadata": {
        "id": "euAoIK0UqCCn"
      }
    },
    {
      "cell_type": "markdown",
      "source": [
        "- 데이터 다운로드"
      ],
      "metadata": {
        "id": "Q5k92nlwwch5"
      }
    },
    {
      "cell_type": "code",
      "source": [
        "from tensorflow.keras.datasets import mnist\n",
        "\n",
        "(X_train, y_train), (X_test, y_test) = mnist.load_data()\n",
        "\n",
        "X_train.shape, y_train.shape, X_test.shape, y_test.shape"
      ],
      "metadata": {
        "colab": {
          "base_uri": "https://localhost:8080/"
        },
        "id": "K4cT28vUwi9j",
        "outputId": "4ad86bcc-3771-4c78-dfc8-d42cf2984ccc"
      },
      "execution_count": 26,
      "outputs": [
        {
          "output_type": "execute_result",
          "data": {
            "text/plain": [
              "((60000, 28, 28), (60000,), (10000, 28, 28), (10000,))"
            ]
          },
          "metadata": {},
          "execution_count": 26
        }
      ]
    },
    {
      "cell_type": "markdown",
      "source": [
        "_ 손글씨 숫자 데이터셋\n",
        "  - 훈련데이터 6만개, 테스트데이터 1만개\n",
        "  - 각각의 데이터는 28x28 크기로 구성\n",
        "  - 흑백 이미지 (0 ~ 255 값으로 구성)\n",
        "  - 배경은 검정색, 글씨는 흰색으로 구성\n",
        "    - 정보는 글씨에 담겨 있기 때문에 값이 큰 수(흰색)를 할당"
      ],
      "metadata": {
        "id": "o3gV9fTTxIFm"
      }
    },
    {
      "cell_type": "code",
      "source": [
        "# 데이터 하나 확인\n",
        "import matplotlib.pyplot as plt\n",
        "\n",
        "digit = X_train[644]\n",
        "label = y_train[644]\n",
        "\n",
        "plt.imshow(digit, cmap = \"gray\")\n",
        "plt.show()\n",
        "\n",
        "print(label)"
      ],
      "metadata": {
        "colab": {
          "base_uri": "https://localhost:8080/",
          "height": 448
        },
        "id": "mefLSFSZwjB1",
        "outputId": "fc6cb2f3-ea9d-48db-fb21-977889cf3074"
      },
      "execution_count": 27,
      "outputs": [
        {
          "output_type": "display_data",
          "data": {
            "text/plain": [
              "<Figure size 640x480 with 1 Axes>"
            ],
            "image/png": "[encoded data removed]"
          },
          "metadata": {}
        },
        {
          "output_type": "stream",
          "name": "stdout",
          "text": [
            "7\n"
          ]
        }
      ]
    },
    {
      "cell_type": "markdown",
      "source": [
        "- 데이터 전처리\n",
        "  - 2차원 데이터를 1차원 데이터로 변환 (DNN층의 입력이 1차원이므로)\n",
        "  - 데이터 값의 범위를 0 ~ 255에서 0 ~ 1로 변환 (정규화 : Scaling) - 과적합이 줄어듦"
      ],
      "metadata": {
        "id": "rgTdErRGzagy"
      }
    },
    {
      "cell_type": "code",
      "source": [
        "from numpy import float32\n",
        "# 2차원 → 1차원\n",
        "X_train = X_train.reshape(60000, 28*28)\n",
        "X_test = X_test.reshape(10000, 28*28)\n",
        "\n",
        "# 스케일링\n",
        "X_train = X_train.astype(\"float32\") / 255\n",
        "X_test = X_test.astype(\"float32\") / 255\n",
        "\n",
        "X_train.shape, X_test.shape"
      ],
      "metadata": {
        "colab": {
          "base_uri": "https://localhost:8080/"
        },
        "id": "BUMtyUKgwjEl",
        "outputId": "79445cd3-08d6-4f06-e07b-c07c4a0852a2"
      },
      "execution_count": 28,
      "outputs": [
        {
          "output_type": "execute_result",
          "data": {
            "text/plain": [
              "((60000, 784), (10000, 784))"
            ]
          },
          "metadata": {},
          "execution_count": 28
        }
      ]
    },
    {
      "cell_type": "markdown",
      "source": [
        "- y를 원핫인코딩\n",
        "  - to_categorical() : 라벨인코딩이 숫자로 되어있는 경우에만 사용 가능\n",
        "  - 숫자가 아닌 경우 pandas의 get_dummies로 원핫인코딩"
      ],
      "metadata": {
        "id": "NGij20kf5Mk_"
      }
    },
    {
      "cell_type": "code",
      "source": [
        "from tensorflow.keras.utils import to_categorical\n",
        "\n",
        "y_train_en = to_categorical(y_train)\n",
        "y_test_en = to_categorical(y_test)\n",
        "\n",
        "y_train_en.shape, y_test.shape"
      ],
      "metadata": {
        "colab": {
          "base_uri": "https://localhost:8080/"
        },
        "id": "iQh2TMf-wjHO",
        "outputId": "f7bc6a10-61ff-4d88-98cb-b4c7d536fcae"
      },
      "execution_count": 29,
      "outputs": [
        {
          "output_type": "execute_result",
          "data": {
            "text/plain": [
              "((60000, 10), (10000,))"
            ]
          },
          "metadata": {},
          "execution_count": 29
        }
      ]
    },
    {
      "cell_type": "code",
      "source": [
        "# 라벨값 확인\n",
        "import pandas as pd\n",
        "\n",
        "print(pd.Series(y_train).unique())\n",
        "print(pd.Series(y_test).unique())"
      ],
      "metadata": {
        "colab": {
          "base_uri": "https://localhost:8080/"
        },
        "id": "oxlpQTEGwjKK",
        "outputId": "c19f98b5-c5b4-4595-b0b9-2d96980d6375"
      },
      "execution_count": 30,
      "outputs": [
        {
          "output_type": "stream",
          "name": "stdout",
          "text": [
            "[5 0 4 1 9 2 3 6 7 8]\n",
            "[7 2 1 0 4 9 5 6 3 8]\n"
          ]
        }
      ]
    },
    {
      "cell_type": "markdown",
      "source": [],
      "metadata": {
        "id": "cPh4_95n7tgn"
      }
    },
    {
      "cell_type": "code",
      "source": [
        "from tensorflow.keras.models import Sequential\n",
        "from tensorflow.keras.layers import Dense\n",
        "\n",
        "model1 = Sequential()\n",
        "\n",
        "# 입력층\n",
        "model1.add(Dense(units = 512, input_dim = 28*28, activation = \"sigmoid\")) # input_dim : 28*28 = X_train.shape[1]\n",
        "\n",
        "# 은닉층\n",
        "model1.add(Dense(units = 256, input_dim = 28*28, activation = \"sigmoid\"))\n",
        "\n",
        "# 출력층\n",
        "model1.add(Dense(units = 10, activation = \"softmax\")) # 원핫인코딩 → activation은 softmax  # units : 10 = y_train_en.shape[1]\n",
        "\n",
        "model1.summary()"
      ],
      "metadata": {
        "colab": {
          "base_uri": "https://localhost:8080/"
        },
        "id": "ZLn3TKNI6SFG",
        "outputId": "5ccf84e0-7162-4d53-a5a7-9222a9f52a68"
      },
      "execution_count": 31,
      "outputs": [
        {
          "output_type": "stream",
          "name": "stdout",
          "text": [
            "Model: \"sequential_2\"\n",
            "_________________________________________________________________\n",
            " Layer (type)                Output Shape              Param #   \n",
            "=================================================================\n",
            " dense_6 (Dense)             (None, 512)               401920    \n",
            "                                                                 \n",
            " dense_7 (Dense)             (None, 256)               131328    \n",
            "                                                                 \n",
            " dense_8 (Dense)             (None, 10)                2570      \n",
            "                                                                 \n",
            "=================================================================\n",
            "Total params: 535,818\n",
            "Trainable params: 535,818\n",
            "Non-trainable params: 0\n",
            "_________________________________________________________________\n"
          ]
        }
      ]
    },
    {
      "cell_type": "markdown",
      "source": [
        "- 컴파일"
      ],
      "metadata": {
        "id": "sur7xnd9-xCO"
      }
    },
    {
      "cell_type": "code",
      "source": [
        "model1.compile(loss = \"categorical_crossentropy\", optimizer = \"adam\", metrics = [\"accuracy\"])"
      ],
      "metadata": {
        "id": "9MPZGp1x6SH3"
      },
      "execution_count": 32,
      "outputs": []
    },
    {
      "cell_type": "markdown",
      "source": [
        "# 베스트 모델 저장과 학습중단\n",
        "\n",
        "- 베스트 모델 저장 : 가장 좋은 모델이 마지막 모델이 아닐 수도 있음 → 학습 중간에 가장 좋은 모델을 저장해야 함\n",
        "  - ModelCheckpoint()\n",
        "\n",
        "- 학습중단 (Early Stopping) : 학습이 더 이상 좋아지지 않는 경우에 반복을 중지\n",
        "  - EarlyStopping()"
      ],
      "metadata": {
        "id": "0MCXPEj3if9e"
      }
    },
    {
      "cell_type": "code",
      "source": [
        "%cd /content/drive/MyDrive/Colab Notebooks/사물지능A"
      ],
      "metadata": {
        "id": "8JGftubzMwk8",
        "colab": {
          "base_uri": "https://localhost:8080/"
        },
        "outputId": "59b1547e-99d9-4ace-db8c-a0b5994ab4e6"
      },
      "execution_count": 33,
      "outputs": [
        {
          "output_type": "stream",
          "name": "stdout",
          "text": [
            "/content/drive/MyDrive/Colab Notebooks/사물지능A\n"
          ]
        }
      ]
    },
    {
      "cell_type": "code",
      "source": [
        "from tensorflow.keras.callbacks import ModelCheckpoint, EarlyStopping\n",
        "import os\n",
        "\n",
        "# 모델을 저장하기 위한 폴더\n",
        "model_dir = \"./model/\"\n",
        "\n",
        "# 폴더가 없다면 생성\n",
        "if not os.path.exists(model_dir) :\n",
        "  os.mkdir(model_dir)\n",
        "\n",
        "# 저장할 파일명 설정\n",
        "# epoch:03d : epoch 값을 정수형(d) 세자리(03) 값으로 출력\n",
        "# val_accuracy:,3f : val_accuracy 값을 실수형(f) 소수점 3째자리(.3)까지 출력\n",
        "# 파일명 예시 : best_010_0.83_0.02.hdf5\n",
        "file_path = model_dir + \"best_{epoch:03d}_{accuracy:.3f}_{val_accuracy:3f}.hdf5\"\n",
        "\n",
        "# filepath : 저장할 파일명\n",
        "# monitor : 베스트모델 판단 기준\n",
        "# save_best_only : True이면 더 나은 모델만 저장, False이면 전부 다 저장\n",
        "ms = ModelCheckpoint(filepath = file_path, monitor = \"val_accuracy\", save_best_only=True)\n",
        "\n",
        "# monitor : 학습중단 기준 (베스트모델의 판단 기준과 동일하게 설정)\n",
        "# patience : 더 나은 모델이 아니더라도 몇 epoch를 더 대기할 것인지 설정\n",
        "es = EarlyStopping(monitor = \"val_accuracy\", patience=10)"
      ],
      "metadata": {
        "id": "2GnbSDSujORd"
      },
      "execution_count": 34,
      "outputs": []
    },
    {
      "cell_type": "markdown",
      "source": [
        "- 학습"
      ],
      "metadata": {
        "id": "6XoZoMzS_cDx"
      }
    },
    {
      "cell_type": "code",
      "source": [
        "# batch_size : 한 번 학습할 때 사용할 데이터의 수\n",
        "# validation_data : 검증 데이터 셋 설정\n",
        "h1 = model1.fit(X_train, y_train_en, epochs = 10, batch_size = 100, validation_data=(X_test, y_test_en), callbacks = [ms, es])"
      ],
      "metadata": {
        "colab": {
          "base_uri": "https://localhost:8080/"
        },
        "id": "ZslKnusB6SKl",
        "outputId": "f20a2831-0e67-4868-edc6-764f543880e2"
      },
      "execution_count": 35,
      "outputs": [
        {
          "output_type": "stream",
          "name": "stdout",
          "text": [
            "Epoch 1/10\n",
            "600/600 [==============================] - 10s 14ms/step - loss: 0.4594 - accuracy: 0.8738 - val_loss: 0.2363 - val_accuracy: 0.9291\n",
            "Epoch 2/10\n",
            "600/600 [==============================] - 10s 17ms/step - loss: 0.2036 - accuracy: 0.9397 - val_loss: 0.1626 - val_accuracy: 0.9508\n",
            "Epoch 3/10\n",
            "600/600 [==============================] - 9s 15ms/step - loss: 0.1447 - accuracy: 0.9562 - val_loss: 0.1273 - val_accuracy: 0.9614\n",
            "Epoch 4/10\n",
            "600/600 [==============================] - 9s 15ms/step - loss: 0.1081 - accuracy: 0.9679 - val_loss: 0.1048 - val_accuracy: 0.9684\n",
            "Epoch 5/10\n",
            "600/600 [==============================] - 10s 16ms/step - loss: 0.0819 - accuracy: 0.9758 - val_loss: 0.0907 - val_accuracy: 0.9708\n",
            "Epoch 6/10\n",
            "600/600 [==============================] - 8s 14ms/step - loss: 0.0642 - accuracy: 0.9807 - val_loss: 0.0864 - val_accuracy: 0.9743\n",
            "Epoch 7/10\n",
            "600/600 [==============================] - 10s 16ms/step - loss: 0.0506 - accuracy: 0.9845 - val_loss: 0.0750 - val_accuracy: 0.9769\n",
            "Epoch 8/10\n",
            "600/600 [==============================] - 10s 17ms/step - loss: 0.0401 - accuracy: 0.9877 - val_loss: 0.0677 - val_accuracy: 0.9788\n",
            "Epoch 9/10\n",
            "600/600 [==============================] - 8s 13ms/step - loss: 0.0319 - accuracy: 0.9902 - val_loss: 0.0741 - val_accuracy: 0.9773\n",
            "Epoch 10/10\n",
            "600/600 [==============================] - 10s 17ms/step - loss: 0.0250 - accuracy: 0.9926 - val_loss: 0.0689 - val_accuracy: 0.9792\n"
          ]
        }
      ]
    },
    {
      "cell_type": "code",
      "source": [],
      "metadata": {
        "id": "hdJ2oQv1jz8m"
      },
      "execution_count": 35,
      "outputs": []
    },
    {
      "cell_type": "code",
      "source": [],
      "metadata": {
        "id": "A3DPTXe0jz_J"
      },
      "execution_count": 35,
      "outputs": []
    },
    {
      "cell_type": "code",
      "source": [],
      "metadata": {
        "id": "KgFa-Ei0j0Cw"
      },
      "execution_count": 35,
      "outputs": []
    },
    {
      "cell_type": "code",
      "source": [],
      "metadata": {
        "id": "pMKUqgsvj0Gn"
      },
      "execution_count": 35,
      "outputs": []
    }
  ]
}