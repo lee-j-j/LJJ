{
  "cells": [
    {
      "cell_type": "markdown",
      "metadata": {
        "id": "view-in-github",
        "colab_type": "text"
      },
      "source": [
        "<a href=\"https://colab.research.google.com/github/lee-j-j/LJJ/blob/main/ex11_%EB%94%A5%EB%9F%AC%EB%8B%9D_%EC%A0%84%EC%B2%B4_%EB%B3%B5%EC%8A%B5.ipynb\" target=\"_parent\"><img src=\"https://colab.research.google.com/assets/colab-badge.svg\" alt=\"Open In Colab\"/></a>"
      ]
    },
    {
      "cell_type": "code",
      "source": [
        "%cd /content/drive/MyDrive/Colab Notebooks"
      ],
      "metadata": {
        "colab": {
          "base_uri": "https://localhost:8080/"
        },
        "id": "H4GtD32YSLNu",
        "outputId": "7bb11e82-f6c8-4e2b-d229-057ce2a6b75c"
      },
      "execution_count": 1,
      "outputs": [
        {
          "output_type": "stream",
          "name": "stdout",
          "text": [
            "/content/drive/MyDrive/Colab Notebooks\n"
          ]
        }
      ]
    },
    {
      "cell_type": "markdown",
      "metadata": {
        "id": "euAoIK0UqCCn"
      },
      "source": [
        "### 데이터 로딩\n"
      ]
    },
    {
      "cell_type": "code",
      "execution_count": 45,
      "metadata": {
        "id": "K4cT28vUwi9j"
      },
      "outputs": [],
      "source": [
        "from tensorflow.keras.datasets import mnist # 손글씨 데이터"
      ]
    },
    {
      "cell_type": "code",
      "source": [
        "(X_train, y_train), (X_test, y_test) = mnist.load_data()"
      ],
      "metadata": {
        "id": "GxMZjNUlS3R1"
      },
      "execution_count": 46,
      "outputs": []
    },
    {
      "cell_type": "code",
      "source": [
        "# 데이터 크기 확인\n",
        "print(X_train.shape, y_train.shape)\n",
        "print(X_test.shape, y_test.shape)"
      ],
      "metadata": {
        "colab": {
          "base_uri": "https://localhost:8080/"
        },
        "id": "h7nIS-hUTILu",
        "outputId": "428977e0-42a5-42fd-93c6-1a7c7106336b"
      },
      "execution_count": 47,
      "outputs": [
        {
          "output_type": "stream",
          "name": "stdout",
          "text": [
            "(60000, 28, 28) (60000,)\n",
            "(10000, 28, 28) (10000,)\n"
          ]
        }
      ]
    },
    {
      "cell_type": "code",
      "source": [
        "np.unique(y_train)\n",
        "# 클래스 : 10개 → 다중 분류"
      ],
      "metadata": {
        "colab": {
          "base_uri": "https://localhost:8080/"
        },
        "id": "LbIqTqgcVMAl",
        "outputId": "d5fa4b61-a9ee-44fa-915e-eb1f991fbc94"
      },
      "execution_count": 48,
      "outputs": [
        {
          "output_type": "execute_result",
          "data": {
            "text/plain": [
              "array([0, 1, 2, 3, 4, 5, 6, 7, 8, 9], dtype=uint8)"
            ]
          },
          "metadata": {},
          "execution_count": 48
        }
      ]
    },
    {
      "cell_type": "code",
      "source": [
        "# 라이브러리 불러오기\n",
        "import numpy as np\n",
        "import pandas as pd\n",
        "import matplotlib.pyplot as plt\n",
        "\n",
        "# 딥러닝 라이브러리 불러오기\n",
        "from tensorflow.keras.models import Sequential\n",
        "from tensorflow.keras.layers import Dense, InputLayer, Flatten\n",
        "# Dense : 퍼셉트론을 표현하는 클래스\n",
        "# InputLayer : 입력층을 설정\n",
        "# Flatten : 2차원 사진데이터 → 1차원으로 변경\n",
        "\n",
        "# 최적화 알고리즘 불러오기\n",
        "from tensorflow.keras.optimizers import Adam"
      ],
      "metadata": {
        "id": "KrwxXqJcUXRV"
      },
      "execution_count": 49,
      "outputs": []
    },
    {
      "cell_type": "code",
      "source": [
        "# relu + Adam 조합으로 모델링\n",
        "# 1. 신경망 모델 설계\n",
        "# 뼈대\n",
        "model = Sequential()\n",
        "# 입력층\n",
        "model.add(InputLayer(input_shape = (28, 28)))\n",
        "# 사진데이터(2차원 → 1차원), 선형모델을 돌리기 위함\n",
        "model.add(Flatten())\n",
        "# 중간층(은닉층) : units (64, 128, 256, 128, 64)\n",
        "model.add(Dense(units = 64, activation = \"relu\"))\n",
        "model.add(Dense(units = 128, activation = \"relu\"))\n",
        "model.add(Dense(units = 256, activation = \"relu\"))\n",
        "model.add(Dense(units = 128, activation = \"relu\"))\n",
        "model.add(Dense(units = 64, activation = \"relu\"))\n",
        "# 출력층 (출력데이터 형태에 따라 다르게 설정)\n",
        "model.add(Dense(units = 10, activation = \"softmax\"))\n",
        "# 2. 학습방법, 평가방법 설정 (compile / learning_rate = 0.001, 평가지표 : 정확도)\n",
        "model.compile(loss = \"sparse_categorical_crossentropy\",  # sparse_categorical_crossentropy : y데이터를 자동으로 확률값으로 변경하여 비교(원핫인코딩X)\n",
        "              optimizer = Adam(learning_rate = 0.001), metrics = [\"accuracy\"])\n",
        "# 3. 학습 (반복횟수 : 20, 검증데이터 : 0.2)\n",
        "model.fit(X_train, y_train, epochs = 20, validation_split = 0.2)"
      ],
      "metadata": {
        "colab": {
          "base_uri": "https://localhost:8080/"
        },
        "id": "oWy3GqCXTdpe",
        "outputId": "d8048cd8-4036-4bd9-baae-856adc037810"
      },
      "execution_count": 51,
      "outputs": [
        {
          "output_type": "stream",
          "name": "stdout",
          "text": [
            "Epoch 1/20\n",
            "1500/1500 [==============================] - 9s 5ms/step - loss: 0.5253 - accuracy: 0.8634 - val_loss: 0.2505 - val_accuracy: 0.9278\n",
            "Epoch 2/20\n",
            "1500/1500 [==============================] - 7s 5ms/step - loss: 0.2108 - accuracy: 0.9394 - val_loss: 0.1712 - val_accuracy: 0.9516\n",
            "Epoch 3/20\n",
            "1500/1500 [==============================] - 8s 5ms/step - loss: 0.1600 - accuracy: 0.9542 - val_loss: 0.1810 - val_accuracy: 0.9497\n",
            "Epoch 4/20\n",
            "1500/1500 [==============================] - 6s 4ms/step - loss: 0.1429 - accuracy: 0.9602 - val_loss: 0.1464 - val_accuracy: 0.9626\n",
            "Epoch 5/20\n",
            "1500/1500 [==============================] - 7s 5ms/step - loss: 0.1212 - accuracy: 0.9653 - val_loss: 0.1435 - val_accuracy: 0.9606\n",
            "Epoch 6/20\n",
            "1500/1500 [==============================] - 6s 4ms/step - loss: 0.1097 - accuracy: 0.9693 - val_loss: 0.1484 - val_accuracy: 0.9615\n",
            "Epoch 7/20\n",
            "1500/1500 [==============================] - 7s 5ms/step - loss: 0.0947 - accuracy: 0.9746 - val_loss: 0.1749 - val_accuracy: 0.9582\n",
            "Epoch 8/20\n",
            "1500/1500 [==============================] - 7s 4ms/step - loss: 0.0917 - accuracy: 0.9748 - val_loss: 0.1378 - val_accuracy: 0.9660\n",
            "Epoch 9/20\n",
            "1500/1500 [==============================] - 6s 4ms/step - loss: 0.0814 - accuracy: 0.9767 - val_loss: 0.1352 - val_accuracy: 0.9665\n",
            "Epoch 10/20\n",
            "1500/1500 [==============================] - 7s 5ms/step - loss: 0.0802 - accuracy: 0.9780 - val_loss: 0.1831 - val_accuracy: 0.9602\n",
            "Epoch 11/20\n",
            "1500/1500 [==============================] - 6s 4ms/step - loss: 0.0716 - accuracy: 0.9813 - val_loss: 0.1409 - val_accuracy: 0.9695\n",
            "Epoch 12/20\n",
            "1500/1500 [==============================] - 8s 5ms/step - loss: 0.0726 - accuracy: 0.9807 - val_loss: 0.1506 - val_accuracy: 0.9667\n",
            "Epoch 13/20\n",
            "1500/1500 [==============================] - 6s 4ms/step - loss: 0.0596 - accuracy: 0.9833 - val_loss: 0.1651 - val_accuracy: 0.9675\n",
            "Epoch 14/20\n",
            "1500/1500 [==============================] - 8s 5ms/step - loss: 0.0627 - accuracy: 0.9839 - val_loss: 0.2139 - val_accuracy: 0.9606\n",
            "Epoch 15/20\n",
            "1500/1500 [==============================] - 6s 4ms/step - loss: 0.0658 - accuracy: 0.9833 - val_loss: 0.1725 - val_accuracy: 0.9573\n",
            "Epoch 16/20\n",
            "1500/1500 [==============================] - 8s 5ms/step - loss: 0.0520 - accuracy: 0.9858 - val_loss: 0.1763 - val_accuracy: 0.9687\n",
            "Epoch 17/20\n",
            "1500/1500 [==============================] - 6s 4ms/step - loss: 0.0635 - accuracy: 0.9845 - val_loss: 0.1554 - val_accuracy: 0.9675\n",
            "Epoch 18/20\n",
            "1500/1500 [==============================] - 8s 5ms/step - loss: 0.0501 - accuracy: 0.9869 - val_loss: 0.1319 - val_accuracy: 0.9718\n",
            "Epoch 19/20\n",
            "1500/1500 [==============================] - 6s 4ms/step - loss: 0.0539 - accuracy: 0.9860 - val_loss: 0.1812 - val_accuracy: 0.9687\n",
            "Epoch 20/20\n",
            "1500/1500 [==============================] - 9s 6ms/step - loss: 0.0428 - accuracy: 0.9890 - val_loss: 0.1550 - val_accuracy: 0.9710\n"
          ]
        },
        {
          "output_type": "execute_result",
          "data": {
            "text/plain": [
              "<keras.src.callbacks.History at 0x7b75ba61e080>"
            ]
          },
          "metadata": {},
          "execution_count": 51
        }
      ]
    },
    {
      "cell_type": "code",
      "source": [
        "from tensorflow.keras.callbacks import ModelCheckpoint, EarlyStopping\n",
        "# 모델 중간 저장 : 과대적합 되지 않은 일반화된 모델 저장\n",
        "# 모델 중간 멈춤 : 더 이상 모델의 성능이 증가하지 않을 때 조기 중단"
      ],
      "metadata": {
        "id": "ycqq_IM_jfI3"
      },
      "execution_count": 53,
      "outputs": []
    },
    {
      "cell_type": "code",
      "source": [
        "# 경로설정\n",
        "model_path = '/content/drive/MyDrive/Colab Notebooks/사물지능A/data/best_model/best_{epoch:02d}_{val_accuracy:0.2f}.hdf5'\n",
        "mc = ModelCheckpoint(filepath = model_path,\n",
        "                verbose = 1, # 로그출력 : 1, 안할 때 : 0\n",
        "                save_best_only = True,\n",
        "                monitor = 'val_accuracy')"
      ],
      "metadata": {
        "id": "V_eWpDqDj0b3"
      },
      "execution_count": 56,
      "outputs": []
    },
    {
      "cell_type": "code",
      "source": [
        "# 학습 조기중단\n",
        "es = EarlyStopping(monitor = 'val_accuracy',\n",
        "              verbose = 1,\n",
        "              patience = 10)"
      ],
      "metadata": {
        "id": "tyOCYz3blEfb"
      },
      "execution_count": 57,
      "outputs": []
    },
    {
      "cell_type": "code",
      "source": [
        "# relu + Adam 조합으로 모델링\n",
        "# 1. 신경망 모델 설계\n",
        "# 뼈대\n",
        "model = Sequential()\n",
        "# 입력층\n",
        "model.add(InputLayer(input_shape = (28, 28)))\n",
        "# 사진데이터(2차원 → 1차원), 선형모델을 돌리기 위함\n",
        "model.add(Flatten())\n",
        "# 중간층(은닉층) : units (64, 128, 256, 128, 64)\n",
        "model.add(Dense(units = 64, activation = \"relu\"))\n",
        "model.add(Dense(units = 128, activation = \"relu\"))\n",
        "model.add(Dense(units = 256, activation = \"relu\"))\n",
        "model.add(Dense(units = 128, activation = \"relu\"))\n",
        "model.add(Dense(units = 64, activation = \"relu\"))\n",
        "# 출력층 (출력데이터 형태에 따라 다르게 설정)\n",
        "model.add(Dense(units = 10, activation = \"softmax\"))\n",
        "# 2. 학습방법, 평가방법 설정 (compile / learning_rate = 0.001, 평가지표 : 정확도)\n",
        "model.compile(loss = \"sparse_categorical_crossentropy\",  # sparse_categorical_crossentropy : y데이터를 자동으로 확률값으로 변경하여 비교(원핫인코딩X)\n",
        "              optimizer = Adam(learning_rate = 0.001), metrics = [\"accuracy\"])\n",
        "# 3. 학습 (반복횟수 : 20, 검증데이터 : 0.2)\n",
        "model.fit(X_train, y_train, epochs = 1000, validation_split = 0.2, batch_size = 64, callbacks=[mc, es])"
      ],
      "metadata": {
        "colab": {
          "base_uri": "https://localhost:8080/"
        },
        "id": "klXpmSnBlYc4",
        "outputId": "8fc33c96-29f6-4492-e29c-402a5039c61b"
      },
      "execution_count": 58,
      "outputs": [
        {
          "output_type": "stream",
          "name": "stdout",
          "text": [
            "Epoch 1/1000\n",
            "743/750 [============================>.] - ETA: 0s - loss: 0.6921 - accuracy: 0.8368\n",
            "Epoch 1: val_accuracy improved from -inf to 0.91983, saving model to /content/drive/MyDrive/Colab Notebooks/사물지능A/data/best_model/best_01_0.92.hdf5\n",
            "750/750 [==============================] - 7s 8ms/step - loss: 0.6884 - accuracy: 0.8376 - val_loss: 0.2894 - val_accuracy: 0.9198\n",
            "Epoch 2/1000\n",
            " 22/750 [..............................] - ETA: 3s - loss: 0.2257 - accuracy: 0.9375"
          ]
        },
        {
          "output_type": "stream",
          "name": "stderr",
          "text": [
            "/usr/local/lib/python3.10/dist-packages/keras/src/engine/training.py:3000: UserWarning: You are saving your model as an HDF5 file via `model.save()`. This file format is considered legacy. We recommend using instead the native Keras format, e.g. `model.save('my_model.keras')`.\n",
            "  saving_api.save_model(\n"
          ]
        },
        {
          "output_type": "stream",
          "name": "stdout",
          "text": [
            "746/750 [============================>.] - ETA: 0s - loss: 0.2209 - accuracy: 0.9357\n",
            "Epoch 2: val_accuracy improved from 0.91983 to 0.94467, saving model to /content/drive/MyDrive/Colab Notebooks/사물지능A/data/best_model/best_02_0.94.hdf5\n",
            "750/750 [==============================] - 5s 6ms/step - loss: 0.2205 - accuracy: 0.9359 - val_loss: 0.2005 - val_accuracy: 0.9447\n",
            "Epoch 3/1000\n",
            "748/750 [============================>.] - ETA: 0s - loss: 0.1588 - accuracy: 0.9532\n",
            "Epoch 3: val_accuracy improved from 0.94467 to 0.95025, saving model to /content/drive/MyDrive/Colab Notebooks/사물지능A/data/best_model/best_03_0.95.hdf5\n",
            "750/750 [==============================] - 5s 7ms/step - loss: 0.1587 - accuracy: 0.9532 - val_loss: 0.1701 - val_accuracy: 0.9503\n",
            "Epoch 4/1000\n",
            "745/750 [============================>.] - ETA: 0s - loss: 0.1271 - accuracy: 0.9628\n",
            "Epoch 4: val_accuracy improved from 0.95025 to 0.95042, saving model to /content/drive/MyDrive/Colab Notebooks/사물지능A/data/best_model/best_04_0.95.hdf5\n",
            "750/750 [==============================] - 5s 7ms/step - loss: 0.1272 - accuracy: 0.9627 - val_loss: 0.1870 - val_accuracy: 0.9504\n",
            "Epoch 5/1000\n",
            "747/750 [============================>.] - ETA: 0s - loss: 0.1119 - accuracy: 0.9672\n",
            "Epoch 5: val_accuracy improved from 0.95042 to 0.96192, saving model to /content/drive/MyDrive/Colab Notebooks/사물지능A/data/best_model/best_05_0.96.hdf5\n",
            "750/750 [==============================] - 4s 6ms/step - loss: 0.1118 - accuracy: 0.9673 - val_loss: 0.1382 - val_accuracy: 0.9619\n",
            "Epoch 6/1000\n",
            "749/750 [============================>.] - ETA: 0s - loss: 0.0980 - accuracy: 0.9708\n",
            "Epoch 6: val_accuracy improved from 0.96192 to 0.96200, saving model to /content/drive/MyDrive/Colab Notebooks/사물지능A/data/best_model/best_06_0.96.hdf5\n",
            "750/750 [==============================] - 5s 7ms/step - loss: 0.0981 - accuracy: 0.9708 - val_loss: 0.1420 - val_accuracy: 0.9620\n",
            "Epoch 7/1000\n",
            "744/750 [============================>.] - ETA: 0s - loss: 0.0889 - accuracy: 0.9740\n",
            "Epoch 7: val_accuracy did not improve from 0.96200\n",
            "750/750 [==============================] - 5s 7ms/step - loss: 0.0891 - accuracy: 0.9740 - val_loss: 0.1526 - val_accuracy: 0.9608\n",
            "Epoch 8/1000\n",
            "744/750 [============================>.] - ETA: 0s - loss: 0.0822 - accuracy: 0.9759\n",
            "Epoch 8: val_accuracy did not improve from 0.96200\n",
            "750/750 [==============================] - 4s 6ms/step - loss: 0.0823 - accuracy: 0.9758 - val_loss: 0.1637 - val_accuracy: 0.9572\n",
            "Epoch 9/1000\n",
            "749/750 [============================>.] - ETA: 0s - loss: 0.0783 - accuracy: 0.9776\n",
            "Epoch 9: val_accuracy improved from 0.96200 to 0.96567, saving model to /content/drive/MyDrive/Colab Notebooks/사물지능A/data/best_model/best_09_0.97.hdf5\n",
            "750/750 [==============================] - 5s 7ms/step - loss: 0.0782 - accuracy: 0.9776 - val_loss: 0.1368 - val_accuracy: 0.9657\n",
            "Epoch 10/1000\n",
            "742/750 [============================>.] - ETA: 0s - loss: 0.0651 - accuracy: 0.9811\n",
            "Epoch 10: val_accuracy did not improve from 0.96567\n",
            "750/750 [==============================] - 5s 6ms/step - loss: 0.0653 - accuracy: 0.9810 - val_loss: 0.1344 - val_accuracy: 0.9644\n",
            "Epoch 11/1000\n",
            "745/750 [============================>.] - ETA: 0s - loss: 0.0607 - accuracy: 0.9823\n",
            "Epoch 11: val_accuracy did not improve from 0.96567\n",
            "750/750 [==============================] - 4s 6ms/step - loss: 0.0606 - accuracy: 0.9824 - val_loss: 0.1659 - val_accuracy: 0.9632\n",
            "Epoch 12/1000\n",
            "744/750 [============================>.] - ETA: 0s - loss: 0.0660 - accuracy: 0.9806\n",
            "Epoch 12: val_accuracy did not improve from 0.96567\n",
            "750/750 [==============================] - 5s 7ms/step - loss: 0.0660 - accuracy: 0.9806 - val_loss: 0.1525 - val_accuracy: 0.9622\n",
            "Epoch 13/1000\n",
            "741/750 [============================>.] - ETA: 0s - loss: 0.0526 - accuracy: 0.9843\n",
            "Epoch 13: val_accuracy did not improve from 0.96567\n",
            "750/750 [==============================] - 7s 10ms/step - loss: 0.0528 - accuracy: 0.9842 - val_loss: 0.1721 - val_accuracy: 0.9632\n",
            "Epoch 14/1000\n",
            "748/750 [============================>.] - ETA: 0s - loss: 0.0498 - accuracy: 0.9852\n",
            "Epoch 14: val_accuracy improved from 0.96567 to 0.96775, saving model to /content/drive/MyDrive/Colab Notebooks/사물지능A/data/best_model/best_14_0.97.hdf5\n",
            "750/750 [==============================] - 5s 6ms/step - loss: 0.0499 - accuracy: 0.9852 - val_loss: 0.1486 - val_accuracy: 0.9678\n",
            "Epoch 15/1000\n",
            "745/750 [============================>.] - ETA: 0s - loss: 0.0517 - accuracy: 0.9854\n",
            "Epoch 15: val_accuracy did not improve from 0.96775\n",
            "750/750 [==============================] - 5s 7ms/step - loss: 0.0517 - accuracy: 0.9854 - val_loss: 0.1461 - val_accuracy: 0.9670\n",
            "Epoch 16/1000\n",
            "748/750 [============================>.] - ETA: 0s - loss: 0.0441 - accuracy: 0.9868\n",
            "Epoch 16: val_accuracy improved from 0.96775 to 0.96825, saving model to /content/drive/MyDrive/Colab Notebooks/사물지능A/data/best_model/best_16_0.97.hdf5\n",
            "750/750 [==============================] - 5s 7ms/step - loss: 0.0442 - accuracy: 0.9868 - val_loss: 0.1432 - val_accuracy: 0.9682\n",
            "Epoch 17/1000\n",
            "743/750 [============================>.] - ETA: 0s - loss: 0.0456 - accuracy: 0.9872\n",
            "Epoch 17: val_accuracy improved from 0.96825 to 0.96858, saving model to /content/drive/MyDrive/Colab Notebooks/사물지능A/data/best_model/best_17_0.97.hdf5\n",
            "750/750 [==============================] - 4s 6ms/step - loss: 0.0458 - accuracy: 0.9872 - val_loss: 0.1513 - val_accuracy: 0.9686\n",
            "Epoch 18/1000\n",
            "750/750 [==============================] - ETA: 0s - loss: 0.0448 - accuracy: 0.9873\n",
            "Epoch 18: val_accuracy improved from 0.96858 to 0.96900, saving model to /content/drive/MyDrive/Colab Notebooks/사물지능A/data/best_model/best_18_0.97.hdf5\n",
            "750/750 [==============================] - 5s 7ms/step - loss: 0.0448 - accuracy: 0.9873 - val_loss: 0.1340 - val_accuracy: 0.9690\n",
            "Epoch 19/1000\n",
            "748/750 [============================>.] - ETA: 0s - loss: 0.0439 - accuracy: 0.9881\n",
            "Epoch 19: val_accuracy did not improve from 0.96900\n",
            "750/750 [==============================] - 5s 7ms/step - loss: 0.0439 - accuracy: 0.9881 - val_loss: 0.1449 - val_accuracy: 0.9682\n",
            "Epoch 20/1000\n",
            "750/750 [==============================] - ETA: 0s - loss: 0.0371 - accuracy: 0.9894\n",
            "Epoch 20: val_accuracy did not improve from 0.96900\n",
            "750/750 [==============================] - 5s 6ms/step - loss: 0.0371 - accuracy: 0.9894 - val_loss: 0.1800 - val_accuracy: 0.9640\n",
            "Epoch 21/1000\n",
            "747/750 [============================>.] - ETA: 0s - loss: 0.0410 - accuracy: 0.9892\n",
            "Epoch 21: val_accuracy improved from 0.96900 to 0.96933, saving model to /content/drive/MyDrive/Colab Notebooks/사물지능A/data/best_model/best_21_0.97.hdf5\n",
            "750/750 [==============================] - 5s 7ms/step - loss: 0.0410 - accuracy: 0.9892 - val_loss: 0.1710 - val_accuracy: 0.9693\n",
            "Epoch 22/1000\n",
            "749/750 [============================>.] - ETA: 0s - loss: 0.0420 - accuracy: 0.9886\n",
            "Epoch 22: val_accuracy improved from 0.96933 to 0.96992, saving model to /content/drive/MyDrive/Colab Notebooks/사물지능A/data/best_model/best_22_0.97.hdf5\n",
            "750/750 [==============================] - 5s 7ms/step - loss: 0.0420 - accuracy: 0.9886 - val_loss: 0.1625 - val_accuracy: 0.9699\n",
            "Epoch 23/1000\n",
            "748/750 [============================>.] - ETA: 0s - loss: 0.0308 - accuracy: 0.9914\n",
            "Epoch 23: val_accuracy did not improve from 0.96992\n",
            "750/750 [==============================] - 4s 6ms/step - loss: 0.0308 - accuracy: 0.9914 - val_loss: 0.1903 - val_accuracy: 0.9681\n",
            "Epoch 24/1000\n",
            "750/750 [==============================] - ETA: 0s - loss: 0.0360 - accuracy: 0.9904\n",
            "Epoch 24: val_accuracy did not improve from 0.96992\n",
            "750/750 [==============================] - 5s 7ms/step - loss: 0.0360 - accuracy: 0.9904 - val_loss: 0.1891 - val_accuracy: 0.9643\n",
            "Epoch 25/1000\n",
            "747/750 [============================>.] - ETA: 0s - loss: 0.0295 - accuracy: 0.9919\n",
            "Epoch 25: val_accuracy did not improve from 0.96992\n",
            "750/750 [==============================] - 5s 7ms/step - loss: 0.0294 - accuracy: 0.9919 - val_loss: 0.2009 - val_accuracy: 0.9672\n",
            "Epoch 26/1000\n",
            "749/750 [============================>.] - ETA: 0s - loss: 0.0328 - accuracy: 0.9909\n",
            "Epoch 26: val_accuracy improved from 0.96992 to 0.97058, saving model to /content/drive/MyDrive/Colab Notebooks/사물지능A/data/best_model/best_26_0.97.hdf5\n",
            "750/750 [==============================] - 5s 6ms/step - loss: 0.0329 - accuracy: 0.9908 - val_loss: 0.1700 - val_accuracy: 0.9706\n",
            "Epoch 27/1000\n",
            "748/750 [============================>.] - ETA: 0s - loss: 0.0296 - accuracy: 0.9922\n",
            "Epoch 27: val_accuracy did not improve from 0.97058\n",
            "750/750 [==============================] - 5s 7ms/step - loss: 0.0296 - accuracy: 0.9922 - val_loss: 0.2010 - val_accuracy: 0.9694\n",
            "Epoch 28/1000\n",
            "750/750 [==============================] - ETA: 0s - loss: 0.0326 - accuracy: 0.9914\n",
            "Epoch 28: val_accuracy did not improve from 0.97058\n",
            "750/750 [==============================] - 5s 7ms/step - loss: 0.0326 - accuracy: 0.9914 - val_loss: 0.2134 - val_accuracy: 0.9641\n",
            "Epoch 29/1000\n",
            "746/750 [============================>.] - ETA: 0s - loss: 0.0277 - accuracy: 0.9924\n",
            "Epoch 29: val_accuracy improved from 0.97058 to 0.97342, saving model to /content/drive/MyDrive/Colab Notebooks/사물지능A/data/best_model/best_29_0.97.hdf5\n",
            "750/750 [==============================] - 5s 6ms/step - loss: 0.0276 - accuracy: 0.9924 - val_loss: 0.1758 - val_accuracy: 0.9734\n",
            "Epoch 30/1000\n",
            "749/750 [============================>.] - ETA: 0s - loss: 0.0244 - accuracy: 0.9933\n",
            "Epoch 30: val_accuracy did not improve from 0.97342\n",
            "750/750 [==============================] - 5s 7ms/step - loss: 0.0244 - accuracy: 0.9933 - val_loss: 0.1709 - val_accuracy: 0.9732\n",
            "Epoch 31/1000\n",
            "740/750 [============================>.] - ETA: 0s - loss: 0.0315 - accuracy: 0.9920\n",
            "Epoch 31: val_accuracy did not improve from 0.97342\n",
            "750/750 [==============================] - 5s 7ms/step - loss: 0.0312 - accuracy: 0.9921 - val_loss: 0.2009 - val_accuracy: 0.9692\n",
            "Epoch 32/1000\n",
            "744/750 [============================>.] - ETA: 0s - loss: 0.0350 - accuracy: 0.9910\n",
            "Epoch 32: val_accuracy did not improve from 0.97342\n",
            "750/750 [==============================] - 5s 6ms/step - loss: 0.0349 - accuracy: 0.9910 - val_loss: 0.1586 - val_accuracy: 0.9724\n",
            "Epoch 33/1000\n",
            "745/750 [============================>.] - ETA: 0s - loss: 0.0248 - accuracy: 0.9936\n",
            "Epoch 33: val_accuracy did not improve from 0.97342\n",
            "750/750 [==============================] - 6s 7ms/step - loss: 0.0247 - accuracy: 0.9937 - val_loss: 0.1928 - val_accuracy: 0.9660\n",
            "Epoch 34/1000\n",
            "747/750 [============================>.] - ETA: 0s - loss: 0.0205 - accuracy: 0.9943\n",
            "Epoch 34: val_accuracy did not improve from 0.97342\n",
            "750/750 [==============================] - 5s 7ms/step - loss: 0.0205 - accuracy: 0.9943 - val_loss: 0.2066 - val_accuracy: 0.9724\n",
            "Epoch 35/1000\n",
            "746/750 [============================>.] - ETA: 0s - loss: 0.0237 - accuracy: 0.9943\n",
            "Epoch 35: val_accuracy did not improve from 0.97342\n",
            "750/750 [==============================] - 5s 6ms/step - loss: 0.0240 - accuracy: 0.9942 - val_loss: 0.1940 - val_accuracy: 0.9722\n",
            "Epoch 36/1000\n",
            "748/750 [============================>.] - ETA: 0s - loss: 0.0321 - accuracy: 0.9925\n",
            "Epoch 36: val_accuracy did not improve from 0.97342\n",
            "750/750 [==============================] - 6s 9ms/step - loss: 0.0322 - accuracy: 0.9925 - val_loss: 0.1735 - val_accuracy: 0.9707\n",
            "Epoch 37/1000\n",
            "750/750 [==============================] - ETA: 0s - loss: 0.0276 - accuracy: 0.9938\n",
            "Epoch 37: val_accuracy did not improve from 0.97342\n",
            "750/750 [==============================] - 4s 6ms/step - loss: 0.0276 - accuracy: 0.9938 - val_loss: 0.1935 - val_accuracy: 0.9698\n",
            "Epoch 38/1000\n",
            "740/750 [============================>.] - ETA: 0s - loss: 0.0237 - accuracy: 0.9939\n",
            "Epoch 38: val_accuracy did not improve from 0.97342\n",
            "750/750 [==============================] - 5s 6ms/step - loss: 0.0237 - accuracy: 0.9939 - val_loss: 0.2478 - val_accuracy: 0.9699\n",
            "Epoch 39/1000\n",
            "750/750 [==============================] - ETA: 0s - loss: 0.0241 - accuracy: 0.9943\n",
            "Epoch 39: val_accuracy did not improve from 0.97342\n",
            "750/750 [==============================] - 6s 8ms/step - loss: 0.0241 - accuracy: 0.9943 - val_loss: 0.1842 - val_accuracy: 0.9719\n",
            "Epoch 39: early stopping\n"
          ]
        },
        {
          "output_type": "execute_result",
          "data": {
            "text/plain": [
              "<keras.src.callbacks.History at 0x7b75ba5196c0>"
            ]
          },
          "metadata": {},
          "execution_count": 58
        }
      ]
    },
    {
      "cell_type": "code",
      "source": [
        "# 베스트 모델 불러오기\n",
        "from tensorflow.keras.models import load_model\n",
        "best_model = load_model('경로')"
      ],
      "metadata": {
        "id": "oZfF5jF9mfy_"
      },
      "execution_count": null,
      "outputs": []
    },
    {
      "cell_type": "code",
      "source": [
        "# 4. 평가\n",
        "model.evaluate(X_test, y_test)"
      ],
      "metadata": {
        "colab": {
          "base_uri": "https://localhost:8080/"
        },
        "id": "3rtbtKLVhy6c",
        "outputId": "f49bd647-3281-4c3b-b70a-d65e748b5c8a"
      },
      "execution_count": 52,
      "outputs": [
        {
          "output_type": "stream",
          "name": "stdout",
          "text": [
            "313/313 [==============================] - 1s 2ms/step - loss: 0.1415 - accuracy: 0.9708\n"
          ]
        },
        {
          "output_type": "execute_result",
          "data": {
            "text/plain": [
              "[0.14145556092262268, 0.97079998254776]"
            ]
          },
          "metadata": {},
          "execution_count": 52
        }
      ]
    },
    {
      "cell_type": "code",
      "source": [
        "from tensorflow.keras.utils import to_categorical\n",
        "y_train_oh = to_categorical(y_train)\n",
        "y_test_oh = to_categorical(y_test)\n",
        "\n",
        "# loss 함수를 sparse_categorical_crossentropy로 쓰면 이렇게 안해도 됨"
      ],
      "metadata": {
        "id": "eZKxs0ypVgDK"
      },
      "execution_count": 40,
      "outputs": []
    },
    {
      "cell_type": "code",
      "source": [
        "model = Sequential()\n",
        "\n",
        "# 입력층\n",
        "model.add(Flatten(input_shape = (28,28)))\n",
        "\n",
        "# 은닉층\n",
        "model.add(Dense(units = 64, activation = \"relu\"))\n",
        "model.add(Dense(units = 128, activation = \"relu\"))\n",
        "model.add(Dense(units = 256, activation = \"relu\"))\n",
        "model.add(Dense(units = 128, activation = \"relu\"))\n",
        "model.add(Dense(units = 64, activation = \"relu\"))\n",
        "\n",
        "# 출력층\n",
        "model.add(Dense(units = 10, activation = \"softmax\"))"
      ],
      "metadata": {
        "id": "yFIi3FIZeAxr"
      },
      "execution_count": 41,
      "outputs": []
    },
    {
      "cell_type": "code",
      "source": [
        "# 컴파일\n",
        "model.compile(loss = \"categorical_crossentropy\", optimizer = \"adam\", metrics = [\"accuracy\"])"
      ],
      "metadata": {
        "id": "Te2-gW6xW5IJ"
      },
      "execution_count": 42,
      "outputs": []
    },
    {
      "cell_type": "code",
      "source": [
        "# 학습\n",
        "model.fit(X_train, y_train_oh, epochs = 20, validation_split = 0.2)"
      ],
      "metadata": {
        "colab": {
          "base_uri": "https://localhost:8080/"
        },
        "id": "cQ9CyEgsbh5n",
        "outputId": "98f0e19b-3d64-4288-c06c-37ad5e2d82a2"
      },
      "execution_count": 43,
      "outputs": [
        {
          "output_type": "stream",
          "name": "stdout",
          "text": [
            "Epoch 1/20\n",
            "1500/1500 [==============================] - 9s 5ms/step - loss: 0.6605 - accuracy: 0.8545 - val_loss: 0.3030 - val_accuracy: 0.9129\n",
            "Epoch 2/20\n",
            "1500/1500 [==============================] - 6s 4ms/step - loss: 0.2297 - accuracy: 0.9348 - val_loss: 0.1885 - val_accuracy: 0.9471\n",
            "Epoch 3/20\n",
            "1500/1500 [==============================] - 7s 5ms/step - loss: 0.1767 - accuracy: 0.9504 - val_loss: 0.1704 - val_accuracy: 0.9526\n",
            "Epoch 4/20\n",
            "1500/1500 [==============================] - 6s 4ms/step - loss: 0.1575 - accuracy: 0.9557 - val_loss: 0.1586 - val_accuracy: 0.9546\n",
            "Epoch 5/20\n",
            "1500/1500 [==============================] - 8s 5ms/step - loss: 0.1367 - accuracy: 0.9624 - val_loss: 0.1649 - val_accuracy: 0.9586\n",
            "Epoch 6/20\n",
            "1500/1500 [==============================] - 6s 4ms/step - loss: 0.1178 - accuracy: 0.9675 - val_loss: 0.1550 - val_accuracy: 0.9633\n",
            "Epoch 7/20\n",
            "1500/1500 [==============================] - 8s 5ms/step - loss: 0.1039 - accuracy: 0.9716 - val_loss: 0.1578 - val_accuracy: 0.9607\n",
            "Epoch 8/20\n",
            "1500/1500 [==============================] - 6s 4ms/step - loss: 0.0951 - accuracy: 0.9744 - val_loss: 0.1569 - val_accuracy: 0.9622\n",
            "Epoch 9/20\n",
            "1500/1500 [==============================] - 8s 5ms/step - loss: 0.0885 - accuracy: 0.9754 - val_loss: 0.1541 - val_accuracy: 0.9630\n",
            "Epoch 10/20\n",
            "1500/1500 [==============================] - 6s 4ms/step - loss: 0.0787 - accuracy: 0.9786 - val_loss: 0.1545 - val_accuracy: 0.9607\n",
            "Epoch 11/20\n",
            "1500/1500 [==============================] - 8s 5ms/step - loss: 0.0731 - accuracy: 0.9794 - val_loss: 0.1554 - val_accuracy: 0.9683\n",
            "Epoch 12/20\n",
            "1500/1500 [==============================] - 6s 4ms/step - loss: 0.0673 - accuracy: 0.9816 - val_loss: 0.1529 - val_accuracy: 0.9671\n",
            "Epoch 13/20\n",
            "1500/1500 [==============================] - 7s 5ms/step - loss: 0.0720 - accuracy: 0.9808 - val_loss: 0.1471 - val_accuracy: 0.9695\n",
            "Epoch 14/20\n",
            "1500/1500 [==============================] - 7s 4ms/step - loss: 0.0625 - accuracy: 0.9829 - val_loss: 0.1690 - val_accuracy: 0.9629\n",
            "Epoch 15/20\n",
            "1500/1500 [==============================] - 7s 4ms/step - loss: 0.0566 - accuracy: 0.9846 - val_loss: 0.1794 - val_accuracy: 0.9644\n",
            "Epoch 16/20\n",
            "1500/1500 [==============================] - 7s 5ms/step - loss: 0.0639 - accuracy: 0.9835 - val_loss: 0.1430 - val_accuracy: 0.9697\n",
            "Epoch 17/20\n",
            "1500/1500 [==============================] - 7s 5ms/step - loss: 0.0498 - accuracy: 0.9867 - val_loss: 0.1453 - val_accuracy: 0.9703\n",
            "Epoch 18/20\n",
            "1500/1500 [==============================] - 7s 5ms/step - loss: 0.0540 - accuracy: 0.9861 - val_loss: 0.1737 - val_accuracy: 0.9712\n",
            "Epoch 19/20\n",
            "1500/1500 [==============================] - 7s 5ms/step - loss: 0.0466 - accuracy: 0.9879 - val_loss: 0.1557 - val_accuracy: 0.9725\n",
            "Epoch 20/20\n",
            "1500/1500 [==============================] - 7s 5ms/step - loss: 0.0465 - accuracy: 0.9883 - val_loss: 0.2860 - val_accuracy: 0.9672\n"
          ]
        },
        {
          "output_type": "execute_result",
          "data": {
            "text/plain": [
              "<keras.src.callbacks.History at 0x7b75b78d8430>"
            ]
          },
          "metadata": {},
          "execution_count": 43
        }
      ]
    },
    {
      "cell_type": "code",
      "source": [
        "# 평가\n",
        "model.evaluate(X_test, y_test_oh)"
      ],
      "metadata": {
        "colab": {
          "base_uri": "https://localhost:8080/"
        },
        "id": "TR0XmDUcYvz_",
        "outputId": "5dff54a3-e79d-4a7c-b4a6-0a41c9e660c8"
      },
      "execution_count": 44,
      "outputs": [
        {
          "output_type": "stream",
          "name": "stdout",
          "text": [
            "313/313 [==============================] - 1s 2ms/step - loss: 0.2657 - accuracy: 0.9696\n"
          ]
        },
        {
          "output_type": "execute_result",
          "data": {
            "text/plain": [
              "[0.26567623019218445, 0.9696000218391418]"
            ]
          },
          "metadata": {},
          "execution_count": 44
        }
      ]
    },
    {
      "cell_type": "code",
      "execution_count": null,
      "metadata": {
        "colab": {
          "background_save": true
        },
        "id": "t88xeCoYMwc1"
      },
      "outputs": [],
      "source": []
    },
    {
      "cell_type": "code",
      "execution_count": null,
      "metadata": {
        "colab": {
          "background_save": true
        },
        "id": "8JGftubzMwk8"
      },
      "outputs": [],
      "source": []
    }
  ],
  "metadata": {
    "colab": {
      "provenance": [],
      "mount_file_id": "1Iuk27z85nULZI2vTjMaV37GdyyWFa09q",
      "authorship_tag": "ABX9TyPTk7R8uKI5Rw1FYC9/ZymS",
      "include_colab_link": true
    },
    "kernelspec": {
      "display_name": "Python 3",
      "name": "python3"
    },
    "language_info": {
      "name": "python"
    }
  },
  "nbformat": 4,
  "nbformat_minor": 0
}